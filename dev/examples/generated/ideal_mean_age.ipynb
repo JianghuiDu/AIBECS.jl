{
 "cells": [
  {
   "outputs": [],
   "cell_type": "markdown",
   "source": [
    "# Ideal mean age"
   ],
   "metadata": {}
  },
  {
   "outputs": [],
   "cell_type": "markdown",
   "source": [
    "## The model"
   ],
   "metadata": {}
  },
  {
   "outputs": [],
   "cell_type": "markdown",
   "source": [
    "We will simulate the ideal mean age of water.\n",
    "That is, the average amount of time since a water parcel had last contact with the surface."
   ],
   "metadata": {}
  },
  {
   "outputs": [],
   "cell_type": "markdown",
   "source": [
    "### Tracer equation\n",
    "\n",
    "The ideal mean age is transported with water, is equal to $0$ at the surface, and increases by one second every second everywhere.\n",
    "In other words, the 3D field of the age, $a$, is governed by the tracer equation\n",
    "\n",
    "$$\\frac{\\partial a}{\\partial t} + \\nabla \\cdot \\left[ \\boldsymbol{u} - \\mathbf{K} \\cdot \\nabla \\right] a = 1,$$\n",
    "\n",
    "where $\\nabla \\cdot \\left[ \\boldsymbol{u} - \\mathbf{K} \\cdot \\nabla \\right]$ is a differential operator that represents the transport by the ocean circulation.\n",
    "($\\boldsymbol{u}$ is the 3D vector field for the advection and $\\mathbf{K}$ is the diffusivity matrix.)\n",
    "In the equation above, we also assume that there is the boundary condition that $a=0$ at the surface."
   ],
   "metadata": {}
  },
  {
   "outputs": [],
   "cell_type": "markdown",
   "source": [
    "### Discretized tracer equation"
   ],
   "metadata": {}
  },
  {
   "outputs": [],
   "cell_type": "markdown",
   "source": [
    "In AIBECS, the linear differential operator defined by $\\nabla \\cdot \\left[ \\boldsymbol{u} - \\mathbf{K} \\cdot \\nabla \\right]$ is approximated by a constant matrix $\\mathbf{T}$ when discretizing the continuous 3D ocean onto the model grid.\n",
    "This matrix can be small (e.g., for models with a few boxes), or large, like for the OCIM (more on the OCIM later).\n",
    "Similarly, the continuous 3D field of the age, $a$, is discretized into a column-vector, $\\boldsymbol{a}$.\n",
    "(We represent scalars in italic, vectors in bold italic, and matrices in upstraight bold.)"
   ],
   "metadata": {}
  },
  {
   "outputs": [],
   "cell_type": "markdown",
   "source": [
    "In the discrete case, we replace the boundary condition (that $a = 0$ at the surface) by imposing $\\boldsymbol{a} = 0$ in the surface layer of the model grid.\n",
    "In practice, this is done by restoring $\\boldsymbol{a}$ to $0$ with a very short timescale.\n",
    "The tracer equation thgus takes the form of\n",
    "\n",
    "$$\\frac{\\partial\\boldsymbol{a}}{\\partial t} = -\\mathbf{T} \\, \\boldsymbol{a} + 1 - \\boldsymbol{\\Lambda} \\, \\boldsymbol{a},$$\n",
    "\n",
    "where $\\boldsymbol{\\Lambda}$ is a diagonal matrix with entries equal to $1 / \\tau$ in the surface layer of the model grid and 0 otherwise.\n",
    "The timescale $\\tau$ is chosen to be very small, ensuring that $\\boldsymbol{a}$ is very close to $0$ at the surface.\n",
    "The first term represents the transport by the ocean circulation, the second term the source of 1 second per second everywhere, and the last term the fast relaxation."
   ],
   "metadata": {}
  },
  {
   "outputs": [],
   "cell_type": "markdown",
   "source": [
    "### Steady-state"
   ],
   "metadata": {}
  },
  {
   "outputs": [],
   "cell_type": "markdown",
   "source": [
    "The steady-state is the equilibrium that would be reached if we wait long enough for $a$ to not change anymore.\n",
    "Mathematically, the steady-state is also the state for which\n",
    "\n",
    "$$\\frac{\\partial a}{\\partial t} = 0.$$"
   ],
   "metadata": {}
  },
  {
   "outputs": [],
   "cell_type": "markdown",
   "source": [
    "Computationally, in the discrete case, this means that we just need to solve\n",
    "\n",
    "$$0 = -\\mathbf{T} \\, \\boldsymbol{a} + 1 - \\boldsymbol{\\Lambda} \\, \\boldsymbol{a}$$\n",
    "\n",
    "to find $\\boldsymbol{a}$.\n",
    "More specifically, we need to solve\n",
    "\n",
    "$$(\\mathbf{T} + \\boldsymbol{\\Lambda}) \\, \\boldsymbol{a} = 1.$$"
   ],
   "metadata": {}
  },
  {
   "outputs": [],
   "cell_type": "markdown",
   "source": [
    "Now that we have the equations laid down, let us chose the circulation transport matrix, $\\mathbf{T}$."
   ],
   "metadata": {}
  },
  {
   "outputs": [],
   "cell_type": "markdown",
   "source": [
    "## Using AIBECS"
   ],
   "metadata": {}
  },
  {
   "outputs": [],
   "cell_type": "markdown",
   "source": [
    "> **Note**\n",
    "> If this is the first time you are trying AIBECS, make sure you go through the prerequisites!"
   ],
   "metadata": {}
  },
  {
   "outputs": [],
   "cell_type": "markdown",
   "source": [
    "AIBECS can interpret tracer equations as long as you arrange them under the generic form:\n",
    "\n",
    "$$\\frac{\\partial \\boldsymbol{x}}{\\partial t} = \\boldsymbol{F}(\\boldsymbol{x}, \\boldsymbol{p}),$$\n",
    "\n",
    "where $\\boldsymbol{F}(\\boldsymbol{x}, \\boldsymbol{p})$ is the rate of change of the state and $\\boldsymbol{p}$ is the vector of model parameters.\n",
    "We only track the age here, so that the entire state of the system is determined by the age itself.\n",
    "In other words, here, $\\boldsymbol{x} = \\boldsymbol{a}$."
   ],
   "metadata": {}
  },
  {
   "outputs": [],
   "cell_type": "markdown",
   "source": [
    "We will use AIBECS to find the steady-state of the system.\n",
    "For AIBECS, this translates into finding the solution of $\\boldsymbol{F}(\\boldsymbol{x}, \\boldsymbol{p}) = 0$."
   ],
   "metadata": {}
  },
  {
   "outputs": [],
   "cell_type": "markdown",
   "source": [
    "We start by telling Julia that we want to use the AIBECS package via"
   ],
   "metadata": {}
  },
  {
   "outputs": [],
   "cell_type": "code",
   "source": [
    "using AIBECS"
   ],
   "metadata": {},
   "execution_count": 1
  },
  {
   "outputs": [],
   "cell_type": "markdown",
   "source": [
    "> **Note**\n",
    "> If it's the first time you are running this line, the package will need precompiling.\n",
    "> This may take a minute or two.\n",
    "> (Just be patient... Or read on while you wait!)\n",
    "\n",
    "> **Note**\n",
    "> You should see a `Warning` for the `Flatten` package — just disregard it...\n",
    "> If you get an error though, please send me a copy of the output/error message, and I will try to troubleshoot it."
   ],
   "metadata": {}
  },
  {
   "outputs": [],
   "cell_type": "markdown",
   "source": [
    "### The circulation"
   ],
   "metadata": {}
  },
  {
   "outputs": [],
   "cell_type": "markdown",
   "source": [
    "We will use the circulation output from the Ocean Circulation Inverse Model (OCIM1).\n",
    "Basically, the OCIM provides researchers and oceanographers with a big sparse matrix that represents the global ocean circulation (advection and diffusion), which allows them to efficiently simulate the transport of passive tracers, like the age.\n",
    "(For more details, see Tim DeVries's [website](https://tdevries.eri.ucsb.edu/models-and-data-products/) and references therein.)\n",
    "With AIBECS, the OCIM0.1 and OCIM1 circulations can be loaded really easily, by simply typing"
   ],
   "metadata": {}
  },
  {
   "outputs": [
    {
     "name": "stdout",
     "output_type": "stream",
     "text": [
      "Loading OCIM1  % Total    % Received % Xferd  Average Speed   Time    Time     Time  Current\n",
      "                                 Dload  Upload   Total   Spent    Left  Speed\n",
      "\r  0     0    0     0    0     0      0      0 --:--:-- --:--:-- --:--:--     0\r  0     0    0     0    0     0      0      0 --:--:-- --:--:-- --:--:--     0\r100   178  100   178    0     0    325      0 --:--:-- --:--:-- --:--:--   325\n",
      "\r  0     0    0     0    0     0      0      0 --:--:--  0:00:01 --:--:--     0\n",
      "\r  0     0    0     0    0     0      0      0 --:--:--  0:00:01 --:--:--     0\r  6 71.6M    6 4867k    0     0  2074k      0  0:00:35  0:00:02  0:00:33 5028k\r 35 71.6M   35 25.4M    0     0  7685k      0  0:00:09  0:00:03  0:00:06 12.6M\r 62 71.6M   62 45.1M    0     0  10.4M      0  0:00:06  0:00:04  0:00:02 15.2M\r 83 71.6M   83 60.1M    0     0  11.2M      0  0:00:06  0:00:05  0:00:01 15.0M\r 91 71.6M   91 65.8M    0     0  10.3M      0  0:00:06  0:00:06 --:--:-- 13.2M\r 99 71.6M   99 71.2M    0     0  9941k      0  0:00:07  0:00:07 --:--:-- 13.3M\r100 71.6M  100 71.6M    0     0  9971k      0  0:00:07  0:00:07 --:--:-- 11.6M\n",
      "┌ Warning: Checksum not provided, add to the Datadep Registration the following hash line\n",
      "│   hash = 76da39dc1845894d647149fccc1eeba0fbcb8368f85ec07f49b76f6373b2ac2f\n",
      "└ @ DataDeps /home/travis/.julia/packages/DataDeps/RYAia/src/verification.jl:44\n",
      " ✔\n",
      "┌ Info: You are about to use OCIM1 model.\n",
      "│ If you use it for research, please cite:\n",
      "│ \n",
      "│ - DeVries, T., 2014: The oceanic anthropogenic CO2 sink: Storage, air‐sea fluxes, and transports over the industrial era, Global Biogeochem. Cycles, 28, 631–647, doi:10.1002/2013GB004739.\n",
      "│ - DeVries, T. and F. Primeau, 2011: Dynamically and Observationally Constrained Estimates of Water-Mass Distributions and Ages in the Global Ocean. J. Phys. Oceanogr., 41, 2381–2401, doi:10.1175/JPO-D-10-05011.1\n",
      "│ \n",
      "│ You can find the corresponding BibTeX entries in the CITATION.bib file\n",
      "│ at the root of the AIBECS.jl package repository.\n",
      "│ (Look for the \"DeVries_Primeau_2011\" and \"DeVries_2014\" keys.)\n",
      "└ @ AIBECS.OCIM1 /home/travis/build/briochemc/AIBECS.jl/src/OCIM1.jl:53\n"
     ]
    },
    {
     "output_type": "execute_result",
     "data": {
      "text/plain": "(SparseMatrixCSC{Float64,Int64}, (200160, 200160))"
     },
     "metadata": {},
     "execution_count": 2
    }
   ],
   "cell_type": "code",
   "source": [
    "wet3D, grd, T_OCIM = AIBECS.OCIM1.load()\n",
    "typeof(T_OCIM), size(T_OCIM)"
   ],
   "metadata": {},
   "execution_count": 2
  },
  {
   "outputs": [],
   "cell_type": "markdown",
   "source": [
    "> **Note**\n",
    "> Julia may ask you to download the OCIM matrix for you, in which case you should say yes (i.e., type `y`).\n",
    "> Once downloaded, AIBECS will remember where it downloaded the file and it will only load it from your laptop.\n",
    "\n",
    "Additionally to downloading the OCIM file, the `load()` command loads 3 variables in the Julia workspace:\n",
    "- `wet3D` — a 3D array of the model grid, filled with `1`'s at \"wet\" grid boxes and `0`'s and \"land\" grid boxes.\n",
    "- `grd` — a `OceanGrid` object containing information about the 3D grid of the OCIM circulation, like the latitude, longitude, and depth of each grid boxes.\n",
    "- `T_OCIM` — the transport matrix representing advection and diffusion.\n",
    "\n",
    "The second line in command above tells you the type and the size of `T_OCIM`.\n",
    "It is a sparse matrix (CSC just means that it is stored in Compressed Sparse Column format) and is quite big!\n",
    "> **Note**\n",
    "> A sparse matrix is just a matrix with very few non-zero entries.\n",
    "> Computationally, sparse matrices are stored differently than full matrices to save memory (no need to save all those zeros), and are much faster to use too!"
   ],
   "metadata": {}
  },
  {
   "outputs": [],
   "cell_type": "markdown",
   "source": [
    "Anyway, this looks good, so let's move on with setting up the model!\n",
    "\n",
    "We have already loaded the transport matrix, `T_OCIM`, for the ocean circulation, but we must tell AIBECS that it applies to the age.\n",
    "To do that, we define a function of the parameters (although there are no parameters involved in this case, this is just the way AIBECS works for the moment)."
   ],
   "metadata": {}
  },
  {
   "outputs": [
    {
     "output_type": "execute_result",
     "data": {
      "text/plain": "T_age (generic function with 1 method)"
     },
     "metadata": {},
     "execution_count": 3
    }
   ],
   "cell_type": "code",
   "source": [
    "T_age(p) = T_OCIM"
   ],
   "metadata": {},
   "execution_count": 3
  },
  {
   "outputs": [],
   "cell_type": "markdown",
   "source": [
    "(Functions in Julia can be created in one line, just as above.)\n",
    "That's it for the circulation.\n",
    "Now, let's define the local sources and sinks."
   ],
   "metadata": {}
  },
  {
   "outputs": [],
   "cell_type": "markdown",
   "source": [
    "### The local sources and sinks"
   ],
   "metadata": {}
  },
  {
   "outputs": [],
   "cell_type": "markdown",
   "source": [
    "We will denote the age, $\\boldsymbol{a}$, by the variable `age` in Julia.\n",
    "(It's good practice to use explicit names!)\n",
    "We need to translate the local sources and sinks in our discretized state function $\\boldsymbol{F}(\\boldsymbol{x}, \\boldsymbol{p})$ into Julia code."
   ],
   "metadata": {}
  },
  {
   "outputs": [],
   "cell_type": "markdown",
   "source": [
    "#### The source"
   ],
   "metadata": {}
  },
  {
   "outputs": [],
   "cell_type": "markdown",
   "source": [
    "Remember the age increases by $1$ second every second and everywhere.\n",
    "So its source function is equal to, well, `1`! (seconds per seconds means it is unitless).\n",
    "Let's create the local source function:"
   ],
   "metadata": {}
  },
  {
   "outputs": [
    {
     "output_type": "execute_result",
     "data": {
      "text/plain": "source_age (generic function with 1 method)"
     },
     "metadata": {},
     "execution_count": 4
    }
   ],
   "cell_type": "code",
   "source": [
    "source_age(age, p) = 1"
   ],
   "metadata": {},
   "execution_count": 4
  },
  {
   "outputs": [],
   "cell_type": "markdown",
   "source": [
    "#### The sink"
   ],
   "metadata": {}
  },
  {
   "outputs": [],
   "cell_type": "markdown",
   "source": [
    "Recall that the age must also be $0$ at the surface.\n",
    "And that we implement this boundary condition by restoring the age very fast to $0$ in the surface layer.\n",
    "This will act as the sink for the age.\n",
    "But first, we need to figure out where \"the surface layer\" is.\n",
    "To do that, AIBECS can generate a number of useful constants for you.\n",
    "(You can see the list of functions by typing `varinfo(AIBECS)` at the REPL.)\n",
    "Here we will use the vector of grid box depths, `z`, which AIBECS can generate for us via"
   ],
   "metadata": {}
  },
  {
   "outputs": [
    {
     "output_type": "execute_result",
     "data": {
      "text/plain": "200160-element Array{Quantity{Float64,𝐋,Unitful.FreeUnits{(m,),𝐋,nothing}},1}:\n   18.0675569520817 m\n   18.0675569520817 m\n   18.0675569520817 m\n   18.0675569520817 m\n   18.0675569520817 m\n   18.0675569520817 m\n   18.0675569520817 m\n   18.0675569520817 m\n   18.0675569520817 m\n   18.0675569520817 m\n                    ⋮\n 5433.2531421838175 m\n 5433.2531421838175 m\n 5433.2531421838175 m\n 5433.2531421838175 m\n 5433.2531421838175 m\n 5433.2531421838175 m\n 5433.2531421838175 m\n 5433.2531421838175 m\n 5433.2531421838175 m"
     },
     "metadata": {},
     "execution_count": 5
    }
   ],
   "cell_type": "code",
   "source": [
    "z = vector_of_depths(wet3D, grd)"
   ],
   "metadata": {},
   "execution_count": 5
  },
  {
   "outputs": [],
   "cell_type": "markdown",
   "source": [
    "So what is the top layer?\n",
    "Let's investigate what's the minimum depth:"
   ],
   "metadata": {}
  },
  {
   "outputs": [
    {
     "output_type": "execute_result",
     "data": {
      "text/plain": "18.0675569520817 m"
     },
     "metadata": {},
     "execution_count": 6
    }
   ],
   "cell_type": "code",
   "source": [
    "minimum(z)"
   ],
   "metadata": {},
   "execution_count": 6
  },
  {
   "outputs": [],
   "cell_type": "markdown",
   "source": [
    "The surface layer in the OCIM grid has its center at about $18\\,$m depth.\n",
    "We can create a mask of the surface layer via `z .< 20`.\n",
    "(This will return a vector of `0`s and `1`s, depending on whether the depth, `z`, is less than `20`.)\n",
    "\n",
    "> **Note**\n",
    "> In Julia (like in MATLAB), placing a dot, `.`, in front of operators is a convenient way to do element-wise operations.\n",
    "\n",
    "Then, we implement the local sink by restoring the age to `0` with a timescale `τ`, via"
   ],
   "metadata": {}
  },
  {
   "outputs": [
    {
     "output_type": "execute_result",
     "data": {
      "text/plain": "sink_age (generic function with 1 method)"
     },
     "metadata": {},
     "execution_count": 7
    }
   ],
   "cell_type": "code",
   "source": [
    "function sink_age(age, p)\n",
    "    τ = p.τ\n",
    "    return age .* (z .< 20u\"m\") / τ\n",
    "end"
   ],
   "metadata": {},
   "execution_count": 7
  },
  {
   "outputs": [],
   "cell_type": "markdown",
   "source": [
    "> **Note**\n",
    "> Julia allows you to use unicode for your functions and variables, like for `τ`.\n",
    "\n",
    "Here, we have defined a Julia function using the `function` keyword because the sink is a bit more complicated, so that we needed two lines to define it.\n",
    "The first line unpacks the model parameters, which is just the restoring timescale, `τ`, in this case.\n",
    "We will chose the value for `τ` later."
   ],
   "metadata": {}
  },
  {
   "outputs": [],
   "cell_type": "markdown",
   "source": [
    "#### Net sources and sinks"
   ],
   "metadata": {}
  },
  {
   "outputs": [],
   "cell_type": "markdown",
   "source": [
    "The sources minus the sinks are simply defined by"
   ],
   "metadata": {}
  },
  {
   "outputs": [
    {
     "output_type": "execute_result",
     "data": {
      "text/plain": "sms_age (generic function with 1 method)"
     },
     "metadata": {},
     "execution_count": 8
    }
   ],
   "cell_type": "code",
   "source": [
    "sms_age(age, p) = source_age(age, p) .- sink_age(age, p)"
   ],
   "metadata": {},
   "execution_count": 8
  },
  {
   "outputs": [],
   "cell_type": "markdown",
   "source": [
    "#### Model parameters"
   ],
   "metadata": {}
  },
  {
   "outputs": [],
   "cell_type": "markdown",
   "source": [
    "We must define the parameters... And AIBECS comes with an API for that!"
   ],
   "metadata": {}
  },
  {
   "outputs": [
    {
     "output_type": "execute_result",
     "data": {
      "text/plain": "1×9 DataFrames.DataFrame. Omitted printing of 3 columns\n│ Row │ symbol │ value   │ unit     │ printunit │ mean_obs │ variance_obs │\n│     │ \u001b[90mSymbol\u001b[39m │ \u001b[90mFloat64\u001b[39m │ \u001b[90mUnitful…\u001b[39m │ \u001b[90mUnitful…\u001b[39m  │ \u001b[90mFloat64\u001b[39m  │ \u001b[90mFloat64\u001b[39m      │\n├─────┼────────┼─────────┼──────────┼───────────┼──────────┼──────────────┤\n│ 1   │ τ      │ 1.0     │ s        │ s         │ NaN      │ NaN          │",
      "text/html": [
       "<table class=\"data-frame\"><thead><tr><th></th><th>symbol</th><th>value</th><th>unit</th><th>printunit</th><th>mean_obs</th><th>variance_obs</th><th>optimizable</th><th>description</th></tr><tr><th></th><th>Symbol</th><th>Float64</th><th>Unitful…</th><th>Unitful…</th><th>Float64</th><th>Float64</th><th>Bool</th><th>String</th></tr></thead><tbody><p>1 rows × 9 columns (omitted printing of 1 columns)</p><tr><th>1</th><td>τ</td><td>1.0</td><td>s</td><td>s</td><td>NaN</td><td>NaN</td><td>false</td><td></td></tr></tbody></table>"
      ]
     },
     "metadata": {},
     "execution_count": 9
    }
   ],
   "cell_type": "code",
   "source": [
    "t = empty_parameter_table()    # initialize table of parameters\n",
    "add_parameter!(t, :τ, 1u\"s\")   # add the parameter we want (τ = 1s)\n",
    "initialize_Parameters_type(t, \"IdealAgeParameters\")  # Generate the parameter type\n",
    "t"
   ],
   "metadata": {},
   "execution_count": 9
  },
  {
   "outputs": [],
   "cell_type": "markdown",
   "source": [
    "Note, in particular, that we gave our parameter `τ` a unit.\n",
    "Yes, Julia comes with some nice functionality to deal with units directly!\n",
    "The lines above created a table that contains all the info for generating the parameters vector, $\\boldsymbol{p}$.\n",
    "To generate the parameters in AIBECS we do:"
   ],
   "metadata": {}
  },
  {
   "outputs": [
    {
     "output_type": "execute_result",
     "data": {
      "text/plain": "     τ = 1.00e+00 [s] (fixed)\n"
     },
     "metadata": {},
     "execution_count": 10
    }
   ],
   "cell_type": "code",
   "source": [
    "p₀ = IdealAgeParameters()"
   ],
   "metadata": {},
   "execution_count": 10
  },
  {
   "outputs": [],
   "cell_type": "markdown",
   "source": [
    "where we have used the constructor `IdealAgeParameters`, whose name we defined in the previous cell.\n",
    "Here we did not really need to create `p₀` as a parameters vector, since it has only one element, `τ`, in it.\n",
    "However, we are here to learn, and this structure and functionality comes in very handy when one deals with many parameters.\n",
    "(And as you can imagine, having all the parameters in a nice table ready for being used in a publication comes quite handy!)"
   ],
   "metadata": {}
  },
  {
   "outputs": [],
   "cell_type": "markdown",
   "source": [
    "#### State function and Jacobian"
   ],
   "metadata": {}
  },
  {
   "outputs": [],
   "cell_type": "markdown",
   "source": [
    "Similarly to `p₀`, let's create a state `x₀` to start with.\n",
    "The vector `x₀` will be our initial guess for the state.\n",
    "Let's assume that the age is `1` (seconds) everywhere (as an initial guess):"
   ],
   "metadata": {}
  },
  {
   "outputs": [
    {
     "output_type": "execute_result",
     "data": {
      "text/plain": "200160-element Array{Float64,1}:\n 1.0\n 1.0\n 1.0\n 1.0\n 1.0\n 1.0\n 1.0\n 1.0\n 1.0\n 1.0\n ⋮  \n 1.0\n 1.0\n 1.0\n 1.0\n 1.0\n 1.0\n 1.0\n 1.0\n 1.0"
     },
     "metadata": {},
     "execution_count": 11
    }
   ],
   "cell_type": "code",
   "source": [
    "nb = number_of_wet_boxes(wet3D)  # number of wet boxes\n",
    "x₀ = ones(nb)"
   ],
   "metadata": {},
   "execution_count": 11
  },
  {
   "outputs": [],
   "cell_type": "markdown",
   "source": [
    "The first line above defines the number of wet grid boxes, `nb`.\n",
    "Here, this is also the length of the state vector `x`, because there is only one tracer, `age`.\n",
    "In the second line, the `ones` function creates a vector of `1`s of the size you give it (the number of wet grid boxes, `nb`, here, which we defined earlier)."
   ],
   "metadata": {}
  },
  {
   "outputs": [],
   "cell_type": "markdown",
   "source": [
    "Finally, the last step for the set up is to define $\\boldsymbol{F}$.\n",
    "Using AIBECS, this is done via"
   ],
   "metadata": {}
  },
  {
   "outputs": [
    {
     "output_type": "execute_result",
     "data": {
      "text/plain": "200160-element Array{Float64,1}:\n  3.5883947382171576e-17\n -2.809435835428409e-16 \n  1.5274953599623277e-16\n -2.1312760453915457e-16\n -5.743646373781175e-17 \n  1.0546612697927452e-16\n -6.087469454780884e-18 \n  1.3194314441133124e-16\n  4.684425965693446e-17 \n -9.524083788424921e-17 \n  ⋮                     \n  1.0                   \n  1.0                   \n  1.0                   \n  1.0                   \n  1.0                   \n  1.0                   \n  1.0                   \n  1.0                   \n  1.0                   "
     },
     "metadata": {},
     "execution_count": 12
    }
   ],
   "cell_type": "code",
   "source": [
    "T_matrices = (T_age,)           # bundles all the transport matrices in a tuple\n",
    "sources_minus_sinks = (sms_age,) # bundles all the source-sink functions in a tuple\n",
    "F, ∇ₓF = state_function_and_Jacobian(T_matrices, sources_minus_sinks, nb) # generates the state function (and its Jacobian!)\n",
    "F(x₀,p₀)"
   ],
   "metadata": {},
   "execution_count": 12
  },
  {
   "outputs": [],
   "cell_type": "markdown",
   "source": [
    "That's it!\n",
    "We have just created a model of the mean age.\n",
    "\n",
    "\n",
    "Lines 2 and 3 are just telling AIBECS\n",
    "- what transport matrices it should use for the transport of these tracers, and\n",
    "- and what local sources and sinks should be appplied to these tracers\n",
    "\n",
    "> **Note**\n",
    "> The `(x,)` syntax returns a tuple of one element — the comma is necessary because without it, `(x)` would be just like `x` with brackets around it.\n",
    "> This interface of AIBECS was developed for case with multiple tracers in mind, and might look a bit odd for a single tracer.\n",
    "> But in the future, this might be cleaned up to be easier to work with single tracers."
   ],
   "metadata": {}
  },
  {
   "outputs": [],
   "cell_type": "markdown",
   "source": [
    "The fourth line creates two functions:\n",
    "- `F` — the numerical version of the **state function**, $\\boldsymbol{F}$, of our model of the mean age, and\n",
    "- `∇ₓF` — the **Jacobian matrix** of the state function, i.e., $\\nabla_{\\boldsymbol{x}}\\boldsymbol{F}$.\n",
    "Yes, AIBECS just automatically created an exact derivative of your input, using autodifferentiation via dual numbers.\n",
    "(I'd be very excited to detail how this is implemented here, but it is an entirely different discussion.)"
   ],
   "metadata": {}
  },
  {
   "outputs": [],
   "cell_type": "markdown",
   "source": [
    "The last line just checks that our generated `F` works with our initial guess `x₀` and parameter vector `p₀`."
   ],
   "metadata": {}
  },
  {
   "outputs": [],
   "cell_type": "markdown",
   "source": [
    "#### Solving for the steady-state"
   ],
   "metadata": {}
  },
  {
   "outputs": [],
   "cell_type": "markdown",
   "source": [
    "The Jacobian, `∇ₓF` is essential to solving the steady-state equation $\\boldsymbol{F}(\\boldsymbol{x}, \\boldsymbol{p}) = 0$ fast.\n",
    "Specifically, solving $\\boldsymbol{F}(\\boldsymbol{x}, \\boldsymbol{p}) = 0$ is done via Newton's method.\n",
    "By starting from an initial guess, that you will have to provide, it will iterate over this recursion relation\n",
    "\n",
    "$$\\boldsymbol{x}_{k+1} = \\boldsymbol{x}_{k} - \\nabla_{\\boldsymbol{x}}\\boldsymbol{F}(\\boldsymbol{x}_{k}, \\boldsymbol{p})^{-1} \\boldsymbol{F}(\\boldsymbol{x}_{k}, \\boldsymbol{p})$$\n",
    "\n",
    "until $\\boldsymbol{F}(\\boldsymbol{x}_{k}, \\boldsymbol{p})$ is sufficiently small.\n",
    "Now I should note that here, our age model is linear in $x$ (or `age` in our code), so that the solution will be found in a single iteration, or a sinle \"matrix inversion\", as could be seen from our steady-state equation for $\\boldsymbol{a}$."
   ],
   "metadata": {}
  },
  {
   "outputs": [],
   "cell_type": "markdown",
   "source": [
    "> **Note**\n",
    "> AIBECS comes with a built-in algorithm and an API to solve for the steady-state, so you don't have to worry about all these details!"
   ],
   "metadata": {}
  },
  {
   "outputs": [],
   "cell_type": "markdown",
   "source": [
    "##### Define the Steady-state problem in AIBECS"
   ],
   "metadata": {}
  },
  {
   "outputs": [],
   "cell_type": "markdown",
   "source": [
    "First, we create an instance of the steady-state problem, via"
   ],
   "metadata": {}
  },
  {
   "outputs": [
    {
     "output_type": "execute_result",
     "data": {
      "text/plain": "SteadyStateProblem with uType Array{Float64,1}\nu0: [1.0, 1.0, 1.0, 1.0, 1.0, 1.0, 1.0, 1.0, 1.0, 1.0  …  1.0, 1.0, 1.0, 1.0, 1.0, 1.0, 1.0, 1.0, 1.0, 1.0]"
     },
     "metadata": {},
     "execution_count": 13
    }
   ],
   "cell_type": "code",
   "source": [
    "prob = SteadyStateProblem(F, ∇ₓF, x₀, p₀)"
   ],
   "metadata": {},
   "execution_count": 13
  },
  {
   "outputs": [],
   "cell_type": "markdown",
   "source": [
    "where we have simply provided the state function, $\\boldsymbol{F}$, the Jacobian, $\\nabla_{\\boldsymbol{x}}\\boldsymbol{F}$, the initial guess and the parameters.\n",
    "The `SteadyStateProblem` function is a standard \"DiffEqBase\" constructor that I have overloaded in my package so that you can easily generate the model here."
   ],
   "metadata": {}
  },
  {
   "outputs": [],
   "cell_type": "markdown",
   "source": [
    "##### Solve for the steady-state with AIBECS"
   ],
   "metadata": {}
  },
  {
   "outputs": [],
   "cell_type": "markdown",
   "source": [
    "Finally, we can find the solution in litterally one line, via the `solve` function:"
   ],
   "metadata": {}
  },
  {
   "outputs": [
    {
     "output_type": "execute_result",
     "data": {
      "text/plain": "u: 200160-element Array{Float64,1}:\n  399.46814547100905     \n 2241.017273529226       \n  569.8178412438034      \n  102.84590560936934     \n  557.0875596657697      \n  340.07798303643784     \n  448.4099283263085      \n  510.25015675812796     \n  295.67236653671443     \n  340.05521520305354     \n    ⋮                    \n    1.0557301693930727e10\n    1.0436848988883375e10\n    1.0739651723277557e10\n    1.0633121294493942e10\n    1.0486088680482176e10\n    1.0248016153142239e10\n    1.063179893659304e10 \n    1.053385700680795e10 \n    1.0420308209358833e10"
     },
     "metadata": {},
     "execution_count": 14
    }
   ],
   "cell_type": "code",
   "source": [
    "age = solve(prob, CTKAlg())"
   ],
   "metadata": {},
   "execution_count": 14
  },
  {
   "outputs": [],
   "cell_type": "markdown",
   "source": [
    "Here, I have provided the `solve` function with two things:\n",
    "- the problem, `prob`, which we just defined, and\n",
    "- the quasi-Newton algorithm that I wrote in Julia, denoted by `CTKAlg()` after C.T. Kelley, who originally wrote it in MATLAB.\n",
    "\n",
    "The last line should take about 10 seconds to 1 minute, depending on your laptop.\n",
    "That's it!\n",
    "We solved for the steady state!\n",
    "Everyone here deserves a nice tap on the shoulder — Good job!\n",
    "Now let's see what this age looks like on a map"
   ],
   "metadata": {}
  },
  {
   "outputs": [],
   "cell_type": "markdown",
   "source": [
    "## Figures"
   ],
   "metadata": {}
  },
  {
   "outputs": [],
   "cell_type": "markdown",
   "source": [
    "We will plot a horizontal slice of the age at about 1000m depth using Cartopy."
   ],
   "metadata": {}
  },
  {
   "outputs": [],
   "cell_type": "markdown",
   "source": [
    "First, we must rearrange `age` into the 3D model grid.\n",
    "For that we will need the vector of the indices of wet points in the 3D grid, which we will denote by `iwet`, and which AIBECS generates via"
   ],
   "metadata": {}
  },
  {
   "outputs": [
    {
     "output_type": "execute_result",
     "data": {
      "text/plain": "200160-element Array{Int64,1}:\n     10\n     11\n     12\n     13\n     14\n     15\n     16\n     17\n     18\n     19\n      ⋮\n 390450\n 390451\n 390539\n 390540\n 390541\n 390542\n 390630\n 390631\n 390632"
     },
     "metadata": {},
     "execution_count": 15
    }
   ],
   "cell_type": "code",
   "source": [
    "iwet = indices_of_wet_boxes(wet3D)"
   ],
   "metadata": {},
   "execution_count": 15
  },
  {
   "outputs": [],
   "cell_type": "markdown",
   "source": [
    "We then rearrange the column vector `age` into a 3D array via"
   ],
   "metadata": {}
  },
  {
   "outputs": [
    {
     "output_type": "execute_result",
     "data": {
      "text/plain": "(91, 180, 24)"
     },
     "metadata": {},
     "execution_count": 16
    }
   ],
   "cell_type": "code",
   "source": [
    "age_3D = NaN * wet3D # creates a 3D array of NaNs of the same size as `wet3D`\n",
    "age_3D[iwet] = age   # Fills the wet grid boxes with the age values\n",
    "size(age_3D)         # Just to check the size of age_3D"
   ],
   "metadata": {},
   "execution_count": 16
  },
  {
   "outputs": [],
   "cell_type": "markdown",
   "source": [
    "The last line just shows you the size of `age_3D`, which is a 3D-array as expected."
   ],
   "metadata": {}
  },
  {
   "outputs": [],
   "cell_type": "markdown",
   "source": [
    "Now let us find the index of the depth that is closest to $1000\\,$m.\n",
    "To do that we must use the depth information contained in `grd`.\n",
    "Let us first create a small vector of the depths of the grid:"
   ],
   "metadata": {}
  },
  {
   "outputs": [
    {
     "output_type": "execute_result",
     "data": {
      "text/plain": "24-element Array{Quantity{Float64,𝐋,Unitful.FreeUnits{(m,),𝐋,nothing}},1}:\n   18.0675569520817 m\n  54.76728201099765 m\n  93.72545168892381 m\n  137.2005106048704 m\n 187.45090337784762 m\n  246.7350746268657 m\n  317.3114689709348 m\n  401.4385310290652 m\n  501.3747054202671 m\n  619.3784367635507 m\n                    ⋮\n 1833.2924194815398 m\n  2141.005498821681 m\n  2484.853692065986 m\n 2867.0954438334643 m\n 3289.9891987431265 m\n  3755.793401413983 m\n  4266.766496465043 m\n  4825.166928515318 m\n 5433.2531421838175 m"
     },
     "metadata": {},
     "execution_count": 17
    }
   ],
   "cell_type": "code",
   "source": [
    "depth = grd.depth"
   ],
   "metadata": {},
   "execution_count": 17
  },
  {
   "outputs": [],
   "cell_type": "markdown",
   "source": [
    "We could count the index of the entry we want, but here we will use the `findfirst` function to find the first depth index that is greater than 1000m.\n",
    "(Feel free to change the value of `iz` if you want to see a slice at another depth.)"
   ],
   "metadata": {}
  },
  {
   "outputs": [
    {
     "output_type": "execute_result",
     "data": {
      "text/plain": "(13, 1104.3794186959938 m)"
     },
     "metadata": {},
     "execution_count": 18
    }
   ],
   "cell_type": "code",
   "source": [
    "iz = findfirst(depth .> 1000u\"m\")\n",
    "iz, depth[iz]"
   ],
   "metadata": {},
   "execution_count": 18
  },
  {
   "outputs": [],
   "cell_type": "markdown",
   "source": [
    "We get `iz = 13`, which is a layer that lies at 1104m, close to 1000m like we wanted.\n",
    "\n",
    "Finally, we need the latitude and longitudes of the grid, contained in `grd`.\n",
    "As for `depth`, we can use the OCIM's `grd` output:"
   ],
   "metadata": {}
  },
  {
   "outputs": [
    {
     "output_type": "execute_result",
     "data": {
      "text/plain": "([-89.011, -87.033, -85.0549, -83.0769, -81.0989, -79.1209, -77.1429, -75.1648, -73.1868, -71.2088  …  71.2088, 73.1868, 75.1648, 77.1429, 79.1209, 81.0989, 83.0769, 85.0549, 87.033, 89.011], [1.0, 3.0, 5.0, 7.0, 9.0, 11.0, 13.0, 15.0, 17.0, 19.0  …  341.0, 343.0, 345.0, 347.0, 349.0, 351.0, 353.0, 355.0, 357.0, 359.0])"
     },
     "metadata": {},
     "execution_count": 19
    }
   ],
   "cell_type": "code",
   "source": [
    "lat, lon = ustrip.(grd.lat), ustrip.(grd.lon)"
   ],
   "metadata": {},
   "execution_count": 19
  },
  {
   "outputs": [],
   "cell_type": "markdown",
   "source": [
    "So these are the latitudes and longitudes of the map we are about to plot."
   ],
   "metadata": {}
  },
  {
   "outputs": [],
   "cell_type": "markdown",
   "source": [
    "A last thing we can do is convert the age from seconds, `u\"s\"`, to years, `u\"yr\"`, because the age is large.\n",
    "This can be done via the Unitful package (loaded automatically by AIBECS)."
   ],
   "metadata": {}
  },
  {
   "outputs": [
    {
     "output_type": "execute_result",
     "data": {
      "text/plain": "91×180 Array{Float64,2}:\n   0.0       0.0       0.0       0.0     …    0.0       0.0       0.0   \n   0.0       0.0       0.0       0.0          0.0       0.0       0.0   \n   0.0       0.0       0.0       0.0          0.0       0.0       0.0   \n   0.0       0.0       0.0       0.0          0.0       0.0       0.0   \n   0.0       0.0       0.0       0.0          0.0       0.0       0.0   \n   0.0       0.0       0.0       0.0     …    0.0       0.0       0.0   \n   0.0       0.0       0.0       0.0          0.0       0.0       0.0   \n   0.0       0.0       0.0       0.0          0.0       0.0       0.0   \n   0.0       0.0       0.0       0.0          0.0       0.0       0.0   \n 308.763     0.0       0.0       0.0          0.0       0.0     308.868 \n   ⋮                                     ⋱                              \n  61.8729   63.3087   65.6391   67.8197      63.5091   61.9053   61.5998\n  52.8981   58.4094   63.5326   66.8945      56.0373   52.8544   50.7336\n  59.3258   65.1104   70.4077   71.3816      65.2609   59.5324   57.5215\n  72.3596   75.5462   77.1422   72.3438  …   86.8827   76.6759   72.7374\n  92.0202   91.2732   89.5953   85.9864     104.714    97.2632   93.5963\n 103.075   104.75    106.103   106.515      100.898   101.484   102.092 \n  94.212    95.8214   97.1534   97.952       90.7766   91.4723   92.7234\n  86.6421   87.4115   88.0901   88.4975      85.7586   86.1505   86.4926\n   0.0       0.0       0.0       0.0     …    0.0       0.0       0.0   "
     },
     "metadata": {},
     "execution_count": 20
    }
   ],
   "cell_type": "code",
   "source": [
    "age_3d_1000m_yr = age_3D[:,:,iz] * ustrip(1.0u\"s\" |> u\"yr\")"
   ],
   "metadata": {},
   "execution_count": 20
  },
  {
   "outputs": [],
   "cell_type": "markdown",
   "source": [
    "Finally! Let's have a look at this ideal mean age!\n",
    "To make figures, here, we use Cartopy.\n",
    "(You should have installed Cartopy if you went through the prerequisites correctly).\n",
    "To use it we simply type"
   ],
   "metadata": {}
  },
  {
   "outputs": [
    {
     "name": "stdout",
     "output_type": "stream",
     "text": [
      "┌ Warning: No working GUI backend found for matplotlib\n",
      "└ @ PyPlot /home/travis/.julia/packages/PyPlot/cdCMF/src/init.jl:155\n"
     ]
    }
   ],
   "cell_type": "code",
   "source": [
    "ENV[\"MPLBACKEND\"]=\"qt5agg\"\n",
    "using PyPlot, PyCall"
   ],
   "metadata": {},
   "execution_count": 21
  },
  {
   "outputs": [],
   "cell_type": "markdown",
   "source": [
    "> **Note**\n",
    "> The first line is needed for Mac users.\n",
    "> It's a bug that should eventually be resolved, but for now this seems to make it work."
   ],
   "metadata": {}
  },
  {
   "outputs": [],
   "cell_type": "markdown",
   "source": [
    "We import cartopy, define a new plot, add some coastlines because they are pretty, and add our slice of age at 1000m depth to it via"
   ],
   "metadata": {}
  },
  {
   "outputs": [
    {
     "output_type": "execute_result",
     "data": {
      "text/plain": "PyPlot.Figure(PyObject <Figure size 640x480 with 2 Axes>)",
      "image/png": "[encoded data removed]"
     },
     "metadata": {},
     "execution_count": 22
    }
   ],
   "cell_type": "code",
   "source": [
    "clf()\n",
    "ccrs = pyimport(\"cartopy.crs\")\n",
    "ax = subplot(projection=ccrs.EqualEarth(central_longitude=-155.0))\n",
    "ax.coastlines()\n",
    "lon_cyc = [lon; 360+lon[1]] # making it cyclic for Cartopy\n",
    "age_cyc = hcat(age_3d_1000m_yr, age_3d_1000m_yr[:,1])\n",
    "p = contourf(lon_cyc, lat, age_cyc, levels=0:100:1200, transform=ccrs.PlateCarree(), zorder=-1)\n",
    "colorbar(p, orientation=\"horizontal\")\n",
    "gcf() # gets the current figure to display"
   ],
   "metadata": {},
   "execution_count": 22
  },
  {
   "outputs": [],
   "cell_type": "markdown",
   "source": [
    "That's it!\n",
    "Good job!\n",
    "\n",
    "At 1000m, the age ranges from a few years below deep water formation regions (Wedell Sea, North Atlantic), and reaches a dozen of centuries in the North Pacific!\n",
    "This is pretty good for so little work!"
   ],
   "metadata": {}
  },
  {
   "outputs": [],
   "cell_type": "markdown",
   "source": [
    "*This notebook was generated using [Literate.jl](https://github.com/fredrikekre/Literate.jl).*"
   ],
   "metadata": {}
  }
 ],
 "nbformat_minor": 3,
 "metadata": {
  "language_info": {
   "file_extension": ".jl",
   "mimetype": "application/julia",
   "name": "julia",
   "version": "1.1.1"
  },
  "kernelspec": {
   "name": "julia-1.1",
   "display_name": "Julia 1.1.1",
   "language": "julia"
  }
 },
 "nbformat": 4
}

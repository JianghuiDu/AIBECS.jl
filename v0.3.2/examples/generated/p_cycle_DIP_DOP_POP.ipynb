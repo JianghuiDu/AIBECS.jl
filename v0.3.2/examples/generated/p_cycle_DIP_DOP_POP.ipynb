{
 "cells": [
  {
   "outputs": [],
   "cell_type": "markdown",
   "source": [
    "# A Phosphorus Cycling Model"
   ],
   "metadata": {}
  },
  {
   "outputs": [],
   "cell_type": "markdown",
   "source": [
    "## Tracer equations"
   ],
   "metadata": {}
  },
  {
   "outputs": [],
   "cell_type": "markdown",
   "source": [
    "We consider a simple model for the cycling of phosphorus with 3 state variables consisting of phosphate (PO₄) AKA dissolved inorganic phosphorus (DIP), dissolved organic phosphorus (DOP), and particulate organic phosphorus (POP).\n",
    "\n",
    "The dissolved phases are transported by advection and diffusion whereas the particulate phase sinks rapidly down the water column without any appreciable transport by the circulation.\n",
    "\n",
    "The governing equations are:\n",
    "\n",
    "$$\\frac{\\partial}{\\partial t} DIP + \\nabla \\cdot \\left[\\boldsymbol{u} + \\mathbf{K}\\cdot\\nabla \\right] DIP = -\\gamma(DIP) + \\kappa_\\mathsf{D} \\, DOP,$$\n",
    "\n",
    "$$\\frac{\\partial}{\\partial t} DOP + \\nabla \\cdot \\left[\\boldsymbol{u} + \\mathbf{K}\\cdot \\nabla \\right] DOP = \\sigma \\, \\gamma(DIP) + \\kappa_\\mathsf{P} \\, POP - \\kappa_\\mathsf{D} \\, DOP,$$\n",
    "\n",
    "and\n",
    "\n",
    "$$\\frac{\\partial}{\\partial t} POP + \\frac{\\partial}{\\partial z} \\left[w_\\mathsf{P} \\, POP\\right] = (1-\\sigma) \\, \\gamma(DIP) - \\kappa_\\mathsf{P} \\, POP,$$\n",
    "\n",
    "where $\\boldsymbol{u}$ is the fluid velocity and $\\mathbf{K}$ is the eddy-diffusion tensor.\n",
    "Thus, $\\nabla \\cdot \\left[ \\boldsymbol{u} - \\mathbf{K} \\cdot \\nabla \\right]$ is a differential operator that represents the transport by the ocean circulation.\n",
    "The function $\\gamma(DIP)$ represents the biological uptake of DIP by phytoplankton."
   ],
   "metadata": {}
  },
  {
   "outputs": [],
   "cell_type": "markdown",
   "source": [
    "Oxygen participates to this cycle too and satisfies its own tracer equation\n",
    "\n",
    "$$\\frac{\\partial}{\\partial t} DO_2 + \\nabla \\cdot \\left[\\boldsymbol{u} + \\mathbf{K}\\cdot\\nabla \\right] DO_2 = -r_{\\mathsf{O}_2:\\mathsf{P}} \\, \\kappa_\\mathsf{D} \\, DOP + \\Lambda(DO_2 - [O_2]_{\\mathsf{sat}})$$\n",
    "\n",
    "where $\\Lambda$ is the air-sea gas exchange operator."
   ],
   "metadata": {}
  },
  {
   "outputs": [],
   "cell_type": "markdown",
   "source": [
    "These tracer equations depend on a number of scalars, that we list below\n",
    "\n",
    "| Symbol                        | Definition                                                                  |\n",
    "|:------------------------------|:----------------------------------------------------------------------------|\n",
    "| $w_\\mathsf{P}$                | depth dependent particle sinking speed                                      |\n",
    "| $\\sigma$                      | fraction of the organic matter production allocated to the dissolved phase  |\n",
    "| $\\kappa_\\mathsf{D}$           | respiration rate for dissolved organic matter (DOP → DIP)                   |\n",
    "| $\\kappa_\\mathsf{P}$           | dissolution rate for particulate organic matter (POP → DOP)                 |\n",
    "| $r_{\\mathsf{O}_2:\\mathsf{P}}$ | number of moles of O₂ needed to respire 1 mole of DOP                       |"
   ],
   "metadata": {}
  },
  {
   "outputs": [],
   "cell_type": "code",
   "source": [
    "using AIBECS"
   ],
   "metadata": {},
   "execution_count": 1
  },
  {
   "outputs": [],
   "cell_type": "markdown",
   "source": [
    "Load the circulation and grid"
   ],
   "metadata": {}
  },
  {
   "outputs": [
    {
     "name": "stdout",
     "output_type": "stream",
     "text": [
      "Loading OCIM0.1┌ Warning: Over-writing registration of the datadep\n",
      "│   name = AIBECS_OCIM0.1\n",
      "└ @ DataDeps /home/travis/.julia/packages/DataDeps/ai3FE/src/registration.jl:8\n",
      " ✔\n",
      "┌ Info: You are about to use OCIM0.1 model.\n",
      "│ If you use it for research, please cite:\n",
      "│ \n",
      "│ - Primeau, F. W., Holzer, M., and DeVries, T. (2013), Southern Ocean nutrient trapping and the efficiency of the biological pump, J. Geophys. Res. Oceans, 118, 2547–2564, doi:10.1002/jgrc.20181.\n",
      "│ - DeVries, T. and F. Primeau, 2011: Dynamically and Observationally Constrained Estimates of Water-Mass Distributions and Ages in the Global Ocean. J. Phys. Oceanogr., 41, 2381–2401, doi:10.1175/JPO-D-10-05011.1\n",
      "│ \n",
      "│ You can find the corresponding BibTeX entries in the CITATION.bib file\n",
      "│ at the root of the AIBECS.jl package repository.\n",
      "│ (Look for the \"DeVries_Primeau_2011\" and \"Primeau_etal_2013\" keys.)\n",
      "└ @ AIBECS.OCIM0 /home/travis/build/briochemc/AIBECS.jl/src/OCIM0.jl:54\n"
     ]
    }
   ],
   "cell_type": "code",
   "source": [
    "grd, T_Circulation = OCIM0.load() ;"
   ],
   "metadata": {},
   "execution_count": 2
  },
  {
   "outputs": [],
   "cell_type": "markdown",
   "source": [
    "Define useful constants and arrays"
   ],
   "metadata": {}
  },
  {
   "outputs": [],
   "cell_type": "code",
   "source": [
    "iwet = indices_of_wet_boxes(grd)\n",
    "nb = length(iwet)\n",
    "z = ustrip.(vector_of_depths(grd))\n",
    "ztop = vector_of_top_depths(grd) ;"
   ],
   "metadata": {},
   "execution_count": 3
  },
  {
   "outputs": [],
   "cell_type": "markdown",
   "source": [
    "And matrices"
   ],
   "metadata": {}
  },
  {
   "outputs": [],
   "cell_type": "code",
   "source": [
    "DIV = buildDIV(grd)\n",
    "Iabove = buildIabove(grd) ;"
   ],
   "metadata": {},
   "execution_count": 4
  },
  {
   "outputs": [],
   "cell_type": "markdown",
   "source": [
    "### Transport matrices"
   ],
   "metadata": {}
  },
  {
   "outputs": [],
   "cell_type": "code",
   "source": [
    "T_DIP(p) = T_Circulation\n",
    "T_DOP(p) = T_Circulation\n",
    "T_DO2(p) = T_Circulation\n",
    "S₀ = buildPFD(ones(nb), DIV, Iabove)\n",
    "S′ = buildPFD(ztop, DIV, Iabove)\n",
    "function T_POP(p)\n",
    "    w₀, w′ = p.w₀, p.w′\n",
    "    return w₀ * S₀ + w′ * S′\n",
    "end\n",
    "T_all = (T_DIP, T_DOP, T_POP, T_DO2) ;"
   ],
   "metadata": {},
   "execution_count": 5
  },
  {
   "outputs": [],
   "cell_type": "markdown",
   "source": [
    "Because AIBECS will solve for the steady state solution directly without time-stepping the goverining equations to equilibrium, we don't have any opportunity to specify any intial conditions.\n",
    "Initial conditions are how the total amount of conserved elements get specified in most global biogeochemical modelels.\n",
    "Thus to specify the total inventory of P in AIBECS we add a very weak resporing term to the DIP equation.\n",
    "The time-scale for this restoring term is chosen to be very long compared to the timescale with which the ocean circulation homogenizes a tracer.\n",
    "Because of this long timescale we call it the geological restoring term, but geochemists who work on geological processes don't like that name!\n",
    "In any event the long timescale allows us to prescribe the total inventory of P in a way that yields the same solution we would have gotten had we time-stepped the model to steady-state with the total inventory prescribed by the initial condition."
   ],
   "metadata": {}
  },
  {
   "outputs": [],
   "cell_type": "markdown",
   "source": [
    "### Sources minus sinks"
   ],
   "metadata": {}
  },
  {
   "outputs": [],
   "cell_type": "markdown",
   "source": [
    "##### Geological Restoring"
   ],
   "metadata": {}
  },
  {
   "outputs": [
    {
     "output_type": "execute_result",
     "data": {
      "text/plain": "geores (generic function with 1 method)"
     },
     "metadata": {},
     "execution_count": 6
    }
   ],
   "cell_type": "code",
   "source": [
    "function geores(x, p)\n",
    "    τg, xgeo = p.τg, p.xgeo\n",
    "    return (xgeo .- x) / τg\n",
    "end"
   ],
   "metadata": {},
   "execution_count": 6
  },
  {
   "outputs": [],
   "cell_type": "markdown",
   "source": [
    "##### Uptake of phosphate (DIP)"
   ],
   "metadata": {}
  },
  {
   "outputs": [
    {
     "output_type": "execute_result",
     "data": {
      "text/plain": "uptake (generic function with 1 method)"
     },
     "metadata": {},
     "execution_count": 7
    }
   ],
   "cell_type": "code",
   "source": [
    "relu(x) = (x .≥ 0) .* x\n",
    "function uptake(DIP, p)\n",
    "    τu, ku, z₀ = p.τu, p.ku, p.z₀\n",
    "    DIP⁺ = relu(DIP)\n",
    "    return 1/τu * DIP⁺.^2 ./ (DIP⁺ .+ ku) .* (z .≤ z₀)\n",
    "end"
   ],
   "metadata": {},
   "execution_count": 7
  },
  {
   "outputs": [],
   "cell_type": "markdown",
   "source": [
    "##### Remineralization DOP into DIP"
   ],
   "metadata": {}
  },
  {
   "outputs": [
    {
     "output_type": "execute_result",
     "data": {
      "text/plain": "respiration (generic function with 1 method)"
     },
     "metadata": {},
     "execution_count": 8
    }
   ],
   "cell_type": "code",
   "source": [
    "function respiration(DOP, p)\n",
    "    κDOP = p.κDOP\n",
    "    return κDOP * DOP\n",
    "end"
   ],
   "metadata": {},
   "execution_count": 8
  },
  {
   "outputs": [],
   "cell_type": "markdown",
   "source": [
    "##### Dissolution of POP into DOP"
   ],
   "metadata": {}
  },
  {
   "outputs": [
    {
     "output_type": "execute_result",
     "data": {
      "text/plain": "dissolution (generic function with 1 method)"
     },
     "metadata": {},
     "execution_count": 9
    }
   ],
   "cell_type": "code",
   "source": [
    "function dissolution(POP, p)\n",
    "    κPOP = p.κPOP\n",
    "    return κPOP * POP\n",
    "end"
   ],
   "metadata": {},
   "execution_count": 9
  },
  {
   "outputs": [],
   "cell_type": "markdown",
   "source": [
    "##### Air-sea gas exchange"
   ],
   "metadata": {}
  },
  {
   "outputs": [
    {
     "name": "stdout",
     "output_type": "stream",
     "text": [
      "Registering World Ocean Atlas data with DataDeps\n",
      "┌ Warning: You are about to use World Ocean Atlas data.\n",
      "│ Please cite the following corresponding reference(s):\n",
      "│ \n",
      "│ Garcia, H. E., K. Weathers, C. R. Paver, I. Smolyar, T. P. Boyer, R. A. Locarnini, M. M. Zweng, A. V. Mishonov, O. K. Baranova, D. Seidov, and J. R. Reagan, 2018. World Ocean Atlas 2018, Volume 3: Dissolved Oxygen, Apparent Oxygen Utilization, and Oxygen Saturation. A. Mishonov Technical Ed.; in preparation.)\n",
      "└ @ WorldOceanAtlasTools /home/travis/.julia/packages/WorldOceanAtlasTools/StiyS/src/functions.jl:138\n",
      "  % Total    % Received % Xferd  Average Speed   Time    Time     Time  Current\n",
      "                                 Dload  Upload   Total   Spent    Left  Speed\n",
      "\r  0     0    0     0    0     0      0      0 --:--:-- --:--:-- --:--:--     0\r  0  176M    0  765k    0     0   917k      0  0:03:17 --:--:--  0:03:17  916k\r  7  176M    7 12.6M    0     0  7100k      0  0:00:25  0:00:01  0:00:24 7099k\r 33  176M   33 58.7M    0     0  20.8M      0  0:00:08  0:00:02  0:00:06 20.8M\r 63  176M   63  111M    0     0  29.1M      0  0:00:06  0:00:03  0:00:03 29.1M\r 92  176M   92  164M    0     0  34.0M      0  0:00:05  0:00:04  0:00:01 34.0M\r100  176M  100  176M    0     0  34.9M      0  0:00:05  0:00:05 --:--:-- 41.6M\n",
      "┌ Warning: Checksum not provided, add to the Datadep Registration the following hash line\n",
      "│   hash = 01f7492e8aba97b30a65d562f95056ce0a4100d4ce092b6476e1b2d1c3565df5\n",
      "└ @ DataDeps /home/travis/.julia/packages/DataDeps/ai3FE/src/verification.jl:44\n",
      "  Reading NetCDF file\n",
      "  Rearranging data\n",
      "  Filtering data\n",
      "  Averaging data over each grid box\n",
      "  Setting μ = 0 and σ² = ∞ where no obs\n",
      "  Setting a realistic minimum for σ²\n"
     ]
    },
    {
     "output_type": "execute_result",
     "data": {
      "text/plain": "airsea (generic function with 1 method)"
     },
     "metadata": {},
     "execution_count": 10
    }
   ],
   "cell_type": "code",
   "source": [
    "h = ustrip(grd.δdepth[1])             # thickness of the top layer\n",
    "z = grd.depth_3D[iwet]        # depth of the gridbox centers\n",
    "using WorldOceanAtlasTools\n",
    "WOA = WorldOceanAtlasTools\n",
    "μDO2sat , σ²DO2sat = WOA.fit_to_grid(grd,2018,\"O2sat\",\"annual\",\"1°\",\"an\") ;\n",
    "DO2sat = vec(μDO2sat)[iwet]\n",
    "function airsea(DO2, p)\n",
    "    κDO2 = p.κDO2\n",
    "    return κDO2 * (z .< 20u\"m\") .* (DO2sat .- DO2) / h\n",
    "end"
   ],
   "metadata": {},
   "execution_count": 10
  },
  {
   "outputs": [],
   "cell_type": "markdown",
   "source": [
    "Add them up into sms functions (Sources Minus Sinks)"
   ],
   "metadata": {}
  },
  {
   "outputs": [
    {
     "output_type": "execute_result",
     "data": {
      "text/plain": "(Main.##371.sms_DIP, Main.##371.sms_DOP, Main.##371.sms_POP, Main.##371.sms_DO2)"
     },
     "metadata": {},
     "execution_count": 11
    }
   ],
   "cell_type": "code",
   "source": [
    "function sms_DIP(DIP, DOP, POP, DO2, p)\n",
    "    return -uptake(DIP, p) + respiration(DOP, p) + geores(DIP, p)\n",
    "end\n",
    "function sms_DOP(DIP, DOP, POP, DO2, p)\n",
    "    σ = p.σ\n",
    "    return σ * uptake(DIP, p) - respiration(DOP, p) + dissolution(POP, p)\n",
    "end\n",
    "function sms_POP(DIP, DOP, POP, DO2, p)\n",
    "    σ = p.σ\n",
    "    return (1 - σ) * uptake(DIP, p) - dissolution(POP, p)\n",
    "end\n",
    "function sms_DO2(DIP, DOP, POP, DO2, p)\n",
    "    rO2P = p.rO2P\n",
    "    return airsea(DO2,p) + rO2P * (uptake(DIP,p) - respiration(DOP,p))\n",
    "end\n",
    "sms_all = (sms_DIP, sms_DOP, sms_POP, sms_DO2,) # bundles all the source-sink functions in a tuple"
   ],
   "metadata": {},
   "execution_count": 11
  },
  {
   "outputs": [],
   "cell_type": "markdown",
   "source": [
    "### Parameters\n",
    "\n",
    "Build the parameters type and p₀"
   ],
   "metadata": {}
  },
  {
   "outputs": [],
   "cell_type": "code",
   "source": [
    "t = empty_parameter_table()    # initialize table of parameters\n",
    "add_parameter!(t, :xgeo, 2.17u\"mmol/m^3\")\n",
    "add_parameter!(t, :τg, 1.0u\"Myr\")\n",
    "add_parameter!(t, :ku, 10.0u\"μmol/m^3\")\n",
    "add_parameter!(t, :z₀, 80.0u\"m\")\n",
    "add_parameter!(t, :w₀, 1.0u\"m/d\")\n",
    "add_parameter!(t, :w′, 1/4.4625u\"d\")\n",
    "add_parameter!(t, :κDOP, 1/0.25u\"yr\")\n",
    "add_parameter!(t, :κPOP, 1/5.25u\"d\")\n",
    "add_parameter!(t, :σ, 0.3u\"1\")\n",
    "add_parameter!(t, :τu, 30.0u\"d\")\n",
    "add_parameter!(t, :κDO2, 50u\"m\" / 30u\"d\")\n",
    "add_parameter!(t, :rO2P, 175.0u\"mol/mol\")\n",
    "initialize_Parameters_type(t, \"DIP_DOP_POP_O₂_Parameters\")   # Generate the parameter type"
   ],
   "metadata": {},
   "execution_count": 12
  },
  {
   "outputs": [],
   "cell_type": "markdown",
   "source": [
    "### Generate state function and Jacobian"
   ],
   "metadata": {}
  },
  {
   "outputs": [
    {
     "output_type": "execute_result",
     "data": {
      "text/plain": "(getfield(AIBECS, Symbol(\"#F#26\")){Tuple{typeof(Main.##371.T_DIP),typeof(Main.##371.T_DOP),typeof(Main.##371.T_POP),typeof(Main.##371.T_DO2)},getfield(AIBECS, Symbol(\"#tracer#21\")){Int64,Int64},getfield(AIBECS, Symbol(\"#G#24\")){Tuple{typeof(Main.##371.sms_DIP),typeof(Main.##371.sms_DOP),typeof(Main.##371.sms_POP),typeof(Main.##371.sms_DO2)},getfield(AIBECS, Symbol(\"#tracers#20\")){Int64,Int64}}}((Main.##371.T_DIP, Main.##371.T_DOP, Main.##371.T_POP, Main.##371.T_DO2), getfield(AIBECS, Symbol(\"#tracer#21\")){Int64,Int64}(191169, 4), getfield(AIBECS, Symbol(\"#G#24\")){Tuple{typeof(Main.##371.sms_DIP),typeof(Main.##371.sms_DOP),typeof(Main.##371.sms_POP),typeof(Main.##371.sms_DO2)},getfield(AIBECS, Symbol(\"#tracers#20\")){Int64,Int64}}((Main.##371.sms_DIP, Main.##371.sms_DOP, Main.##371.sms_POP, Main.##371.sms_DO2), getfield(AIBECS, Symbol(\"#tracers#20\")){Int64,Int64}(191169, 4))), getfield(AIBECS, Symbol(\"#∇ₓF#29\")){getfield(AIBECS, Symbol(\"#T#22\")){Tuple{typeof(Main.##371.T_DIP),typeof(Main.##371.T_DOP),typeof(Main.##371.T_POP),typeof(Main.##371.T_DO2)}},getfield(AIBECS, Symbol(\"#∇ₓG#28\")){Tuple{typeof(Main.##371.sms_DIP),typeof(Main.##371.sms_DOP),typeof(Main.##371.sms_POP),typeof(Main.##371.sms_DO2)},Int64,Int64}}(getfield(AIBECS, Symbol(\"#T#22\")){Tuple{typeof(Main.##371.T_DIP),typeof(Main.##371.T_DOP),typeof(Main.##371.T_POP),typeof(Main.##371.T_DO2)}}((Main.##371.T_DIP, Main.##371.T_DOP, Main.##371.T_POP, Main.##371.T_DO2)), getfield(AIBECS, Symbol(\"#∇ₓG#28\")){Tuple{typeof(Main.##371.sms_DIP),typeof(Main.##371.sms_DOP),typeof(Main.##371.sms_POP),typeof(Main.##371.sms_DO2)},Int64,Int64}((Main.##371.sms_DIP, Main.##371.sms_DOP, Main.##371.sms_POP, Main.##371.sms_DO2), 191169, 4)))"
     },
     "metadata": {},
     "execution_count": 13
    }
   ],
   "cell_type": "code",
   "source": [
    "nt = length(T_all)    # number of tracers\n",
    "n = nt * nb           # total dimension of the state vector\n",
    "p = DIP_DOP_POP_O₂_Parameters() # parameters\n",
    "x = p.xgeo * ones(n) # initial iterate\n",
    "F, ∇ₓF = state_function_and_Jacobian(T_all, sms_all, nb)"
   ],
   "metadata": {},
   "execution_count": 13
  },
  {
   "outputs": [],
   "cell_type": "markdown",
   "source": [
    "and solve"
   ],
   "metadata": {}
  },
  {
   "outputs": [],
   "cell_type": "code",
   "source": [
    "prob = SteadyStateProblem(F, ∇ₓF, x, p)\n",
    "nothing # s = solve(prob, CTKAlg()) # Not working yet"
   ],
   "metadata": {},
   "execution_count": 14
  },
  {
   "outputs": [],
   "cell_type": "markdown",
   "source": [
    "unpack state"
   ],
   "metadata": {}
  },
  {
   "outputs": [],
   "cell_type": "code",
   "source": [
    "DIP, DOP, POP, DO2 = state_to_tracers(x, nb, nt) # remove when line below works\n",
    "nothing # DIP, DOP, POP, DO2 = state_to_tracers(s.u, nb, nt)"
   ],
   "metadata": {},
   "execution_count": 15
  },
  {
   "outputs": [],
   "cell_type": "markdown",
   "source": [
    "We will plot the concentration of DIP at a given depth horizon"
   ],
   "metadata": {}
  },
  {
   "outputs": [
    {
     "output_type": "execute_result",
     "data": {
      "text/plain": "(6, 246.7350746268657 m)"
     },
     "metadata": {},
     "execution_count": 16
    }
   ],
   "cell_type": "code",
   "source": [
    "depth = grd.depth\n",
    "iz = findfirst(depth .> 200u\"m\")\n",
    "iz, depth[iz]"
   ],
   "metadata": {},
   "execution_count": 16
  },
  {
   "outputs": [],
   "cell_type": "markdown",
   "source": [
    "Unfinished example! TODO"
   ],
   "metadata": {}
  },
  {
   "outputs": [
    {
     "output_type": "execute_result",
     "data": {
      "text/plain": "([-89.0, -87.0, -85.0, -83.0, -81.0, -79.0, -77.0, -75.0, -73.0, -71.0  …  71.0, 73.0, 75.0, 77.0, 79.0, 81.0, 83.0, 85.0, 87.0, 89.0], [1.0, 3.0, 5.0, 7.0, 9.0, 11.0, 13.0, 15.0, 17.0, 19.0  …  341.0, 343.0, 345.0, 347.0, 349.0, 351.0, 353.0, 355.0, 357.0, 359.0])"
     },
     "metadata": {},
     "execution_count": 17
    }
   ],
   "cell_type": "code",
   "source": [
    "DIP_3D = rearrange_into_3Darray(DIP, grd)\n",
    "DIP_2D = DIP_3D[:,:,iz] * ustrip(1.0u\"mol/m^3\" |> u\"mmol/m^3\")\n",
    "lat, lon = ustrip.(grd.lat), ustrip.(grd.lon)"
   ],
   "metadata": {},
   "execution_count": 17
  },
  {
   "outputs": [],
   "cell_type": "markdown",
   "source": [
    "and plot"
   ],
   "metadata": {}
  },
  {
   "outputs": [],
   "cell_type": "markdown",
   "source": [
    "*This notebook was generated using [Literate.jl](https://github.com/fredrikekre/Literate.jl).*"
   ],
   "metadata": {}
  }
 ],
 "nbformat_minor": 3,
 "metadata": {
  "language_info": {
   "file_extension": ".jl",
   "mimetype": "application/julia",
   "name": "julia",
   "version": "1.1.1"
  },
  "kernelspec": {
   "name": "julia-1.1",
   "display_name": "Julia 1.1.1",
   "language": "julia"
  }
 },
 "nbformat": 4
}

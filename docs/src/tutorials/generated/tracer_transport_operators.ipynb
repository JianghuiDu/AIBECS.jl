{
 "cells": [
  {
   "outputs": [],
   "cell_type": "markdown",
   "source": [
    "# How the ocean circulation is represented"
   ],
   "metadata": {}
  },
  {
   "outputs": [],
   "cell_type": "markdown",
   "source": [
    "## Transport operator"
   ],
   "metadata": {}
  },
  {
   "outputs": [],
   "cell_type": "markdown",
   "source": [
    "To model marine biogeochemical tracers on a global scale we need to be able to account for their movement within the 3D ocean.\n",
    "We do this with a tracer **transport operator**, generically denoted by $\\mathcal{T}$.\n",
    "When the operator acts on a tracer field, it produces the divergence of the tracer.\n",
    "In other words, for a tracer with concentration $x(\\boldsymbol{r})$ at location $\\boldsymbol{r}$, its divergence at $\\boldsymbol{r}$ is $(\\mathcal{T} x)(\\boldsymbol{r})$."
   ],
   "metadata": {}
  },
  {
   "outputs": [],
   "cell_type": "markdown",
   "source": [
    "In the case of the ocean circulation, i.e., the currents and eddies that transport marine tracers floating around in sea water, the transport operator can be represented by\n",
    "\n",
    "$$\\mathcal{T} = \\nabla \\cdot \\left[ \\boldsymbol{u}(\\boldsymbol{r}) - \\mathbf{K}(\\boldsymbol{r}) \\cdot \\nabla \\right]$$\n",
    "\n",
    "where the vector $\\boldsymbol{u}$ represents the mean marine current velocity at location $\\boldsymbol{r}$.\n",
    "Thus, $\\boldsymbol{u}(\\boldsymbol{r})$ is a 3D vector aligned with the ocean currents and whose amplitude, in m/s, gives the speed of the moving sear water at location $\\boldsymbol{r}$.\n",
    "The 3×3 matrix $\\mathbf{K}(\\boldsymbol{r})$ is the eddy diffusivity matrix.\n",
    "It represents the effective mixing effect of unresolved eddies, i.e., these turbulent vortices that are too small relative to the model grid to be captured.\n",
    "Most of the mixing in the ocean occurs along isopycnals, an effect that can be represented by an adequate choice for $\\mathbf{K}$."
   ],
   "metadata": {}
  },
  {
   "outputs": [],
   "cell_type": "markdown",
   "source": [
    "## Discretization"
   ],
   "metadata": {}
  },
  {
   "outputs": [],
   "cell_type": "markdown",
   "source": [
    "In order to represent the ocean circulation on a computer one needs to **discretize** the 3D ocean into a discrete grid, i.e., a grid with a finite number of boxes.\n",
    "One can go a long way towards understanding what a tracer transport operator is by playing with a simple model with only a few boxes, which is the goal of this tutorial."
   ],
   "metadata": {}
  },
  {
   "outputs": [],
   "cell_type": "markdown",
   "source": [
    "The simple box model we consider is embeded in a 2×2×2 \"shoebox\".\n",
    "It has 5 *wet* boxes and 3 *dry* boxes, as illustrated below:"
   ],
   "metadata": {}
  },
  {
   "outputs": [],
   "cell_type": "markdown",
   "source": [
    "<img src=\"https://user-images.githubusercontent.com/4486578/58314610-3b130b80-7e53-11e9-9fe8-9527cdcca2d0.png\" width =800>"
   ],
   "metadata": {}
  },
  {
   "outputs": [],
   "cell_type": "markdown",
   "source": [
    "The circulation consists of\n",
    "- a meridional overturning circulation flowing in a cycle through boxes 1 → 2 → 6 → 5 → 1 (shown in the \"meridional section 1\" panel above)\n",
    "- a zonal current in a reentrant cycling through boxes 1 → 3 → 1 (shown in the \"layer 1\" panel above)\n",
    "- vertical mixing representing deep convection between boxes 2 ↔ 6 (not shown)"
   ],
   "metadata": {}
  },
  {
   "outputs": [],
   "cell_type": "markdown",
   "source": [
    "## Vectorization"
   ],
   "metadata": {}
  },
  {
   "outputs": [],
   "cell_type": "markdown",
   "source": [
    "The 3D tracer field, $x(\\boldsymbol{r})$, is **vectorized**, in the sense that the concentrations in each box are rearranged into a column vector."
   ],
   "metadata": {}
  },
  {
   "outputs": [],
   "cell_type": "markdown",
   "source": [
    "<img src=\"https://user-images.githubusercontent.com/4486578/61757212-fe3ba480-ae02-11e9-8d17-d72866eaafb5.gif\" width =800>"
   ],
   "metadata": {}
  },
  {
   "outputs": [],
   "cell_type": "markdown",
   "source": [
    "The continuous transport operator $\\mathcal{T}$ can then be represented by a matrix, denoted by $\\mathbf{T}$, and sometimes called the *transport matrix*.\n",
    "It turns out that in most cases, this matrix is sparse."
   ],
   "metadata": {}
  },
  {
   "outputs": [],
   "cell_type": "markdown",
   "source": [
    "> **Note**\n",
    "> A sparse matrix behaves the same way as a regular matrix.\n",
    "> The only difference is that in a sparse matrix the majority of the entries are zeros.\n",
    "> These zeros are not stored explicitly to save computer memory making it possible to deal with fairly high resolution ocean models."
   ],
   "metadata": {}
  },
  {
   "outputs": [],
   "cell_type": "markdown",
   "source": [
    "Mathematically, the discretization and vetorization convert an expression with partial derivatives into a matrix vector product.\n",
    "In summary, for the ocean circulation, we do the following conversion\n",
    "\n",
    "$$\\mathcal{T} x = \\nabla \\cdot \\left[ \\boldsymbol{u} - \\mathbf{K} \\cdot \\nabla \\right] x \\longrightarrow \\mathbf{T} \\, \\boldsymbol{x}$$\n",
    "\n",
    "(We ommitted the $\\boldsymbol{r}$ dependency in equations for brevity.)"
   ],
   "metadata": {}
  },
  {
   "outputs": [],
   "cell_type": "markdown",
   "source": [
    "## Using an ocean circulation in AIBECS"
   ],
   "metadata": {}
  },
  {
   "outputs": [],
   "cell_type": "markdown",
   "source": [
    "### Loading the grid and the circulation"
   ],
   "metadata": {}
  },
  {
   "outputs": [],
   "cell_type": "markdown",
   "source": [
    "We will now simulate the transport of a marine tracer controlled by the toy circulation we just saw.\n",
    "Like for any Julia package, we start by telling Julia that we are going to *use* the package."
   ],
   "metadata": {}
  },
  {
   "outputs": [],
   "cell_type": "code",
   "source": [
    "using AIBECS"
   ],
   "metadata": {},
   "execution_count": null
  },
  {
   "outputs": [],
   "cell_type": "markdown",
   "source": [
    "The circulation we just saw is available in AIBECS.\n",
    "We load it via"
   ],
   "metadata": {}
  },
  {
   "outputs": [],
   "cell_type": "code",
   "source": [
    "grd, T = Primeau_2x2x2.load() ;"
   ],
   "metadata": {},
   "execution_count": null
  },
  {
   "outputs": [],
   "cell_type": "markdown",
   "source": [
    "which loads 2 objects, `grd`, the model grid, and `T`, the transport matrix.\n",
    "(Note that in the line above we suppressed the output with `;`, like in MATLAB.)"
   ],
   "metadata": {}
  },
  {
   "outputs": [],
   "cell_type": "markdown",
   "source": [
    "`grd` is an `OceanGrid` object, of size 2×2×2."
   ],
   "metadata": {}
  },
  {
   "outputs": [],
   "cell_type": "code",
   "source": [
    "grd"
   ],
   "metadata": {},
   "execution_count": null
  },
  {
   "outputs": [],
   "cell_type": "markdown",
   "source": [
    "It is a special type for ocean grids, defined in the [OceanGrids](https://github.com/briochemc/OceanGrids.jl) package, on which AIBECS depends."
   ],
   "metadata": {}
  },
  {
   "outputs": [],
   "cell_type": "markdown",
   "source": [
    "There are many ways to look inside the grid, one of which is to iterate over it.\n",
    "For example"
   ],
   "metadata": {}
  },
  {
   "outputs": [],
   "cell_type": "code",
   "source": [
    "[println(box) for box in grd] ;"
   ],
   "metadata": {},
   "execution_count": null
  },
  {
   "outputs": [],
   "cell_type": "markdown",
   "source": [
    "shows some details about all the boxes of the model, one at a time.\n",
    "The `grd` object also contains other information about the grid, like the 3D depths of the boxes:"
   ],
   "metadata": {}
  },
  {
   "outputs": [],
   "cell_type": "code",
   "source": [
    "grd.depth_3D\n",
    "a"
   ],
   "metadata": {},
   "execution_count": null
  },
  {
   "outputs": [],
   "cell_type": "markdown",
   "source": [
    "or the 3D latitudes:"
   ],
   "metadata": {}
  },
  {
   "outputs": [],
   "cell_type": "code",
   "source": [
    "grd.lat_3D"
   ],
   "metadata": {},
   "execution_count": null
  },
  {
   "outputs": [],
   "cell_type": "markdown",
   "source": [
    "where you can check that northwards = downwards in the array.\n",
    "You may notice these come with units!\n",
    "This helps ensure that degrees of latitude are not confused with meters for example."
   ],
   "metadata": {}
  },
  {
   "outputs": [],
   "cell_type": "markdown",
   "source": [
    "> **Note**\n",
    "> Julia depense on and comes with [Unitful](https://github.com/PainterQubits/Unitful.jl), a package for using units, which AIBECS uses."
   ],
   "metadata": {}
  },
  {
   "outputs": [],
   "cell_type": "markdown",
   "source": [
    "Inside of `grd`, there is information of which boxes of the grid are \"wet\" (or \"dry\").\n",
    "`wet3D` is a 3D array representing the 3D ocean with `true` for \"wet\" boxes and `false` for \"dry\" boxes.\n",
    "Let's have a look at its contents:"
   ],
   "metadata": {}
  },
  {
   "outputs": [],
   "cell_type": "code",
   "source": [
    "grd.wet3D"
   ],
   "metadata": {},
   "execution_count": null
  },
  {
   "outputs": [],
   "cell_type": "markdown",
   "source": [
    "It's a 2×2×2 `BitArray`, i.e., an array of bit elements (the `true` and `false` entries).\n",
    "You can check that it matches our \"shoebox\" model.\n",
    "(Well, except for the orientation, for which northwards in the box model is downwards in the array.)"
   ],
   "metadata": {}
  },
  {
   "outputs": [],
   "cell_type": "markdown",
   "source": [
    "We can find all the wet boxes simply via"
   ],
   "metadata": {}
  },
  {
   "outputs": [],
   "cell_type": "code",
   "source": [
    "findall(grd.wet3D)"
   ],
   "metadata": {},
   "execution_count": null
  },
  {
   "outputs": [],
   "cell_type": "markdown",
   "source": [
    "These are the 3D indices of the wet boxes, `(i,j,k)`, called the \"cartesian\" indices.\n",
    "If you want the \"linear\" indices, i.e., the numbers as shown in the image of the shoebox model, you can transform `wet3D` into a vector first, via"
   ],
   "metadata": {}
  },
  {
   "outputs": [],
   "cell_type": "code",
   "source": [
    "iwet = findall(vec(grd.wet3D))"
   ],
   "metadata": {},
   "execution_count": null
  },
  {
   "outputs": [],
   "cell_type": "markdown",
   "source": [
    "We can also check that we indeed have the expected number of wet boxes via"
   ],
   "metadata": {}
  },
  {
   "outputs": [],
   "cell_type": "code",
   "source": [
    "nb = length(iwet)"
   ],
   "metadata": {},
   "execution_count": null
  },
  {
   "outputs": [],
   "cell_type": "markdown",
   "source": [
    "Now let's have a look at the transport matrix `T`."
   ],
   "metadata": {}
  },
  {
   "outputs": [],
   "cell_type": "code",
   "source": [
    "T"
   ],
   "metadata": {},
   "execution_count": null
  },
  {
   "outputs": [],
   "cell_type": "markdown",
   "source": [
    "It's a sparse matrix (of the `SparseMatrixCSC` type in Julia), which only stores non-zero entries.\n",
    "We can display the full matrix via"
   ],
   "metadata": {}
  },
  {
   "outputs": [],
   "cell_type": "code",
   "source": [
    "Matrix(T)"
   ],
   "metadata": {},
   "execution_count": null
  },
  {
   "outputs": [],
   "cell_type": "markdown",
   "source": [
    "to check its structure out."
   ],
   "metadata": {}
  },
  {
   "outputs": [],
   "cell_type": "markdown",
   "source": [
    "## Radiocarbon"
   ],
   "metadata": {}
  },
  {
   "outputs": [],
   "cell_type": "markdown",
   "source": [
    "Radiocarbon, ¹⁴C, is produced by cosmic rays in the lower stratosphere and upper troposphere.\n",
    "It quickly reacts with oxygen to produce ¹⁴CO₂, which is then mixed throughout the troposphere and enters the ocean through air–sea gas exchange.\n",
    "Because the halflife of radiocarbon is only 5730 years a significant amount of decay can occur before the dissolved inorganic radiocarbon (DI¹⁴C) can mix uniformally throughout the ocean.\n",
    "As such the ¹⁴C serves as a tracer label for water that was recently in contact with the atmosphere."
   ],
   "metadata": {}
  },
  {
   "outputs": [],
   "cell_type": "markdown",
   "source": [
    "### Tracer Equation"
   ],
   "metadata": {}
  },
  {
   "outputs": [],
   "cell_type": "markdown",
   "source": [
    "Mathematically, the ¹⁴C tracer concentration, denoted $R$ (for Radiocarbon), satisfies the following tracer equation:\n",
    "\n",
    "$$\\frac{\\partial R}{\\partial t} + \\nabla \\cdot \\left[ \\boldsymbol{u} - \\mathbf{K} \\cdot \\nabla \\right] R = \\Lambda(R_\\mathsf{atm} - R) - R / \\tau,$$\n",
    "\n",
    "where $\\Lambda(R_\\mathsf{atm} - R)$ represents the air–sea exchanges and $R / \\tau$ the radioactive decay rate.\n",
    "($\\tau$ is the radioactive decay timescale.)"
   ],
   "metadata": {}
  },
  {
   "outputs": [],
   "cell_type": "markdown",
   "source": [
    "The discretized tracer is thus given by\n",
    "\n",
    "$$\\frac{\\partial \\boldsymbol{R}}{\\partial t} + \\mathbf{T} \\, \\boldsymbol{R} = \\mathbf{\\Lambda}(R_\\mathsf{atm} - \\boldsymbol{R}) - \\boldsymbol{R} / \\tau.$$"
   ],
   "metadata": {}
  },
  {
   "outputs": [],
   "cell_type": "markdown",
   "source": [
    "### Translation to AIBECS Code"
   ],
   "metadata": {}
  },
  {
   "outputs": [],
   "cell_type": "markdown",
   "source": [
    "We will perform an idealized radiocarbon simulation in our model and use the ocean circulation defined earlier using AIBECS.\n",
    "In this model we prescribe the atmospheric concentration, $R_\\mathsf{atm}$, to be simply equal to 1.\n",
    "(We do not specify its unit or its specific value because it is not important for determining the age of a water parcel — only the decay rate does.)"
   ],
   "metadata": {}
  },
  {
   "outputs": [],
   "cell_type": "markdown",
   "source": [
    "To use AIBECS, one must put the equations into the generic form of\n",
    "\n",
    "$$\\frac{\\partial \\boldsymbol{x}}{\\partial t} + \\mathbf{T}(\\boldsymbol{p}) \\, \\boldsymbol{x} = \\boldsymbol{G}(\\boldsymbol{x}, \\boldsymbol{p}),$$\n",
    "\n",
    "where $\\boldsymbol{x}$ is the state vector, $\\boldsymbol{p}$ is the vector of model parameters, $\\mathbf{T}(\\boldsymbol{p})$ is the transport operator, and $\\boldsymbol{G}(\\boldsymbol{x}, \\boldsymbol{p})$ is the local sources minus sinks."
   ],
   "metadata": {}
  },
  {
   "outputs": [],
   "cell_type": "markdown",
   "source": [
    "In our radiocarbon-model context, with $\\boldsymbol{x} = \\boldsymbol{R}$, we have that\n",
    "\n",
    "$$\\boldsymbol{G}(\\boldsymbol{x}, \\boldsymbol{p}) = \\mathbf{\\Lambda}(R_\\mathsf{atm} - \\boldsymbol{x}) - \\boldsymbol{x} / \\tau.$$\n",
    "\n",
    "Hence, we must create `T(p)` and `G(x,p)` to give AIBECS the means to simulate the tracer distribution and/or its evolution in time."
   ],
   "metadata": {}
  },
  {
   "outputs": [],
   "cell_type": "markdown",
   "source": [
    "#### Sources and Sinks"
   ],
   "metadata": {}
  },
  {
   "outputs": [],
   "cell_type": "markdown",
   "source": [
    "The local sources and sinks are thus simply given by"
   ],
   "metadata": {}
  },
  {
   "outputs": [],
   "cell_type": "code",
   "source": [
    "function G(x, p)\n",
    "    τ, Ratm = p.τ, p.Ratm\n",
    "    return Λ(Ratm .- x, p) - x / τ\n",
    "end"
   ],
   "metadata": {},
   "execution_count": null
  },
  {
   "outputs": [],
   "cell_type": "markdown",
   "source": [
    "where `τ` is the decay rate timescale and `Ratm` is the atmospheric concentration of radiocarbon."
   ],
   "metadata": {}
  },
  {
   "outputs": [],
   "cell_type": "markdown",
   "source": [
    "We must define the air–sea exchange rate, `Λ(x,p)`, which requires us to define which boxes are located at the surface first.\n",
    "This is done, e.g., via"
   ],
   "metadata": {}
  },
  {
   "outputs": [],
   "cell_type": "code",
   "source": [
    "surface_boxes = grd.depth_3D[iwet] .== grd.depth[1]"
   ],
   "metadata": {},
   "execution_count": null
  },
  {
   "outputs": [],
   "cell_type": "markdown",
   "source": [
    "The air–sea exchange rate is then given by"
   ],
   "metadata": {}
  },
  {
   "outputs": [],
   "cell_type": "code",
   "source": [
    "function Λ(x, p)\n",
    "    λ, h = p.λ, p.h\n",
    "    return λ / h * surface_boxes .* x\n",
    "end"
   ],
   "metadata": {},
   "execution_count": null
  },
  {
   "outputs": [],
   "cell_type": "markdown",
   "source": [
    "where `λ` is the piston velocity and `h` is the height of the top layer of the model grid."
   ],
   "metadata": {}
  },
  {
   "outputs": [],
   "cell_type": "markdown",
   "source": [
    "#### Parameters"
   ],
   "metadata": {}
  },
  {
   "outputs": [],
   "cell_type": "markdown",
   "source": [
    "For the air–sea gas exchange, we use a constant piston velocity $\\lambda$ of 50m / 10years, which will happen in the top layer, of height given by, well, the height of the top layer.\n",
    "And for the radioactive decay we use a timescale $\\tau$ of 5730/log(2) years.\n",
    "We define these as parameters using the dedicated API from the AIBECS:"
   ],
   "metadata": {}
  },
  {
   "outputs": [],
   "cell_type": "code",
   "source": [
    "t = empty_parameter_table()                   # initialize an empty table of parameters\n",
    "add_parameter!(t, :τ, 5730u\"yr\"/log(2)) # radioactive decay e-folding timescale\n",
    "add_parameter!(t, :λ, 50u\"m\" / 10u\"yr\") # piston velocity\n",
    "add_parameter!(t, :h, grd.δdepth[1])    # height of top layer\n",
    "add_parameter!(t, :Ratm, 1.0u\"mol/m^3\") # atmospheric concentration\n",
    "t"
   ],
   "metadata": {},
   "execution_count": null
  },
  {
   "outputs": [],
   "cell_type": "markdown",
   "source": [
    "shows the parameters that you just created."
   ],
   "metadata": {}
  },
  {
   "outputs": [],
   "cell_type": "markdown",
   "source": [
    "We now generate a new object to contain all these parameters via"
   ],
   "metadata": {}
  },
  {
   "outputs": [],
   "cell_type": "code",
   "source": [
    "initialize_Parameters_type(t, \"C14_shoebox_parameters\") # creates the type for parameters\n",
    "p = C14_shoebox_parameters()                            # creates the parameters object"
   ],
   "metadata": {},
   "execution_count": null
  },
  {
   "outputs": [],
   "cell_type": "markdown",
   "source": [
    "#### Generate the state function and its Jacobian"
   ],
   "metadata": {}
  },
  {
   "outputs": [],
   "cell_type": "markdown",
   "source": [
    "The last step for the setup is for AIBECS to create $\\boldsymbol{F}(\\boldsymbol{x}, \\boldsymbol{p}) = \\boldsymbol{G}(\\boldsymbol{x}, \\boldsymbol{p}) - \\mathbf{T}(\\boldsymbol{p}) \\, \\boldsymbol{x}$, which defines the rate of change of the state, $\\boldsymbol{x}$.\n",
    "This is done via"
   ],
   "metadata": {}
  },
  {
   "outputs": [],
   "cell_type": "code",
   "source": [
    "F, ∇ₓF = state_function_and_Jacobian(p -> T, G) # generates the state function (and its Jacobian!)\n",
    "x = zeros(nb)\n",
    "F(x,p)"
   ],
   "metadata": {},
   "execution_count": null
  },
  {
   "outputs": [],
   "cell_type": "markdown",
   "source": [
    "Note here that AIBECS has automatically created `∇ₓF`, i.e., $\\nabla_{\\boldsymbol{x}}\\boldsymbol{F}(\\boldsymbol{x}, \\boldsymbol{p})$, which is the Jacobian of the system.\n",
    "This Jacobian will be useful in the simulations below."
   ],
   "metadata": {}
  },
  {
   "outputs": [],
   "cell_type": "markdown",
   "source": [
    "That's it!\n",
    "Your model is entirely setup and ready to be used for simulations!"
   ],
   "metadata": {}
  },
  {
   "outputs": [],
   "cell_type": "markdown",
   "source": [
    "## Time stepping"
   ],
   "metadata": {}
  },
  {
   "outputs": [],
   "cell_type": "markdown",
   "source": [
    "One way to see how the tracer evolves with time is to time step it.\n",
    "Here we will use the [Crank-Nicolson](https://en.wikipedia.org/wiki/Crank%E2%80%93Nicolson_method) scheme embedded in AIBECS.\n",
    "\n",
    "A single step is performed via, e.g.,"
   ],
   "metadata": {}
  },
  {
   "outputs": [],
   "cell_type": "code",
   "source": [
    "δt = ustrip(1.0u\"yr\" |> u\"s\")\n",
    "AIBECS.crank_nicolson_step(x, p, δt, F, ∇ₓF)"
   ],
   "metadata": {},
   "execution_count": null
  },
  {
   "outputs": [],
   "cell_type": "markdown",
   "source": [
    "We can write a function to run all the time steps and save them into a `x_hist` object, via"
   ],
   "metadata": {}
  },
  {
   "outputs": [],
   "cell_type": "code",
   "source": [
    "function time_steps(x₀, Δt, n, F, ∇ₓF)\n",
    "    x_hist = [x₀]\n",
    "    δt = Δt / n\n",
    "    for i in 1:n\n",
    "        push!(x_hist, AIBECS.crank_nicolson_step(last(x_hist), p, δt, F, ∇ₓF))\n",
    "    end\n",
    "    return reduce(hcat, x_hist), 0:δt:Δt\n",
    "end"
   ],
   "metadata": {},
   "execution_count": null
  },
  {
   "outputs": [],
   "cell_type": "markdown",
   "source": [
    "> **Note**\n",
    "> We store all the history of `x` in `x_hist`.\n",
    "> At each step, the `push!` function adds a new `x` to `x_hist`.\n",
    "> Technically, `x_hist` is a vector of vectors, so at the end, we horizontally concatenate it via `reduce(hcat, x_hist)` to rearrange it into a 2D array."
   ],
   "metadata": {}
  },
  {
   "outputs": [],
   "cell_type": "markdown",
   "source": [
    "Now let's simulate the evolution of radiocarbon for 7500 years, starting from a concentration of 1 everywhere, via"
   ],
   "metadata": {}
  },
  {
   "outputs": [],
   "cell_type": "code",
   "source": [
    "Δt = ustrip(7500u\"yr\" |> u\"s\") # 7500 years in seconds\n",
    "x₀ = ones(5)             #\n",
    "x_hist, t_hist = time_steps(x₀, Δt, 1000, F, ∇ₓF) # runs the simulation"
   ],
   "metadata": {},
   "execution_count": null
  },
  {
   "outputs": [],
   "cell_type": "markdown",
   "source": [
    "This should take a few seconds to run."
   ],
   "metadata": {}
  },
  {
   "outputs": [],
   "cell_type": "markdown",
   "source": [
    "> **Note**\n",
    "> AIBECS also has other time-stepping methods available, including Euler-froward (fast but unstable), Euler-backwards (like Crank-Nicolson, slow but stable), and Crank-Nicolson-Leapfrog (Fast-ish and more stable than Euler forward)."
   ],
   "metadata": {}
  },
  {
   "outputs": [],
   "cell_type": "markdown",
   "source": [
    "Once it's done, we can plot the evolution of radiocarbon through time via"
   ],
   "metadata": {}
  },
  {
   "outputs": [],
   "cell_type": "code",
   "source": [
    "using Plots\n",
    "C14age_hist = -log.(x_hist) * ustrip(p.τ * u\"s\" |> u\"yr\")\n",
    "plt = plot(t_hist * ustrip(1u\"s\" |> u\"yr\"), C14age_hist'; label=\"box \" .* string.(iwet))\n",
    "xlabel!(plt, \"simulation time (years)\")\n",
    "ylabel!(plt, \"Radiocarbon age (years)\")\n",
    "title!(plt, \"Radiocarbon age vs simulation time (Crank-Nicolson)\")"
   ],
   "metadata": {},
   "execution_count": null
  },
  {
   "outputs": [],
   "cell_type": "markdown",
   "source": [
    "The box model took more than 4000 years to spin up to equilibrium.\n",
    "For a box model that's no big deal because it is not computationally expensive to run the model, but for a big circulation model waiting for the model to spinup is painfully long.\n",
    "We therefore want a better way to find the equilibrium solution."
   ],
   "metadata": {}
  },
  {
   "outputs": [],
   "cell_type": "markdown",
   "source": [
    "## Solving Directly for the Steady State"
   ],
   "metadata": {}
  },
  {
   "outputs": [],
   "cell_type": "markdown",
   "source": [
    "With the AIBECS, you can create the steady state problem and solve it in just 2 commands:"
   ],
   "metadata": {}
  },
  {
   "outputs": [],
   "cell_type": "code",
   "source": [
    "prob = SteadyStateProblem(F, ∇ₓF, x, p)\n",
    "x_final = solve(prob, CTKAlg()).u"
   ],
   "metadata": {},
   "execution_count": null
  },
  {
   "outputs": [],
   "cell_type": "markdown",
   "source": [
    "Converting radiocarbon into years gives the following values"
   ],
   "metadata": {}
  },
  {
   "outputs": [],
   "cell_type": "code",
   "source": [
    "C14age_final = -log.(x_final) * p.τ * u\"s\" .|> u\"yr\"\n",
    "println.(\"box \", iwet, \": \", C14age_final);"
   ],
   "metadata": {},
   "execution_count": null
  },
  {
   "outputs": [],
   "cell_type": "markdown",
   "source": [
    "These are exactly the limit that the Radiocarbon age reaches after about 4000 years of simulation!\n",
    "So what happened there?"
   ],
   "metadata": {}
  },
  {
   "outputs": [],
   "cell_type": "markdown",
   "source": [
    "Well, AIBECS used a version of [Newton's method](https://en.wikipedia.org/wiki/Newton%27s_method) to solve for $\\boldsymbol{F}(\\boldsymbol{x}, \\boldsymbol{p}) = 0$.\n",
    "Simply put, Newton's method iterates on the state via the recursion relation\n",
    "\n",
    "$$\\boldsymbol{x}_{n+1} = \\boldsymbol{x}_n - \\nabla_{\\boldsymbol{x}}\\boldsymbol{F}(\\boldsymbol{x}, \\boldsymbol{p})^{-1} \\boldsymbol{F}(\\boldsymbol{x}, \\boldsymbol{p}).$$"
   ],
   "metadata": {}
  },
  {
   "outputs": [],
   "cell_type": "markdown",
   "source": [
    "Here, our radiocarbon model only requires a single iteration.\n",
    "This is because the state function, $\\boldsymbol{F}(\\boldsymbol{x}, \\boldsymbol{p})$, is linear."
   ],
   "metadata": {}
  },
  {
   "outputs": [],
   "cell_type": "markdown",
   "source": [
    "*This notebook was generated using [Literate.jl](https://github.com/fredrikekre/Literate.jl).*"
   ],
   "metadata": {}
  }
 ],
 "nbformat_minor": 3,
 "metadata": {
  "language_info": {
   "file_extension": ".jl",
   "mimetype": "application/julia",
   "name": "julia",
   "version": "1.2.0"
  },
  "kernelspec": {
   "name": "julia-1.2",
   "display_name": "Julia 1.2.0",
   "language": "julia"
  }
 },
 "nbformat": 4
}

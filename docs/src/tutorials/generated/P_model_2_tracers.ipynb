{
 "cells": [
  {
   "outputs": [],
   "cell_type": "markdown",
   "source": [
    "# Optimization of a simple phosphorus cycling model"
   ],
   "metadata": {}
  },
  {
   "outputs": [],
   "cell_type": "markdown",
   "source": [
    "> **Warning!**\n",
    "> This example is not finished yet.\n",
    "> It lacks a number of things, including explanatory text, references, and more.\n",
    "> However, it can already serve as an example of model optimization."
   ],
   "metadata": {}
  },
  {
   "outputs": [],
   "cell_type": "markdown",
   "source": [
    "## Tracer equations"
   ],
   "metadata": {}
  },
  {
   "outputs": [],
   "cell_type": "markdown",
   "source": [
    "We consider a simple model for the cycling of phosphorus with 2 state variables consisting of phosphate (PO₄) AKA dissolved inorganic phosphorus (DIP) and particulate organic phosphorus (POP).\n",
    "The dissolved phases are transported by advection and diffusion whereas the particulate phase sinks rapidly down the water column without any appreciable transport by the circulation.\n",
    "\n",
    "The governing equations that couple the 3D concentration fields of DIP and POP, denoted $x_\\mathsf{DIP}$ and $x_\\mathsf{POP}$, respectively, are:\n",
    "\n",
    "$$\\left[\\frac{\\partial}{\\partial t} + \\nabla \\cdot (\\boldsymbol{u} + \\mathbf{K}\\cdot\\nabla )\\right] x_\\mathsf{DIP} = -U(x_\\mathsf{DIP}) + R(x_\\mathsf{POP}),$$\n",
    "\n",
    "and\n",
    "\n",
    "$$\\left[\\frac{\\partial}{\\partial t} + \\nabla \\cdot \\boldsymbol{w}\\right] x_\\mathsf{POP} = U(x_\\mathsf{DIP}) - R(x_\\mathsf{POP}).$$"
   ],
   "metadata": {}
  },
  {
   "outputs": [],
   "cell_type": "markdown",
   "source": [
    "The 3D vector $\\boldsymbol{u}$ is the fluid velocity and $\\mathbf{K}$ is the eddy-diffusion tensor.\n",
    "Thus, $\\nabla \\cdot \\left[ \\boldsymbol{u} - \\mathbf{K} \\cdot \\nabla \\right]$ is a differential operator that represents the transport by the ocean circulation.\n",
    "The 3D vector $\\boldsymbol{w}$ is the particulate sinking velocity, so that the operator $\\nabla \\cdot \\boldsymbol{w}$ acting on $x_\\mathsf{POP}$ is the divergence of the flux of POP.\n",
    "We will assume that it increases linearly with depth, i.e., that\n",
    "\n",
    "$$\\boldsymbol{w}(\\boldsymbol{r}) = \\boldsymbol{w}_0 + \\boldsymbol{w}' z,$$\n",
    "\n",
    "where $\\boldsymbol{w}_0$ and $\\boldsymbol{w}'$ are simple scalars, independent of location $\\boldsymbol{r}$.\n",
    "($z$ represents the depth of location $\\boldsymbol{r}=(x,y,z)$.)"
   ],
   "metadata": {}
  },
  {
   "outputs": [],
   "cell_type": "markdown",
   "source": [
    "The function $U$ represents the biological uptake of DIP by phytoplankton, which we model as\n",
    "\n",
    "$$U(x_\\mathsf{DIP}) = \\frac{x_\\mathsf{DIP}}{\\tau} \\, \\frac{x_\\mathsf{DIP}}{x_\\mathsf{DIP} + k} \\, (z < z_0),$$\n",
    "\n",
    "where the timescale, $\\tau$, sets the maximum specific DIP uptake rate.\n",
    "The first term in the product scales linearly with DIP, which is a nice property to have in general.\n",
    "It also makes it easier to reason about the extreme cases.\n",
    "However, here the uptake is not linear:\n",
    "the second term in the product is a hyperbolic term (after Monod or Michaelis-Menten) and reduces the slope of the uptake function when DIP is low.\n",
    "When DIP is very low, the slope is close to 0.\n",
    "But when DIP is very high, the slope is close to $1/τ$.\n",
    "The last term is to be understood as a condition, i.e., that the uptake happens only in the euphotic layer, where there is sufficient light for photosynthesis to occur.\n",
    "The depth $z_0$ is the depth of the euphotic layer."
   ],
   "metadata": {}
  },
  {
   "outputs": [],
   "cell_type": "markdown",
   "source": [
    "The function $R$ defines the remineralization rate of POP, which converts POP back into DIP.\n",
    "For the remineralization, we simply use a linear rate constant, i.e.,\n",
    "\n",
    "$$R(x_\\mathsf{POP}) = \\kappa \\, x_\\mathsf{POP}.$$"
   ],
   "metadata": {}
  },
  {
   "outputs": [],
   "cell_type": "markdown",
   "source": [
    "## Translation into AIBECS code"
   ],
   "metadata": {}
  },
  {
   "outputs": [],
   "cell_type": "markdown",
   "source": [
    "### Transport matrices"
   ],
   "metadata": {}
  },
  {
   "outputs": [],
   "cell_type": "markdown",
   "source": [
    "We start by telling Julia we want to use the AIBECS"
   ],
   "metadata": {}
  },
  {
   "outputs": [],
   "cell_type": "code",
   "source": [
    "using AIBECS"
   ],
   "metadata": {},
   "execution_count": null
  },
  {
   "outputs": [],
   "cell_type": "markdown",
   "source": [
    "We load the circulation and grid of the OCIM0.1 via"
   ],
   "metadata": {}
  },
  {
   "outputs": [],
   "cell_type": "code",
   "source": [
    "grd, T_OCIM = OCIM0.load() ;"
   ],
   "metadata": {},
   "execution_count": null
  },
  {
   "outputs": [],
   "cell_type": "markdown",
   "source": [
    "where the operator $\\nabla \\cdot \\left[ \\boldsymbol{u} - \\mathbf{K} \\cdot \\nabla \\right]$ is represented by the sparse matrix `T_OCIM`.\n",
    "In AIBECS, all the transport matrices must be declared as functions of the parameters `p`, so we simply define"
   ],
   "metadata": {}
  },
  {
   "outputs": [],
   "cell_type": "code",
   "source": [
    "T_DIP(p) = T_OCIM"
   ],
   "metadata": {},
   "execution_count": null
  },
  {
   "outputs": [],
   "cell_type": "markdown",
   "source": [
    "For the sinking of particles, we are going to create a sparse matrix that depends on the parameters, too, which define how fast particles sink."
   ],
   "metadata": {}
  },
  {
   "outputs": [],
   "cell_type": "code",
   "source": [
    "T_POP(p) = buildPFD(grd, settling_velocity = w(p))"
   ],
   "metadata": {},
   "execution_count": null
  },
  {
   "outputs": [],
   "cell_type": "markdown",
   "source": [
    "for which we need to define the sinking speed `w(p)` as a function of the parameters `p`.\n",
    "Following the assumption that it increases linearly with depth, we write it as"
   ],
   "metadata": {}
  },
  {
   "outputs": [],
   "cell_type": "code",
   "source": [
    "w(p) = p.w₀ .+ p.w′ * z"
   ],
   "metadata": {},
   "execution_count": null
  },
  {
   "outputs": [],
   "cell_type": "markdown",
   "source": [
    "For this to work, we must create a vector of depths, `z`, which is simply done via"
   ],
   "metadata": {}
  },
  {
   "outputs": [],
   "cell_type": "code",
   "source": [
    "iwet = findall(vec(grd.wet3D))\n",
    "z = ustrip.(grd.depth_3D[iwet])"
   ],
   "metadata": {},
   "execution_count": null
  },
  {
   "outputs": [],
   "cell_type": "markdown",
   "source": [
    "(We must strip the units via `ustrip` because units do not percolate through the functionality of AIBECS flawlessly at this early stage of development.)\n",
    "We combine the transport operators for DIP and POP into a single tuple via"
   ],
   "metadata": {}
  },
  {
   "outputs": [],
   "cell_type": "code",
   "source": [
    "T_all = (T_DIP, T_POP) ;"
   ],
   "metadata": {},
   "execution_count": null
  },
  {
   "outputs": [],
   "cell_type": "markdown",
   "source": [
    "### Local sources and sinks"
   ],
   "metadata": {}
  },
  {
   "outputs": [],
   "cell_type": "markdown",
   "source": [
    "##### Geological Restoring"
   ],
   "metadata": {}
  },
  {
   "outputs": [],
   "cell_type": "markdown",
   "source": [
    "Because AIBECS will solve for the steady state solution directly without time-stepping the goverining equations to equilibrium, we don't have any opportunity to specify any intial conditions.\n",
    "Initial conditions are how the total amount of conserved elements get specified in most global biogeochemical modelels.\n",
    "Thus to specify the total inventory of P in AIBECS we add a very weak resporing term to, e.g., the DIP equation.\n",
    "The time-scale for this restoring term is chosen to be very long compared to the timescale with which the ocean circulation homogenizes a tracer.\n",
    "Because of this long timescale we call it the geological restoring term, but geochemists who work on geological processes don't like that name!\n",
    "In any event the long timescale allows us to prescribe the total inventory of P in a way that yields the same solution we would have gotten had we time-stepped the model to steady-state with the total inventory prescribed by the initial condition.\n",
    "We define the geological restoring simply as"
   ],
   "metadata": {}
  },
  {
   "outputs": [],
   "cell_type": "code",
   "source": [
    "geores(x, p) = (p.DIPgeo .- x) / p.τgeo"
   ],
   "metadata": {},
   "execution_count": null
  },
  {
   "outputs": [],
   "cell_type": "markdown",
   "source": [
    "##### Uptake (DIP → POP)"
   ],
   "metadata": {}
  },
  {
   "outputs": [],
   "cell_type": "markdown",
   "source": [
    "For the phosphate uptake, we must take some precautions to avoid the pole of the hyperbolic term.\n",
    "That is, we ensure that uptake only occurs when DIP is positive via the `relu` function"
   ],
   "metadata": {}
  },
  {
   "outputs": [],
   "cell_type": "code",
   "source": [
    "relu(x) = (x .≥ 0) .* x"
   ],
   "metadata": {},
   "execution_count": null
  },
  {
   "outputs": [],
   "cell_type": "markdown",
   "source": [
    "Then we simply write the uptake as a Julia function, following the definition of $U$:"
   ],
   "metadata": {}
  },
  {
   "outputs": [],
   "cell_type": "code",
   "source": [
    "function uptake(DIP, p)\n",
    "    τ, k, z₀ = p.τ, p.k, p.z₀\n",
    "    DIP⁺ = relu(DIP)\n",
    "    return 1/τ * DIP⁺.^2 ./ (DIP⁺ .+ k) .* (z .≤ z₀)\n",
    "end"
   ],
   "metadata": {},
   "execution_count": null
  },
  {
   "outputs": [],
   "cell_type": "markdown",
   "source": [
    "where we have \"unpacked\" the parameters to make the code clearer and as close to the mathematical equation as possible."
   ],
   "metadata": {}
  },
  {
   "outputs": [],
   "cell_type": "markdown",
   "source": [
    "##### Remineralization (POP → DIP)"
   ],
   "metadata": {}
  },
  {
   "outputs": [],
   "cell_type": "code",
   "source": [
    "remineralization(POP, p) = p.κ * POP"
   ],
   "metadata": {},
   "execution_count": null
  },
  {
   "outputs": [],
   "cell_type": "markdown",
   "source": [
    "##### Net sources and sinks"
   ],
   "metadata": {}
  },
  {
   "outputs": [],
   "cell_type": "markdown",
   "source": [
    "We lump the sources and sinks into `sms` functions (for Sources Minus Sinks):"
   ],
   "metadata": {}
  },
  {
   "outputs": [],
   "cell_type": "code",
   "source": [
    "function sms_DIP(DIP, POP, p)\n",
    "    return -uptake(DIP, p) + remineralization(POP, p) + geores(DIP, p)\n",
    "end\n",
    "function sms_POP(DIP, POP, p)\n",
    "    return  uptake(DIP, p) - remineralization(POP, p)\n",
    "end"
   ],
   "metadata": {},
   "execution_count": null
  },
  {
   "outputs": [],
   "cell_type": "markdown",
   "source": [
    "and create a tuple of those just like for the transport matrices via"
   ],
   "metadata": {}
  },
  {
   "outputs": [],
   "cell_type": "code",
   "source": [
    "sms_all = (sms_DIP, sms_POP) # bundles all the source-sink functions in a tuple"
   ],
   "metadata": {},
   "execution_count": null
  },
  {
   "outputs": [],
   "cell_type": "markdown",
   "source": [
    "For the sake of this notebook, however, we write more efficient BGC functions for the sources and sinks by using \"in place\" functions that mutate a preallocated vector to avoid allocations.\n",
    "`G_DIP!` replaces `sms_DIP`:"
   ],
   "metadata": {}
  },
  {
   "outputs": [],
   "cell_type": "code",
   "source": [
    "function G_DIP!(dDIP, DIP, POP, p)\n",
    "    τ, k, z₀, κ, DIPgeo, τgeo = p.τ, p.k, p.z₀, p.κ, p.DIPgeo, p.τgeo\n",
    "    dDIP .= @. -(DIP ≥ 0) / τ * DIP^2 / (DIP + k) * (z ≤ z₀) + κ * POP + (DIPgeo - DIP) / τgeo\n",
    "    return dDIP\n",
    "end"
   ],
   "metadata": {},
   "execution_count": null
  },
  {
   "outputs": [],
   "cell_type": "markdown",
   "source": [
    "Note the use of the `@.` macro to \"fuse\" the loops together, which is faster than looping for each operation.\n",
    "And `G_POP!` replaces `sms_POP`:"
   ],
   "metadata": {}
  },
  {
   "outputs": [],
   "cell_type": "code",
   "source": [
    "function G_POP!(dPOP, DIP, POP, p)\n",
    "    τ, k, z₀, κ = p.τ, p.k, p.z₀, p.κ\n",
    "    dPOP .= @. (DIP ≥ 0) / τ * DIP^2 / (DIP + k) * (z ≤ z₀) - κ * POP\n",
    "    return dPOP\n",
    "end"
   ],
   "metadata": {},
   "execution_count": null
  },
  {
   "outputs": [],
   "cell_type": "markdown",
   "source": [
    "which we bundle into"
   ],
   "metadata": {}
  },
  {
   "outputs": [],
   "cell_type": "code",
   "source": [
    "Gs = (G_DIP!, G_POP!)"
   ],
   "metadata": {},
   "execution_count": null
  },
  {
   "outputs": [],
   "cell_type": "markdown",
   "source": [
    "### Parameters"
   ],
   "metadata": {}
  },
  {
   "outputs": [],
   "cell_type": "markdown",
   "source": [
    "We now define and build the parameters.\n",
    "In AIBECS, this is done by first creating a table of parameters, using the API designed for it.\n",
    "First, we create an empty table:"
   ],
   "metadata": {}
  },
  {
   "outputs": [],
   "cell_type": "code",
   "source": [
    "t = empty_parameter_table()    # empty table of parameters"
   ],
   "metadata": {},
   "execution_count": null
  },
  {
   "outputs": [],
   "cell_type": "markdown",
   "source": [
    "Then, we add every parameter that we need"
   ],
   "metadata": {}
  },
  {
   "outputs": [],
   "cell_type": "code",
   "source": [
    "add_parameter!(t, :DIPgeo, 2.12u\"mmol/m^3\",\n",
    "               optimizable = true,\n",
    "               variance_obs = ustrip(upreferred(0.1 * 2.17u\"mmol/m^3\"))^2,\n",
    "               description = \"Mean PO₄ concentration\")\n",
    "add_parameter!(t, :τgeo, 1.0u\"Myr\",\n",
    "               description = \"Geological restoring timescale\")\n",
    "add_parameter!(t, :k, 6.62u\"μmol/m^3\",\n",
    "               optimizable = true,\n",
    "               description = \"Half-saturation constant (Michaelis-Menten)\")\n",
    "add_parameter!(t, :z₀, 80.0u\"m\",\n",
    "               description = \"Depth of the euphotic layer base\")\n",
    "add_parameter!(t, :w₀, 0.64u\"m/d\",\n",
    "               optimizable = true,\n",
    "               description = \"Sinking velocity at surface\")\n",
    "add_parameter!(t, :w′, 0.13u\"1/d\",\n",
    "               optimizable = true,\n",
    "               description = \"Vertical gradient of sinking velocity\")\n",
    "add_parameter!(t, :κ, 0.19u\"1/d\",\n",
    "               optimizable = true,\n",
    "               description = \"Remineralization rate constant (POP to DIP)\")\n",
    "add_parameter!(t, :τ, 236.52u\"d\",\n",
    "               optimizable = true,\n",
    "               description = \"Maximum uptake rate timescale\")"
   ],
   "metadata": {},
   "execution_count": null
  },
  {
   "outputs": [],
   "cell_type": "markdown",
   "source": [
    "These values of these parameters have been optimized for the same model but embedded in the OCIM1 circulation and should yield a pretty good fit to observations.\n",
    "However, because the circulation has changed from the OCIM1 to the OCIM0.1 used here, the best parameters have probably changed, too.\n",
    "Thus, we will re-optimize these parameters below.\n",
    "But first, we will just try to find the steady-state solution with these initial parameter values."
   ],
   "metadata": {}
  },
  {
   "outputs": [],
   "cell_type": "markdown",
   "source": [
    "We generate a new type for the parameters, via"
   ],
   "metadata": {}
  },
  {
   "outputs": [],
   "cell_type": "code",
   "source": [
    "initialize_Parameters_type(t, \"Pcycle_Parameters\")   # Generate the parameter type"
   ],
   "metadata": {},
   "execution_count": null
  },
  {
   "outputs": [],
   "cell_type": "markdown",
   "source": [
    "Finally, we can instantiate the parameter vector in a single line:"
   ],
   "metadata": {}
  },
  {
   "outputs": [],
   "cell_type": "code",
   "source": [
    "p = Pcycle_Parameters()"
   ],
   "metadata": {},
   "execution_count": null
  },
  {
   "outputs": [],
   "cell_type": "markdown",
   "source": [
    "where we have used the name of the new type that we created just earlier."
   ],
   "metadata": {}
  },
  {
   "outputs": [],
   "cell_type": "markdown",
   "source": [
    "## Finding the steady-state solution"
   ],
   "metadata": {}
  },
  {
   "outputs": [],
   "cell_type": "markdown",
   "source": [
    "### Generate state function and Jacobian"
   ],
   "metadata": {}
  },
  {
   "outputs": [],
   "cell_type": "markdown",
   "source": [
    "We generate the in-place state function `F!` and its Jacobian in a single line\n",
    "and the out-of-place `F` for use by the solver.\n",
    "(Using `dx = similar(x)` creates a vector of the same type and size as `x` but without spending time copying its values, which is OK because we always fill the entire `dx` in calls to `g_DIP!` and G_POP!`.)"
   ],
   "metadata": {}
  },
  {
   "outputs": [],
   "cell_type": "code",
   "source": [
    "nb = length(iwet)\n",
    "F!, ∇ₓF = inplace_state_function_and_Jacobian(T_all, Gs, nb)\n",
    "F(x::Vector{Tx}, p::Pcycle_Parameters{Tp}) where {Tx,Tp} = F!(Vector{promote_type(Tx,Tp)}(undef,length(x)),x,p)"
   ],
   "metadata": {},
   "execution_count": null
  },
  {
   "outputs": [],
   "cell_type": "markdown",
   "source": [
    "### Solve for the steady-state"
   ],
   "metadata": {}
  },
  {
   "outputs": [],
   "cell_type": "markdown",
   "source": [
    "We start from an initial guess,"
   ],
   "metadata": {}
  },
  {
   "outputs": [],
   "cell_type": "code",
   "source": [
    "x = p.DIPgeo * ones(2nb) # initial iterate"
   ],
   "metadata": {},
   "execution_count": null
  },
  {
   "outputs": [],
   "cell_type": "markdown",
   "source": [
    "Create an instance of the steady-state problem"
   ],
   "metadata": {}
  },
  {
   "outputs": [],
   "cell_type": "code",
   "source": [
    "prob = SteadyStateProblem(F, ∇ₓF, x, p)"
   ],
   "metadata": {},
   "execution_count": null
  },
  {
   "outputs": [],
   "cell_type": "markdown",
   "source": [
    "and solve it"
   ],
   "metadata": {}
  },
  {
   "outputs": [],
   "cell_type": "code",
   "source": [
    "s = solve(prob, CTKAlg()).u"
   ],
   "metadata": {},
   "execution_count": null
  },
  {
   "outputs": [],
   "cell_type": "markdown",
   "source": [
    "### Plotting"
   ],
   "metadata": {}
  },
  {
   "outputs": [],
   "cell_type": "markdown",
   "source": [
    "The AIBECS now comes with some recipes for plotting.\n",
    "Without going into too much detail, Julia comes with a versatile plotting library called [Plots.jl](https://github.com/JuliaPlots/Plots.jl), which we will use in these examples."
   ],
   "metadata": {}
  },
  {
   "outputs": [],
   "cell_type": "code",
   "source": [
    "##md # !!! warn"
   ],
   "metadata": {},
   "execution_count": null
  },
  {
   "outputs": [],
   "cell_type": "markdown",
   "source": [
    "> **Warning!**\n",
    "> Make sure you have installed [Plots.jl](https://github.com/JuliaPlots/Plots.jl) and a backend (e.g., GR.jl or PyPlot.jl)."
   ],
   "metadata": {}
  },
  {
   "outputs": [],
   "cell_type": "markdown",
   "source": [
    "So first, let's tell Julia we want to use Plots.jl."
   ],
   "metadata": {}
  },
  {
   "outputs": [],
   "cell_type": "code",
   "source": [
    "using Plots"
   ],
   "metadata": {},
   "execution_count": null
  },
  {
   "outputs": [],
   "cell_type": "markdown",
   "source": [
    "Then, we unpack the state into the DIP and POP tracers."
   ],
   "metadata": {}
  },
  {
   "outputs": [],
   "cell_type": "code",
   "source": [
    "DIP, POP = state_to_tracers(s, grd)"
   ],
   "metadata": {},
   "execution_count": null
  },
  {
   "outputs": [],
   "cell_type": "markdown",
   "source": [
    "We can plot the concentration of DIP at a given depth via"
   ],
   "metadata": {}
  },
  {
   "outputs": [],
   "cell_type": "code",
   "source": [
    "horizontalslice(DIP, grd, 2000; color=:viridis)"
   ],
   "metadata": {},
   "execution_count": null
  },
  {
   "outputs": [],
   "cell_type": "markdown",
   "source": [
    "> **Tip!**\n",
    "> The function `horizontalslice(x, grd, depth)` is provided by AIBECS.\n",
    "> It is actually just a recipe for Plots.jl that figures out a few things for you,\n",
    "> like extracting the slice at the given depth.\n",
    "> But you can customize it to your liking, by appending keyword arguments,\n",
    "> like `color=:viridis` here.\n",
    "> Head over to the [Plots.jl](https://github.com/JuliaPlots/Plots.jl) package\n",
    "> documentation to see a more complete list of attributes"
   ],
   "metadata": {}
  },
  {
   "outputs": [],
   "cell_type": "markdown",
   "source": [
    "## Optimizing the model parameters"
   ],
   "metadata": {}
  },
  {
   "outputs": [],
   "cell_type": "markdown",
   "source": [
    "To optimize the model, we will use data from the World Ocean Atlas (WOA).\n",
    "Specifically, we will use the observed PO<sub>4</sub> climatology, which the WOA produces every few years.\n",
    "Thanks to the [WorldOceanAtlasTools](https://github.com/briochemc/WorldOceanAtlasTools.jl) package combined with some AIBECS functionality, this is done a just a few commands:"
   ],
   "metadata": {}
  },
  {
   "outputs": [],
   "cell_type": "code",
   "source": [
    "using WorldOceanAtlasTools\n",
    "μDIPobs3D, σ²DIPobs3D = WorldOceanAtlasTools.fit_to_grid(grd, 2018, \"phosphate\", \"annual\", \"1°\", \"an\")\n",
    "μDIPobs, σ²DIPobs = μDIPobs3D[iwet], σ²DIPobs3D[iwet]\n",
    "μx = (μDIPobs, missing)\n",
    "σ²x = (σ²DIPobs, missing)"
   ],
   "metadata": {},
   "execution_count": null
  },
  {
   "outputs": [],
   "cell_type": "markdown",
   "source": [
    "We define some hyper parameters for the weight of the mismatch of DIP, POP, and the parameters with observations / their prior estimates."
   ],
   "metadata": {}
  },
  {
   "outputs": [],
   "cell_type": "code",
   "source": [
    "ωs = [1.0, 0.0] # the weight for the mismatch (weight of POP = 0)\n",
    "ωp = 1e-4       # the weight for the parameters prior estimates"
   ],
   "metadata": {},
   "execution_count": null
  },
  {
   "outputs": [],
   "cell_type": "markdown",
   "source": [
    "We then generate the objective function and some derivatives using the PO₄ mean and variance"
   ],
   "metadata": {}
  },
  {
   "outputs": [],
   "cell_type": "code",
   "source": [
    "v = ustrip.(vector_of_volumes(grd))\n",
    "f = generate_objective(ωs, μx, σ²x, v, ωp, mean_obs(p), variance_obs(p))\n",
    "∇ₓf = generate_∇ₓobjective(ωs, μx, σ²x, v, ωp, mean_obs(p), variance_obs(p))\n",
    "∇ₚf = generate_∇ₚobjective(ωs, μx, σ²x, v, ωp, mean_obs(p), variance_obs(p))"
   ],
   "metadata": {},
   "execution_count": null
  },
  {
   "outputs": [],
   "cell_type": "markdown",
   "source": [
    "For the optimization, we will use the F-1 algorithm from the [F1Method](https://github.com/briochemc/F1Method.jl) package."
   ],
   "metadata": {}
  },
  {
   "outputs": [],
   "cell_type": "code",
   "source": [
    "using F1Method"
   ],
   "metadata": {},
   "execution_count": null
  },
  {
   "outputs": [],
   "cell_type": "markdown",
   "source": [
    "For the F-1 algorithm, we must initialize the memory buffer"
   ],
   "metadata": {}
  },
  {
   "outputs": [],
   "cell_type": "code",
   "source": [
    "mem = F1Method.initialize_mem(s, p)"
   ],
   "metadata": {},
   "execution_count": null
  },
  {
   "outputs": [],
   "cell_type": "markdown",
   "source": [
    "We then define the objective, gradient, and Hessian using the F1Method package API"
   ],
   "metadata": {}
  },
  {
   "outputs": [],
   "cell_type": "code",
   "source": [
    "objective(p) = F1Method.objective(f, F, ∇ₓF, mem, p, CTKAlg())\n",
    "gradient(p) = F1Method.gradient(f, F, ∇ₓf, ∇ₓF, mem, p, CTKAlg())\n",
    "hessian(p) = F1Method.hessian(f, F, ∇ₓf, ∇ₓF, mem, p, CTKAlg())"
   ],
   "metadata": {},
   "execution_count": null
  },
  {
   "outputs": [],
   "cell_type": "markdown",
   "source": [
    "Because we want the parameters to remain positive, we define the change of variables\n",
    "The change variable from vector `λ = log(p)` to Parameters `p`:"
   ],
   "metadata": {}
  },
  {
   "outputs": [],
   "cell_type": "code",
   "source": [
    "λ2p(λ) = AIBECS.opt_para(exp.(λ))"
   ],
   "metadata": {},
   "execution_count": null
  },
  {
   "outputs": [],
   "cell_type": "markdown",
   "source": [
    "and the corresponding derivatives:"
   ],
   "metadata": {}
  },
  {
   "outputs": [],
   "cell_type": "code",
   "source": [
    "∇λ2p(λ) = exp.(λ)\n",
    "∇²λ2p(λ) = exp.(λ)"
   ],
   "metadata": {},
   "execution_count": null
  },
  {
   "outputs": [],
   "cell_type": "markdown",
   "source": [
    "Reverse change of variables from Parameters p to vector λ"
   ],
   "metadata": {}
  },
  {
   "outputs": [],
   "cell_type": "code",
   "source": [
    "p2λ(p) = log.(optvec(p))\n",
    "λ = p2λ(p)\n",
    "\n",
    "obj(λ) = objective(λ2p(λ))\n",
    "using LinearAlgebra\n",
    "grad(λ) = gradient(λ2p(λ)) * Diagonal(∇λ2p(λ))\n",
    "function hess(λ)\n",
    "    ∇p = Diagonal(∇λ2p(λ)) # for variable change\n",
    "    ∇²p = Diagonal(∇²λ2p(λ)) # for variable change\n",
    "    G = vec(gradient(λ2p(λ)))\n",
    "    H = hessian(λ2p(λ))\n",
    "    return ∇p * H * ∇p + Diagonal(G) * ∇²p\n",
    "end"
   ],
   "metadata": {},
   "execution_count": null
  },
  {
   "outputs": [],
   "cell_type": "markdown",
   "source": [
    "Use optim to optimize"
   ],
   "metadata": {}
  },
  {
   "outputs": [],
   "cell_type": "code",
   "source": [
    "using Optim"
   ],
   "metadata": {},
   "execution_count": null
  },
  {
   "outputs": [],
   "cell_type": "markdown",
   "source": [
    "Add storage for use with Optim"
   ],
   "metadata": {}
  },
  {
   "outputs": [],
   "cell_type": "code",
   "source": [
    "m = length(p)\n",
    "grad(s, λ) = s[1:m] .= vec(grad(λ))\n",
    "hess(s, λ) = s[1:m,1:m] .= hess(λ)"
   ],
   "metadata": {},
   "execution_count": null
  },
  {
   "outputs": [],
   "cell_type": "markdown",
   "source": [
    "Set options of Optim"
   ],
   "metadata": {}
  },
  {
   "outputs": [],
   "cell_type": "code",
   "source": [
    "opt = Optim.Options(store_trace = false, show_trace = true, extended_trace = false)"
   ],
   "metadata": {},
   "execution_count": null
  },
  {
   "outputs": [],
   "cell_type": "markdown",
   "source": [
    "The starting parameters are"
   ],
   "metadata": {}
  },
  {
   "outputs": [],
   "cell_type": "code",
   "source": [
    "p"
   ],
   "metadata": {},
   "execution_count": null
  },
  {
   "outputs": [],
   "cell_type": "markdown",
   "source": [
    "Run optimization"
   ],
   "metadata": {}
  },
  {
   "outputs": [],
   "cell_type": "code",
   "source": [
    "results = optimize(obj, grad, hess, λ, NewtonTrustRegion(), opt)"
   ],
   "metadata": {},
   "execution_count": null
  },
  {
   "outputs": [],
   "cell_type": "markdown",
   "source": [
    "Because we started from an other optimized set of parameters, this should only take a few iterations.\n",
    "The optimized parameters are"
   ],
   "metadata": {}
  },
  {
   "outputs": [],
   "cell_type": "code",
   "source": [
    "p_optimized = λ2p(results.minimizer)"
   ],
   "metadata": {},
   "execution_count": null
  },
  {
   "outputs": [],
   "cell_type": "markdown",
   "source": [
    "After optimizing these parameters, we expect the fit to be better.\n",
    "Let's have a look at the optimized steady-state solution at the same depth as earlier, and compare it to the observed DIP field.\n",
    "First, let's calculate the steady-state with the optimized parameters."
   ],
   "metadata": {}
  },
  {
   "outputs": [],
   "cell_type": "code",
   "source": [
    "prob_optimized = SteadyStateProblem(F, ∇ₓF, s, p_optimized)\n",
    "s_optimized = solve(prob_optimized, CTKAlg()).u"
   ],
   "metadata": {},
   "execution_count": null
  },
  {
   "outputs": [],
   "cell_type": "markdown",
   "source": [
    "The we calculate the fractional difference bewteen modeled and observed DIP, before and after optimization:"
   ],
   "metadata": {}
  },
  {
   "outputs": [],
   "cell_type": "code",
   "source": [
    "optimized_DIP, POPnew = state_to_tracers(s_optimized, grd)\n",
    "δDIP_before = 100(DIP - μDIPobs) ./ μDIPobs\n",
    "δDIP_after = 100(optimized_DIP - μDIPobs) ./ μDIPobs"
   ],
   "metadata": {},
   "execution_count": null
  },
  {
   "outputs": [],
   "cell_type": "markdown",
   "source": [
    "And take a slice at 2000m.\n",
    "Note the keyword arguments to set the contour `levels` and the `balance` colormap\n",
    "(list of Plots.jl colormaps available [here](https://docs.juliaplots.org/latest/colors/))"
   ],
   "metadata": {}
  },
  {
   "outputs": [],
   "cell_type": "code",
   "source": [
    "horizontalslice(δDIP_before, grd, 2000; levels=-20:2:20, color=:balance)"
   ],
   "metadata": {},
   "execution_count": null
  },
  {
   "outputs": [],
   "cell_type": "markdown",
   "source": [
    "We can see a significant negative bias in the North Atlantic.\n",
    "This is probably due to having swapped the circulation from OCIM1 to OCIM0.1.\n",
    "Let's plot the OCIM-0.1-optimized mismatch"
   ],
   "metadata": {}
  },
  {
   "outputs": [],
   "cell_type": "code",
   "source": [
    "horizontalslice(δDIP_after, grd, 2000; levels=-20:2:20, color=:balance)"
   ],
   "metadata": {},
   "execution_count": null
  },
  {
   "outputs": [],
   "cell_type": "markdown",
   "source": [
    "This shows that most of the negative bias has been corrected.\n",
    "(The blue patch in the North Atlantic has dissipated.)\n",
    "Of course, this optimization was \"easy\", because there were only 2 tracers, few parameters, and we started from a pretty good solution.\n",
    "However, this type of optimization can really improve the skill of models, even current \"state-of-the-art\" ones.\n",
    "Such optimizations turn average models into better tools for cutting-edge oceanography research."
   ],
   "metadata": {}
  },
  {
   "outputs": [],
   "cell_type": "markdown",
   "source": [
    "> **Note**\n",
    "> If you find any bugs or ideas you want to test and struggle with the AIBECS, don't hesitate to raise issues on the GitHub [AIBECS](https://github.com/briochemc/AIBECS.jl) repository or [contact me](www.bpasquier.com)!"
   ],
   "metadata": {}
  },
  {
   "outputs": [],
   "cell_type": "markdown",
   "source": [
    "*This notebook was generated using [Literate.jl](https://github.com/fredrikekre/Literate.jl).*"
   ],
   "metadata": {}
  }
 ],
 "nbformat_minor": 3,
 "metadata": {
  "language_info": {
   "file_extension": ".jl",
   "mimetype": "application/julia",
   "name": "julia",
   "version": "1.2.0"
  },
  "kernelspec": {
   "name": "julia-1.2",
   "display_name": "Julia 1.2.0",
   "language": "julia"
  }
 },
 "nbformat": 4
}

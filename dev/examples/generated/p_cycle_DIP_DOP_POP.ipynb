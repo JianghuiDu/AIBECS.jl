{
 "cells": [
  {
   "outputs": [],
   "cell_type": "markdown",
   "source": [
    "# A Phosphorus Cycling Model"
   ],
   "metadata": {}
  },
  {
   "outputs": [],
   "cell_type": "markdown",
   "source": [
    "## Tracer equations"
   ],
   "metadata": {}
  },
  {
   "outputs": [],
   "cell_type": "markdown",
   "source": [
    "We consider a simple model for the cycling of phosphorus with 3 state variables consisting of phosphate (PO₄) AKA dissolved inorganic phosphorus (DIP), dissolved organic phosphorus (DOP), and particulate organic phosphorus (POP).\n",
    "\n",
    "The dissolved phases are transported by advection and diffusion whereas the particulate phase sinks rapidly down the water column without any appreciable transport by the circulation.\n",
    "\n",
    "The governing equations are:\n",
    "\n",
    "$$\\frac{\\partial}{\\partial t} DIP + \\nabla \\cdot \\left[\\boldsymbol{u} + \\mathbf{K}\\cdot\\nabla \\right] DIP = -\\gamma(DIP) + \\kappa_\\mathsf{D} \\, DOP,$$\n",
    "\n",
    "$$\\frac{\\partial}{\\partial t} DOP + \\nabla \\cdot \\left[\\boldsymbol{u} + \\mathbf{K}\\cdot \\nabla \\right] DOP = \\sigma \\, \\gamma(DIP) + \\kappa_\\mathsf{P} \\, POP - \\kappa_\\mathsf{D} \\, DOP,$$\n",
    "\n",
    "and\n",
    "\n",
    "$$\\frac{\\partial}{\\partial t} POP + \\frac{\\partial}{\\partial z} \\left[w_\\mathsf{P} \\, POP\\right] = (1-\\sigma) \\, \\gamma(DIP) - \\kappa_\\mathsf{P} \\, POP,$$\n",
    "\n",
    "where $\\boldsymbol{u}$ is the fluid velocity and $\\mathbf{K}$ is the eddy-diffusion tensor.\n",
    "Thus, $\\nabla \\cdot \\left[ \\boldsymbol{u} - \\mathbf{K} \\cdot \\nabla \\right]$ is a differential operator that represents the transport by the ocean circulation.\n",
    "The function $\\gamma(DIP)$ represents the biological uptake of DIP by phytoplankton."
   ],
   "metadata": {}
  },
  {
   "outputs": [],
   "cell_type": "markdown",
   "source": [
    "Oxygen participates to this cycle too and satisfies its own tracer equation\n",
    "\n",
    "$$\\frac{\\partial}{\\partial t} DO_2 + \\nabla \\cdot \\left[\\boldsymbol{u} + \\mathbf{K}\\cdot\\nabla \\right] DO_2 = -r_{\\mathsf{O}_2:\\mathsf{P}} \\, \\kappa_\\mathsf{D} \\, DOP + \\boldsymbol{\\Lambda}(DO_2 - [O_2]_{\\mathsf{sat}})$$\n",
    "\n",
    "where $\\Lambda$ is the air-sea gas exchange operator."
   ],
   "metadata": {}
  },
  {
   "outputs": [],
   "cell_type": "markdown",
   "source": [
    "These tracer equations depend on a number of scalars, that we list below\n",
    "\n",
    "| Symbol                        | Definition                                                                  |\n",
    "|:------------------------------|:----------------------------------------------------------------------------|\n",
    "| $w_\\mathsf{P}$                | depth dependent particle sinking speed                                      |\n",
    "| $\\sigma$                      | fraction of the organic matter production allocated to the dissolved phase  |\n",
    "| $\\kappa_\\mathsf{D}$           | respiration rate for dissolved organic matter (DOP → DIP)                   |\n",
    "| $\\kappa_\\mathsf{P}$           | dissolution rate for particulate organic matter (POP → DOP)                 |\n",
    "| $r_{\\mathsf{O}_2:\\mathsf{P}}$ | number of moles of O₂ needed to respire 1 mole of DOP                       |"
   ],
   "metadata": {}
  },
  {
   "outputs": [],
   "cell_type": "code",
   "source": [
    "using AIBECS"
   ],
   "metadata": {},
   "execution_count": 1
  },
  {
   "outputs": [],
   "cell_type": "markdown",
   "source": [
    "Load the circulation and grid"
   ],
   "metadata": {}
  },
  {
   "outputs": [
    {
     "name": "stdout",
     "output_type": "stream",
     "text": [
      "Loading OCIM1 with JLD2┌ Warning: Over-writing registration of the datadep\n",
      "│   name = MatricesForJAMES\n",
      "└ @ DataDeps /home/travis/.julia/packages/DataDeps/LiEdA/src/registration.jl:8\n",
      " ✅\n"
     ]
    },
    {
     "output_type": "execute_result",
     "data": {
      "text/plain": "([0.0 0.0 … 0.0 0.0; 0.0 0.0 … 0.0 0.0; … ; 1.0 1.0 … 1.0 1.0; 0.0 0.0 … 0.0 0.0]\n\n[0.0 0.0 … 0.0 0.0; 0.0 0.0 … 0.0 0.0; … ; 1.0 1.0 … 1.0 1.0; 0.0 0.0 … 0.0 0.0]\n\n[0.0 0.0 … 0.0 0.0; 0.0 0.0 … 0.0 0.0; … ; 1.0 1.0 … 1.0 1.0; 0.0 0.0 … 0.0 0.0]\n\n...\n\n[0.0 0.0 … 0.0 0.0; 0.0 0.0 … 0.0 0.0; … ; 0.0 0.0 … 0.0 0.0; 0.0 0.0 … 0.0 0.0]\n\n[0.0 0.0 … 0.0 0.0; 0.0 0.0 … 0.0 0.0; … ; 0.0 0.0 … 0.0 0.0; 0.0 0.0 … 0.0 0.0]\n\n[0.0 0.0 … 0.0 0.0; 0.0 0.0 … 0.0 0.0; … ; 0.0 0.0 … 0.0 0.0; 0.0 0.0 … 0.0 0.0], Dict{String,Any}(\"XT\" => [1.0 3.0 … 357.0 359.0; 1.0 3.0 … 357.0 359.0; … ; 1.0 3.0 … 357.0 359.0; 1.0 3.0 … 357.0 359.0],\"Areat\" => [8.442828573400822e8 8.442828573400822e8 … 8.442828573400822e8 8.442828573400822e8; 2.53184242418399e9 2.53184242418399e9 … 2.53184242418399e9 2.53184242418399e9; … ; 2.531842424184019e9 2.531842424184019e9 … 2.531842424184019e9 2.531842424184019e9; 8.442828573400851e8 8.442828573400851e8 … 8.442828573400851e8 8.442828573400851e8],\"YC\" => [-88.02197802197801 -88.02197802197801 … -88.02197802197801 -88.02197802197801; -86.04395604395604 -86.04395604395604 … -86.04395604395604 -86.04395604395604; … ; 88.02197802197801 88.02197802197801 … 88.02197802197801 88.02197802197801; 90.0 90.0 … 90.0 90.0],\"dxu\" => [2.0 2.0 … 2.0 2.0],\"YT3d\" => [-89.01098901098901 -89.01098901098901 … -89.01098901098901 -89.01098901098901; -87.03296703296704 -87.03296703296704 … -87.03296703296704 -87.03296703296704; … ; 87.03296703296702 87.03296703296702 … 87.03296703296702 87.03296703296702; 89.01098901098901 89.01098901098901 … 89.01098901098901 89.01098901098901]\n\n[-89.01098901098901 -89.01098901098901 … -89.01098901098901 -89.01098901098901; -87.03296703296704 -87.03296703296704 … -87.03296703296704 -87.03296703296704; … ; 87.03296703296702 87.03296703296702 … 87.03296703296702 87.03296703296702; 89.01098901098901 89.01098901098901 … 89.01098901098901 89.01098901098901]\n\n[-89.01098901098901 -89.01098901098901 … -89.01098901098901 -89.01098901098901; -87.03296703296704 -87.03296703296704 … -87.03296703296704 -87.03296703296704; … ; 87.03296703296702 87.03296703296702 … 87.03296703296702 87.03296703296702; 89.01098901098901 89.01098901098901 … 89.01098901098901 89.01098901098901]\n\n...\n\n[-89.01098901098901 -89.01098901098901 … -89.01098901098901 -89.01098901098901; -87.03296703296704 -87.03296703296704 … -87.03296703296704 -87.03296703296704; … ; 87.03296703296702 87.03296703296702 … 87.03296703296702 87.03296703296702; 89.01098901098901 89.01098901098901 … 89.01098901098901 89.01098901098901]\n\n[-89.01098901098901 -89.01098901098901 … -89.01098901098901 -89.01098901098901; -87.03296703296704 -87.03296703296704 … -87.03296703296704 -87.03296703296704; … ; 87.03296703296702 87.03296703296702 … 87.03296703296702 87.03296703296702; 89.01098901098901 89.01098901098901 … 89.01098901098901 89.01098901098901]\n\n[-89.01098901098901 -89.01098901098901 … -89.01098901098901 -89.01098901098901; -87.03296703296704 -87.03296703296704 … -87.03296703296704 -87.03296703296704; … ; 87.03296703296702 87.03296703296702 … 87.03296703296702 87.03296703296702; 89.01098901098901 89.01098901098901 … 89.01098901098901 89.01098901098901],\"YV3d\" => [-88.02197802197801 -88.02197802197801 … -88.02197802197801 -88.02197802197801; -86.04395604395604 -86.04395604395604 … -86.04395604395604 -86.04395604395604; … ; 88.02197802197801 88.02197802197801 … 88.02197802197801 88.02197802197801; 90.0 90.0 … 90.0 90.0]\n\n[-88.02197802197801 -88.02197802197801 … -88.02197802197801 -88.02197802197801; -86.04395604395604 -86.04395604395604 … -86.04395604395604 -86.04395604395604; … ; 88.02197802197801 88.02197802197801 … 88.02197802197801 88.02197802197801; 90.0 90.0 … 90.0 90.0]\n\n[-88.02197802197801 -88.02197802197801 … -88.02197802197801 -88.02197802197801; -86.04395604395604 -86.04395604395604 … -86.04395604395604 -86.04395604395604; … ; 88.02197802197801 88.02197802197801 … 88.02197802197801 88.02197802197801; 90.0 90.0 … 90.0 90.0]\n\n...\n\n[-88.02197802197801 -88.02197802197801 … -88.02197802197801 -88.02197802197801; -86.04395604395604 -86.04395604395604 … -86.04395604395604 -86.04395604395604; … ; 88.02197802197801 88.02197802197801 … 88.02197802197801 88.02197802197801; 90.0 90.0 … 90.0 90.0]\n\n[-88.02197802197801 -88.02197802197801 … -88.02197802197801 -88.02197802197801; -86.04395604395604 -86.04395604395604 … -86.04395604395604 -86.04395604395604; … ; 88.02197802197801 88.02197802197801 … 88.02197802197801 88.02197802197801; 90.0 90.0 … 90.0 90.0]\n\n[-88.02197802197801 -88.02197802197801 … -88.02197802197801 -88.02197802197801; -86.04395604395604 -86.04395604395604 … -86.04395604395604 -86.04395604395604; … ; 88.02197802197801 88.02197802197801 … 88.02197802197801 88.02197802197801; 90.0 90.0 … 90.0 90.0],\"DYT3d\" => [219946.0087474788 219946.0087474788 … 219946.0087474788 219946.0087474788; 219946.00874747802 219946.00874747802 … 219946.00874747802 219946.00874747802; … ; 219946.0087474796 219946.0087474796 … 219946.0087474796 219946.0087474796; 219946.0087474796 219946.0087474796 … 219946.0087474796 219946.0087474796]\n\n[219946.0087474788 219946.0087474788 … 219946.0087474788 219946.0087474788; 219946.00874747802 219946.00874747802 … 219946.00874747802 219946.00874747802; … ; 219946.0087474796 219946.0087474796 … 219946.0087474796 219946.0087474796; 219946.0087474796 219946.0087474796 … 219946.0087474796 219946.0087474796]\n\n[219946.0087474788 219946.0087474788 … 219946.0087474788 219946.0087474788; 219946.00874747802 219946.00874747802 … 219946.00874747802 219946.00874747802; … ; 219946.0087474796 219946.0087474796 … 219946.0087474796 219946.0087474796; 219946.0087474796 219946.0087474796 … 219946.0087474796 219946.0087474796]\n\n...\n\n[219946.0087474788 219946.0087474788 … 219946.0087474788 219946.0087474788; 219946.00874747802 219946.00874747802 … 219946.00874747802 219946.00874747802; … ; 219946.0087474796 219946.0087474796 … 219946.0087474796 219946.0087474796; 219946.0087474796 219946.0087474796 … 219946.0087474796 219946.0087474796]\n\n[219946.0087474788 219946.0087474788 … 219946.0087474788 219946.0087474788; 219946.00874747802 219946.00874747802 … 219946.00874747802 219946.00874747802; … ; 219946.0087474796 219946.0087474796 … 219946.0087474796 219946.0087474796; 219946.0087474796 219946.0087474796 … 219946.0087474796 219946.0087474796]\n\n[219946.0087474788 219946.0087474788 … 219946.0087474788 219946.0087474788; 219946.00874747802 219946.00874747802 … 219946.00874747802 219946.00874747802; … ; 219946.0087474796 219946.0087474796 … 219946.0087474796 219946.0087474796; 219946.0087474796 219946.0087474796 … 219946.0087474796 219946.0087474796],\"dxv\" => [2.0 2.0 … 2.0 2.0],\"YV\" => [-88.02197802197801 -88.02197802197801 … -88.02197802197801 -88.02197802197801; -86.04395604395604 -86.04395604395604 … -86.04395604395604 -86.04395604395604; … ; 88.02197802197801 88.02197802197801 … 88.02197802197801 88.02197802197801; 90.0 90.0 … 90.0 90.0],\"DYV\" => [219946.00874747802 219946.00874747802 … 219946.00874747802 219946.00874747802; 219946.0087474796 219946.0087474796 … 219946.0087474796 219946.0087474796; … ; 219946.0087474796 219946.0087474796 … 219946.0087474796 219946.0087474796; 219946.0087474788 219946.0087474788 … 219946.0087474788 219946.0087474788]…), \n  [1     ,      1]  =  0.000197784\n  [2     ,      1]  =  1.05541e-8\n  [10384 ,      1]  =  -2.09257e-7\n  [10442 ,      1]  =  -0.000191611\n  [10443 ,      1]  =  4.80961e-9\n  [20825 ,      1]  =  -1.83059e-9\n  [20883 ,      1]  =  7.967e-9\n  [1     ,      2]  =  -5.98052e-8\n  [2     ,      2]  =  0.000187532\n  ⋮\n  [200160, 200159]  =  -2.04829e-8\n  [197886, 200160]  =  2.41231e-9\n  [199766, 200160]  =  6.70985e-9\n  [199777, 200160]  =  -1.26357e-9\n  [199778, 200160]  =  -7.22216e-9\n  [199779, 200160]  =  7.59325e-9\n  [199790, 200160]  =  -7.41023e-9\n  [200156, 200160]  =  -3.07748e-8\n  [200159, 200160]  =  -2.14741e-8\n  [200160, 200160]  =  5.22074e-8)"
     },
     "metadata": {},
     "execution_count": 2
    }
   ],
   "cell_type": "code",
   "source": [
    "const wet3d, grd, T_Circulation = OCIM1.load()"
   ],
   "metadata": {},
   "execution_count": 2
  },
  {
   "outputs": [],
   "cell_type": "markdown",
   "source": [
    "Define useful constants and arrays"
   ],
   "metadata": {}
  },
  {
   "outputs": [
    {
     "output_type": "execute_result",
     "data": {
      "text/plain": "200160-element Array{Float64,1}:\n    0.0           \n    0.0           \n    0.0           \n    0.0           \n    0.0           \n    0.0           \n    0.0           \n    0.0           \n    0.0           \n    0.0           \n    ⋮             \n 5116.506284367635\n 5116.506284367635\n 5116.506284367635\n 5116.506284367635\n 5116.506284367635\n 5116.506284367635\n 5116.506284367635\n 5116.506284367635\n 5116.506284367635"
     },
     "metadata": {},
     "execution_count": 3
    }
   ],
   "cell_type": "code",
   "source": [
    "const iwet = indices_of_wet_boxes(wet3d)\n",
    "const nb = number_of_wet_boxes(wet3d)\n",
    "const v = vector_of_volumes(wet3d, grd)\n",
    "const z = vector_of_depths(wet3d, grd)\n",
    "const ztop = vector_of_top_depths(wet3d, grd)"
   ],
   "metadata": {},
   "execution_count": 3
  },
  {
   "outputs": [],
   "cell_type": "markdown",
   "source": [
    "And matrices"
   ],
   "metadata": {}
  },
  {
   "outputs": [],
   "cell_type": "code",
   "source": [
    "const DIV = buildDIV(wet3d, iwet, grd)\n",
    "const Iabove = buildIabove(wet3d, iwet) ;"
   ],
   "metadata": {},
   "execution_count": 4
  },
  {
   "outputs": [],
   "cell_type": "markdown",
   "source": [
    "### Transport matrices"
   ],
   "metadata": {}
  },
  {
   "outputs": [
    {
     "output_type": "execute_result",
     "data": {
      "text/plain": "(Main.##398.T_DIP, Main.##398.T_DOP, Main.##398.T_POP, Main.##398.T_DO2)"
     },
     "metadata": {},
     "execution_count": 5
    }
   ],
   "cell_type": "code",
   "source": [
    "T_DIP(p) = T_Circulation\n",
    "T_DOP(p) = T_Circulation\n",
    "T_DO2(p) = T_Circulation\n",
    "const S₀ = buildPFD(ones(nb), DIV, Iabove)\n",
    "const S′ = buildPFD(ztop, DIV, Iabove)\n",
    "function T_POP(p)\n",
    "    w₀, w′ = p.w₀, p.w′\n",
    "    return w₀ * S₀ + w′ * S′\n",
    "end\n",
    "T_all = (T_DIP, T_DOP, T_POP, T_DO2)"
   ],
   "metadata": {},
   "execution_count": 5
  },
  {
   "outputs": [],
   "cell_type": "markdown",
   "source": [
    "Because AIBECS will solve for the steady state solution directly without time-stepping the goverining equations to equilibrium, we don't have any opportunity to specify any intial conditions.\n",
    "Initial conditions are how the total amount of conserved elements get specified in most global biogeochemical modelels.\n",
    "Thus to specify the total inventory of P in AIBECS we add a very weak resporing term to the DIP equation.\n",
    "The time-scale for this restoring term is chosen to be very long compared to the timescale with which the ocean circulation homogenizes a tracer.\n",
    "Because of this long timescale we call it the geological restoring term, but geochemists who work on geological processes don't like that name!\n",
    "In any event the long timescale allows us to prescribe the total inventory of P without having any appreciable impact on the 3d distribution of P."
   ],
   "metadata": {}
  },
  {
   "outputs": [],
   "cell_type": "markdown",
   "source": [
    "### Sources minus sinks\n",
    "\n",
    "##### Geological Restoring"
   ],
   "metadata": {}
  },
  {
   "outputs": [
    {
     "output_type": "execute_result",
     "data": {
      "text/plain": "geores (generic function with 1 method)"
     },
     "metadata": {},
     "execution_count": 6
    }
   ],
   "cell_type": "code",
   "source": [
    "function geores(x, p)\n",
    "    τg, xgeo = p.τg, p.xgeo\n",
    "    return (xgeo .- x) / τg\n",
    "end"
   ],
   "metadata": {},
   "execution_count": 6
  },
  {
   "outputs": [],
   "cell_type": "markdown",
   "source": [
    "##### Uptake of phosphate (DIP)"
   ],
   "metadata": {}
  },
  {
   "outputs": [
    {
     "output_type": "execute_result",
     "data": {
      "text/plain": "uptake (generic function with 1 method)"
     },
     "metadata": {},
     "execution_count": 7
    }
   ],
   "cell_type": "code",
   "source": [
    "relu(x) = (x .≥ 0) .* x\n",
    "function uptake(DIP, p)\n",
    "    τu, ku, z₀ = p.τu, p.ku, p.z₀\n",
    "    DIP⁺ = relu(DIP)\n",
    "    return 1/τu * DIP⁺.^2 ./ (DIP⁺ .+ ku) .* (z .≤ z₀)\n",
    "end"
   ],
   "metadata": {},
   "execution_count": 7
  },
  {
   "outputs": [],
   "cell_type": "markdown",
   "source": [
    "##### Remineralization DOP into DIP"
   ],
   "metadata": {}
  },
  {
   "outputs": [
    {
     "output_type": "execute_result",
     "data": {
      "text/plain": "remineralization (generic function with 1 method)"
     },
     "metadata": {},
     "execution_count": 8
    }
   ],
   "cell_type": "code",
   "source": [
    "function remineralization(DOP, p)\n",
    "    κDOP = p.κDOP\n",
    "    return κDOP * DOP\n",
    "end"
   ],
   "metadata": {},
   "execution_count": 8
  },
  {
   "outputs": [],
   "cell_type": "markdown",
   "source": [
    "##### Dissolution of POP into DOP"
   ],
   "metadata": {}
  },
  {
   "outputs": [
    {
     "output_type": "execute_result",
     "data": {
      "text/plain": "dissolution (generic function with 1 method)"
     },
     "metadata": {},
     "execution_count": 9
    }
   ],
   "cell_type": "code",
   "source": [
    "function dissolution(POP, p)\n",
    "    κPOP = p.κPOP\n",
    "    return κPOP * POP\n",
    "end"
   ],
   "metadata": {},
   "execution_count": 9
  },
  {
   "outputs": [],
   "cell_type": "markdown",
   "source": [
    "##### Air-sea gas exchange"
   ],
   "metadata": {}
  },
  {
   "outputs": [
    {
     "name": "stdout",
     "output_type": "stream",
     "text": [
      "WARNING: redefining constant z\n",
      "WARNING: eval into closed module Memoize:\n",
      "Expr(:const, Symbol(\"##bin_index_memoized_cache\") = Expr(:call, :IdDict))\n",
      "  ** incremental compilation may be fatally broken for this module **\n",
      "\n",
      "Trying OPeNDAP first\n",
      "  Reading NetCDF file\n",
      "  Rearranging data\n",
      "  Filtering data\n",
      "  Averaging data over each grid box\n",
      "  Setting μ = 0 and σ² = ∞ where no obs\n",
      "  Setting a realistic minimum for σ²\n"
     ]
    },
    {
     "output_type": "execute_result",
     "data": {
      "text/plain": "([0.0 0.0 … 0.0 0.0; 0.0 0.0 … 0.0 0.0; … ; 0.9986298060417176 0.9981694602966309 … 1.000671501159668 0.9994396591186524; 1.0175252294540404 1.0174463748931886 … 1.0179427027702332 1.0176871752738952]\n\n[0.0 0.0 … 0.0 0.0; 0.0 0.0 … 0.0 0.0; … ; 0.9550732585362026 0.9562181799752372 … 0.9535434395926339 0.9541520363943917; 0.9528527014596122 0.9531717082432338 … 0.9524201202392578 0.9525935690743583]\n\n[0.0 0.0 … 0.0 0.0; 0.0 0.0 … 0.0 0.0; … ; 0.8482290013631184 0.8513909212748211 … 0.8417107359568279 0.8448687076568604; 0.836611909866333 0.8373468748728435 … 0.8351414712270101 0.8358594926198323]\n\n...\n\n[0.0 0.0 … 0.0 0.0; 0.0 0.0 … 0.0 0.0; … ; 0.8468556912740072 0.8483416112263997 … 0.8462580108642578 0.8461976095346304; 0.8393070729573567 0.8395611953735351 … 0.8417618124825614 0.8413471494402204]\n\n[0.0 0.0 … 0.0 0.0; 0.0 0.0 … 0.0 0.0; … ; 0.0 0.0 … 0.0 0.0; 0.0 0.0 … 0.0 0.0]\n\n[0.0 0.0 … 0.0 0.0; 0.0 0.0 … 0.0 0.0; … ; 0.0 0.0 … 0.0 0.0; 0.0 0.0 … 0.0 0.0], [Inf Inf … Inf Inf; Inf Inf … Inf Inf; … ; 4.483668471052279e-5 4.483668471052279e-5 … 4.483668471052279e-5 4.483668471052279e-5; 6.510639911157342e-5 6.60700174907106e-5 … 5.990546374687256e-5 6.299638850869087e-5]\n\n[Inf Inf … Inf Inf; Inf Inf … Inf Inf; … ; 0.0014753435689954131 0.0014058725722332383 … 0.0016401173756970821 0.0015562222898595792; 0.0020962392960074796 0.002079495734697957 … 0.002135013684531441 0.0021153090527070164]\n\n[Inf Inf … Inf Inf; Inf Inf … Inf Inf; … ; 6.02427243913553e-5 6.371971117605426e-5 … 5.616889233288021e-5 5.7314006471460744e-5; 6.847410248901724e-5 7.391922987526414e-5 … 6.143014941535512e-5 6.413035838413634e-5]\n\n...\n\n[Inf Inf … Inf Inf; Inf Inf … Inf Inf; … ; 4.483668471052279e-5 4.483668471052279e-5 … 4.483668471052279e-5 4.483668471052279e-5; 4.483668471052279e-5 4.483668471052279e-5 … 4.483668471052279e-5 4.483668471052279e-5]\n\n[Inf Inf … Inf Inf; Inf Inf … Inf Inf; … ; Inf Inf … Inf Inf; Inf Inf … Inf Inf]\n\n[Inf Inf … Inf Inf; Inf Inf … Inf Inf; … ; Inf Inf … Inf Inf; Inf Inf … Inf Inf])"
     },
     "metadata": {},
     "execution_count": 10
    }
   ],
   "cell_type": "code",
   "source": [
    "dz1 = grd[\"dzt\"][1]               # thickness of the top layer\n",
    "z = vec(grd[\"ZT3d\"])[iwet]        # depth of the gridbox centers\n",
    "using WorldOceanAtlasTools\n",
    "WOA = WorldOceanAtlasTools\n",
    "μDO2 , σ²DO2 = WOA.fit_to_grid(grd,2018,\"O2sat\",\"annual\",\"1°\",\"an\")"
   ],
   "metadata": {},
   "execution_count": 10
  },
  {
   "outputs": [],
   "cell_type": "markdown",
   "source": [
    "This below was commented out?"
   ],
   "metadata": {}
  },
  {
   "outputs": [
    {
     "output_type": "execute_result",
     "data": {
      "text/plain": "airsea (generic function with 1 method)"
     },
     "metadata": {},
     "execution_count": 11
    }
   ],
   "cell_type": "code",
   "source": [
    "function airsea(DO2, p)\n",
    "    κDO2 = p.κDO2\n",
    "    return κDO2 * (z .< 20) .* (1.0 .- DO2) / dz1\n",
    "end"
   ],
   "metadata": {},
   "execution_count": 11
  },
  {
   "outputs": [],
   "cell_type": "markdown",
   "source": [
    "Add them up into sms functions (Sources Minus Sinks)"
   ],
   "metadata": {}
  },
  {
   "outputs": [
    {
     "output_type": "execute_result",
     "data": {
      "text/plain": "(Main.##398.sms_DIP, Main.##398.sms_DOP, Main.##398.sms_POP)"
     },
     "metadata": {},
     "execution_count": 12
    }
   ],
   "cell_type": "code",
   "source": [
    "function sms_DIP(DIP, DOP, POP, p)\n",
    "    return -uptake(DIP, p) + remineralization(DOP, p) + geores(DIP, p)\n",
    "end\n",
    "function sms_DOP(DIP, DOP, POP, p)\n",
    "    σ = p.σ\n",
    "    return σ * uptake(DIP, p) - remineralization(DOP, p) + dissolution(POP, p)\n",
    "end\n",
    "function sms_POP(DIP, DOP, POP, p)\n",
    "    σ = p.σ\n",
    "    return (1 - σ) * uptake(DIP, p) - dissolution(POP, p)\n",
    "end\n",
    "sms_all = (sms_DIP, sms_DOP, sms_POP) # bundles all the source-sink functions in a tuple"
   ],
   "metadata": {},
   "execution_count": 12
  },
  {
   "outputs": [],
   "cell_type": "markdown",
   "source": [
    "### Parameters\n",
    "\n",
    "Build the parameters type and p₀"
   ],
   "metadata": {}
  },
  {
   "outputs": [],
   "cell_type": "code",
   "source": [
    "t = empty_parameter_table()    # initialize table of parameters\n",
    "add_parameter!(t, :xgeo, 2.17u\"mmol/m^3\",\n",
    "    variance_obs = ustrip(upreferred(0.1 * 2.17u\"mmol/m^3\"))^2,\n",
    "    description = \"Geological mean P concentration\",\n",
    "    LaTeX = \"\\\\state^\\\\mathrm{geo}\")\n",
    "add_parameter!(t, :τg, 1.0u\"Myr\",\n",
    "    description = \"Geological restoring timescale\",\n",
    "    LaTeX = \"\\\\tau_\\\\mathrm{geo}\")\n",
    "add_parameter!(t, :ku, 10.0u\"μmol/m^3\",\n",
    "    optimizable = true,\n",
    "    description = \"Half-saturation constant (Michaelis-Menten)\",\n",
    "    LaTeX = \"k_\\\\vec{u}\")\n",
    "add_parameter!(t, :z₀, 80.0u\"m\",\n",
    "    description = \"Depth of the euphotic layer base\",\n",
    "    LaTeX = \"z_0\")\n",
    "add_parameter!(t, :w₀, 1.0u\"m/d\",\n",
    "    optimizable = true,\n",
    "    description = \"Sinking velocity at surface\",\n",
    "    LaTeX = \"w_0\")\n",
    "add_parameter!(t, :w′, 1/4.4625u\"d\",\n",
    "    optimizable = true,\n",
    "    description = \"Vertical gradient of sinking velocity\",\n",
    "    LaTeX = \"w'\")\n",
    "add_parameter!(t, :κDOP, 1/0.25u\"yr\",\n",
    "    optimizable = true,\n",
    "    description = \"Remineralization rate constant (DOP to DIP)\",\n",
    "    LaTeX = \"\\\\kappa\")\n",
    "add_parameter!(t, :κPOP, 1/5.25u\"d\",\n",
    "    optimizable = true,\n",
    "    description = \"Dissolution rate constant (POP to DOP)\",\n",
    "    LaTeX = \"\\\\kappa\")\n",
    "add_parameter!(t, :σ, 0.3u\"1\",\n",
    "    description = \"Fraction of quick local uptake recycling\",\n",
    "    LaTeX = \"\\\\sigma\")\n",
    "add_parameter!(t, :τu, 30.0u\"d\",\n",
    "    optimizable = true,\n",
    "    description = \"Maximum uptake rate timescale\",\n",
    "    LaTeX = \"\\\\tau_\\\\vec{u}\")\n",
    "initialize_Parameters_type(t, \"Pcycle_Parameters\")   # Generate the parameter type"
   ],
   "metadata": {},
   "execution_count": 13
  },
  {
   "outputs": [],
   "cell_type": "markdown",
   "source": [
    "### Generate state function and Jacobian"
   ],
   "metadata": {}
  },
  {
   "outputs": [
    {
     "output_type": "execute_result",
     "data": {
      "text/plain": "800640-element Array{Float64,1}:\n 0.00217\n 0.00217\n 0.00217\n 0.00217\n 0.00217\n 0.00217\n 0.00217\n 0.00217\n 0.00217\n 0.00217\n ⋮      \n 0.00217\n 0.00217\n 0.00217\n 0.00217\n 0.00217\n 0.00217\n 0.00217\n 0.00217\n 0.00217"
     },
     "metadata": {},
     "execution_count": 14
    }
   ],
   "cell_type": "code",
   "source": [
    "nt = length(T_all)    # number of tracers\n",
    "n = nt * nb           # total dimension of the state vector\n",
    "p = Pcycle_Parameters() # parameters\n",
    "x = p.xgeo * ones(n) # initial iterate"
   ],
   "metadata": {},
   "execution_count": 14
  },
  {
   "outputs": [],
   "cell_type": "markdown",
   "source": [
    "F, ∇ₓF = state_function_and_Jacobian(T_all, sms_all, nb)"
   ],
   "metadata": {}
  },
  {
   "outputs": [],
   "cell_type": "markdown",
   "source": [
    "and solve"
   ],
   "metadata": {}
  },
  {
   "outputs": [],
   "cell_type": "markdown",
   "source": [
    "prob = SteadyStateProblem(F, ∇ₓF, x, p)\n",
    "s = solve(prob, CTKAlg());"
   ],
   "metadata": {}
  },
  {
   "outputs": [],
   "cell_type": "markdown",
   "source": [
    "unpack state"
   ],
   "metadata": {}
  },
  {
   "outputs": [],
   "cell_type": "markdown",
   "source": [
    "function unpack_P_state(s,mask)\n",
    "        DIP = NaN*mask; DOP = NaN*mask; POP = NaN*mask\n",
    "        iwet = findall(x-> x==1, vec(mask))\n",
    "        nwet = length(iwet)\n",
    "        idip = 1:nwet;       idop = idip.+nwet;   ipop = idop.+nwet\n",
    "        DIP[iwet] = s[idip]; DOP[iwet] = s[idop]; POP[iwet] = s[ipop]\n",
    "    return DIP, DOP, POP\n",
    "end\n",
    "DIP, DOP, POP = unpack_P_state(s,wet3d);"
   ],
   "metadata": {}
  },
  {
   "outputs": [],
   "cell_type": "markdown",
   "source": [
    "We will plot the concentration of DIP at a given depth horizon"
   ],
   "metadata": {}
  },
  {
   "outputs": [
    {
     "output_type": "execute_result",
     "data": {
      "text/plain": "(6, 246.7350746268657)"
     },
     "metadata": {},
     "execution_count": 15
    }
   ],
   "cell_type": "code",
   "source": [
    "depth = vec(grd[\"zt\"])\n",
    "iz = findfirst(depth .> 200)\n",
    "iz, depth[iz]"
   ],
   "metadata": {},
   "execution_count": 15
  },
  {
   "outputs": [],
   "cell_type": "markdown",
   "source": [
    "dip = DIP[:,:,iz] * ustrip(1.0u\"mol/m^3\"|>u\"mmol/m^3\");\n",
    "lat, lon = vec(grd[\"yt\"]), vec(grd[\"xt\"]);"
   ],
   "metadata": {}
  },
  {
   "outputs": [],
   "cell_type": "markdown",
   "source": [
    "and plot"
   ],
   "metadata": {}
  },
  {
   "outputs": [],
   "cell_type": "markdown",
   "source": [
    "ENV[\"MPLBACKEND\"]=\"qt5agg\"\n",
    "using PyPlot, PyCall\n",
    "using Conda; Conda.add(\"Cartopy\")\n",
    "clf()\n",
    "ccrs = pyimport(\"cartopy.crs\")\n",
    "ax = subplot(projection=ccrs.Robinson(central_longitude=-155.0))\n",
    "ax.coastlines()\n",
    "# making it cyclic for Cartopy\n",
    "lon_cyc = [lon; 360+lon[1]]\n",
    "dip_cyc = hcat(dip, dip[:,1])\n",
    "# And plot\n",
    "p = contourf(lon_cyc, lat, dip_cyc, levels=0:0.2:3.6, transform=ccrs.PlateCarree(), zorder=-1)\n",
    "colorbar(p, orientation=\"horizontal\");\n",
    "gcf()"
   ],
   "metadata": {}
  },
  {
   "outputs": [],
   "cell_type": "markdown",
   "source": [
    "*This notebook was generated using [Literate.jl](https://github.com/fredrikekre/Literate.jl).*"
   ],
   "metadata": {}
  }
 ],
 "nbformat_minor": 3,
 "metadata": {
  "language_info": {
   "file_extension": ".jl",
   "mimetype": "application/julia",
   "name": "julia",
   "version": "1.3.0-DEV.278"
  },
  "kernelspec": {
   "name": "julia-1.3",
   "display_name": "Julia 1.3.0-DEV.278",
   "language": "julia"
  }
 },
 "nbformat": 4
}

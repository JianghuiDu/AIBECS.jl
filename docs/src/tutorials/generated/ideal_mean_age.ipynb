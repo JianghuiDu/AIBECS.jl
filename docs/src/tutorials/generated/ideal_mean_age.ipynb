{
 "cells": [
  {
   "outputs": [],
   "cell_type": "markdown",
   "source": [
    "# Ideal mean age"
   ],
   "metadata": {}
  },
  {
   "outputs": [],
   "cell_type": "markdown",
   "source": [
    "## The model"
   ],
   "metadata": {}
  },
  {
   "outputs": [],
   "cell_type": "markdown",
   "source": [
    "We will simulate the ideal mean age of water.\n",
    "That is, the average amount of time since a water parcel had last contact with the surface."
   ],
   "metadata": {}
  },
  {
   "outputs": [],
   "cell_type": "markdown",
   "source": [
    "### Tracer equation\n",
    "\n",
    "The ideal mean age is transported with water, is equal to $0$ at the surface, and increases by one second every second everywhere.\n",
    "In other words, the 3D field of the age, $a$, is governed by the tracer equation\n",
    "\n",
    "$$\\frac{\\partial a}{\\partial t} + \\nabla \\cdot \\left[ \\boldsymbol{u} - \\mathbf{K} \\cdot \\nabla \\right] a = 1,$$\n",
    "\n",
    "where $\\nabla \\cdot \\left[ \\boldsymbol{u} - \\mathbf{K} \\cdot \\nabla \\right]$ is a differential operator that represents the transport by the ocean circulation.\n",
    "($\\boldsymbol{u}$ is the 3D vector field for the advection and $\\mathbf{K}$ is the diffusivity matrix.)\n",
    "In the equation above, we also assume that there is the boundary condition that $a=0$ at the surface."
   ],
   "metadata": {}
  },
  {
   "outputs": [],
   "cell_type": "markdown",
   "source": [
    "### Discretized tracer equation"
   ],
   "metadata": {}
  },
  {
   "outputs": [],
   "cell_type": "markdown",
   "source": [
    "In AIBECS, the linear differential operator defined by $\\nabla \\cdot \\left[ \\boldsymbol{u} - \\mathbf{K} \\cdot \\nabla \\right]$ is approximated by a constant matrix $\\mathbf{T}$ when discretizing the continuous 3D ocean onto the model grid.\n",
    "This matrix can be small (e.g., for models with a few boxes), or large, like for the OCIM (more on the OCIM later).\n",
    "Similarly, the continuous 3D field of the age, $a$, is discretized into a column-vector, $\\boldsymbol{a}$.\n",
    "(We represent scalars in italic, vectors in bold italic, and matrices in upstraight bold.)"
   ],
   "metadata": {}
  },
  {
   "outputs": [],
   "cell_type": "markdown",
   "source": [
    "In the discrete case, we replace the boundary condition (that $a = 0$ at the surface) by imposing $\\boldsymbol{a} = 0$ in the surface layer of the model grid.\n",
    "In practice, this is done by restoring $\\boldsymbol{a}$ to $0$ with a very short timescale.\n",
    "The tracer equation thgus takes the form of\n",
    "\n",
    "$$\\frac{\\partial\\boldsymbol{a}}{\\partial t} = -\\mathbf{T} \\, \\boldsymbol{a} + 1 - \\boldsymbol{\\Lambda} \\, \\boldsymbol{a},$$\n",
    "\n",
    "where $\\boldsymbol{\\Lambda}$ is a diagonal matrix with entries equal to $1 / \\tau$ in the surface layer of the model grid and 0 otherwise.\n",
    "The timescale $\\tau$ is chosen to be very small, ensuring that $\\boldsymbol{a}$ is very close to $0$ at the surface.\n",
    "The first term represents the transport by the ocean circulation, the second term the source of 1 second per second everywhere, and the last term the fast relaxation."
   ],
   "metadata": {}
  },
  {
   "outputs": [],
   "cell_type": "markdown",
   "source": [
    "### Steady-state"
   ],
   "metadata": {}
  },
  {
   "outputs": [],
   "cell_type": "markdown",
   "source": [
    "The steady-state is the equilibrium that would be reached if we wait long enough for $a$ to not change anymore.\n",
    "Mathematically, the steady-state is also the state for which\n",
    "\n",
    "$$\\frac{\\partial a}{\\partial t} = 0.$$"
   ],
   "metadata": {}
  },
  {
   "outputs": [],
   "cell_type": "markdown",
   "source": [
    "Computationally, in the discrete case, this means that we just need to solve\n",
    "\n",
    "$$0 = -\\mathbf{T} \\, \\boldsymbol{a} + 1 - \\boldsymbol{\\Lambda} \\, \\boldsymbol{a}$$\n",
    "\n",
    "to find $\\boldsymbol{a}$.\n",
    "More specifically, we need to solve\n",
    "\n",
    "$$(\\mathbf{T} + \\boldsymbol{\\Lambda}) \\, \\boldsymbol{a} = 1.$$"
   ],
   "metadata": {}
  },
  {
   "outputs": [],
   "cell_type": "markdown",
   "source": [
    "Now that we have the equations laid down, let us chose the circulation transport matrix, $\\mathbf{T}$."
   ],
   "metadata": {}
  },
  {
   "outputs": [],
   "cell_type": "markdown",
   "source": [
    "## Using AIBECS"
   ],
   "metadata": {}
  },
  {
   "outputs": [],
   "cell_type": "markdown",
   "source": [
    "> **Note**\n",
    "> If this is the first time you are trying AIBECS, make sure you go through the prerequisites!"
   ],
   "metadata": {}
  },
  {
   "outputs": [],
   "cell_type": "markdown",
   "source": [
    "AIBECS can interpret tracer equations as long as you arrange them under the generic form:\n",
    "\n",
    "$$\\frac{\\partial \\boldsymbol{x}}{\\partial t} = \\boldsymbol{F}(\\boldsymbol{x}, \\boldsymbol{p}),$$\n",
    "\n",
    "where $\\boldsymbol{F}(\\boldsymbol{x}, \\boldsymbol{p})$ is the rate of change of the state and $\\boldsymbol{p}$ is the vector of model parameters.\n",
    "We only track the age here, so that the entire state of the system is determined by the age itself.\n",
    "In other words, here, $\\boldsymbol{x} = \\boldsymbol{a}$."
   ],
   "metadata": {}
  },
  {
   "outputs": [],
   "cell_type": "markdown",
   "source": [
    "We will use AIBECS to find the steady-state of the system.\n",
    "For AIBECS, this translates into finding the solution of $\\boldsymbol{F}(\\boldsymbol{x}, \\boldsymbol{p}) = 0$."
   ],
   "metadata": {}
  },
  {
   "outputs": [],
   "cell_type": "markdown",
   "source": [
    "We start by telling Julia that we want to use the AIBECS package via"
   ],
   "metadata": {}
  },
  {
   "outputs": [],
   "cell_type": "code",
   "source": [
    "using AIBECS"
   ],
   "metadata": {},
   "execution_count": null
  },
  {
   "outputs": [],
   "cell_type": "markdown",
   "source": [
    "> **Note**\n",
    "> If it's the first time you are running this line, the package will need precompiling.\n",
    "> This may take a minute or two.\n",
    "> (Just be patient... Or read on while you wait!)\n",
    "\n",
    "> **Note**\n",
    "> You should see a `Warning` for the `Flatten` package — just disregard it...\n",
    "> If you get an error though, please send me a copy of the output/error message, and I will try to troubleshoot it."
   ],
   "metadata": {}
  },
  {
   "outputs": [],
   "cell_type": "markdown",
   "source": [
    "### The circulation"
   ],
   "metadata": {}
  },
  {
   "outputs": [],
   "cell_type": "markdown",
   "source": [
    "We will use the circulation output from the Ocean Circulation Inverse Model (OCIM1).\n",
    "Basically, the OCIM provides researchers and oceanographers with a big sparse matrix that represents the global ocean circulation (advection and diffusion), which allows them to efficiently simulate the transport of passive tracers, like the age.\n",
    "(For more details, see Tim DeVries's [website](https://tdevries.eri.ucsb.edu/models-and-data-products/) and references therein.)\n",
    "With AIBECS, the OCIM0.1 and OCIM1 circulations can be loaded really easily, by simply typing"
   ],
   "metadata": {}
  },
  {
   "outputs": [],
   "cell_type": "code",
   "source": [
    "grd, T_OCIM = AIBECS.OCIM1.load()\n",
    "typeof(T_OCIM), size(T_OCIM)"
   ],
   "metadata": {},
   "execution_count": null
  },
  {
   "outputs": [],
   "cell_type": "markdown",
   "source": [
    "> **Note**\n",
    "> Julia may ask you to download the OCIM matrix for you, in which case you should say yes (i.e., type `y`).\n",
    "> Once downloaded, AIBECS will remember where it downloaded the file and it will only load it from your laptop.\n",
    "\n",
    "Additionally to downloading the OCIM file, the `load()` command loads 2 variables in the Julia workspace:\n",
    "- `grd` — a `OceanGrid` object containing information about the 3D grid of the OCIM circulation, like the latitude, longitude, and depth of each grid boxes, as well as information on which boxes are \"wet\" or \"dry\".\n",
    "- `T_OCIM` — the transport matrix representing advection and diffusion.\n",
    "\n",
    "The second line in command above tells you the type and the size of `T_OCIM`.\n",
    "It is a sparse matrix (CSC just means that it is stored in Compressed Sparse Column format) and is quite big!\n",
    "> **Note**\n",
    "> A sparse matrix is just a matrix with very few non-zero entries.\n",
    "> Computationally, sparse matrices are stored differently than full matrices to save memory (no need to save all those zeros), and are much faster to use too!"
   ],
   "metadata": {}
  },
  {
   "outputs": [],
   "cell_type": "markdown",
   "source": [
    "Anyway, this looks good, so let's move on with setting up the model!\n",
    "\n",
    "We have already loaded the transport matrix, `T_OCIM`, for the ocean circulation, but we must tell AIBECS that it applies to the age.\n",
    "To do that, we define a function of the parameters (although there are no parameters involved in this case, this is just the way AIBECS works for the moment)."
   ],
   "metadata": {}
  },
  {
   "outputs": [],
   "cell_type": "code",
   "source": [
    "T_age(p) = T_OCIM"
   ],
   "metadata": {},
   "execution_count": null
  },
  {
   "outputs": [],
   "cell_type": "markdown",
   "source": [
    "(Functions in Julia can be created in one line, just as above.)\n",
    "That's it for the circulation.\n",
    "Now, let's define the local sources and sinks."
   ],
   "metadata": {}
  },
  {
   "outputs": [],
   "cell_type": "markdown",
   "source": [
    "### The local sources and sinks"
   ],
   "metadata": {}
  },
  {
   "outputs": [],
   "cell_type": "markdown",
   "source": [
    "We will denote the age, $\\boldsymbol{a}$, by the variable `age` in Julia.\n",
    "(It's good practice to use explicit names!)\n",
    "We need to translate the local sources and sinks in our discretized state function $\\boldsymbol{F}(\\boldsymbol{x}, \\boldsymbol{p})$ into Julia code."
   ],
   "metadata": {}
  },
  {
   "outputs": [],
   "cell_type": "markdown",
   "source": [
    "#### The source"
   ],
   "metadata": {}
  },
  {
   "outputs": [],
   "cell_type": "markdown",
   "source": [
    "Remember the age increases by $1$ second every second and everywhere.\n",
    "So its source function is equal to, well, `1`! (seconds per seconds means it is unitless).\n",
    "Let's create the local source function:"
   ],
   "metadata": {}
  },
  {
   "outputs": [],
   "cell_type": "code",
   "source": [
    "source_age(age, p) = 1"
   ],
   "metadata": {},
   "execution_count": null
  },
  {
   "outputs": [],
   "cell_type": "markdown",
   "source": [
    "#### The sink"
   ],
   "metadata": {}
  },
  {
   "outputs": [],
   "cell_type": "markdown",
   "source": [
    "Recall that the age must also be $0$ at the surface.\n",
    "And that we implement this boundary condition by restoring the age very fast to $0$ in the surface layer.\n",
    "This will act as the sink for the age.\n",
    "But first, we need to figure out where \"the surface layer\" is.\n",
    "To do that, AIBECS can generate a number of useful constants for you.\n",
    "(You can see the list of functions by typing `varinfo(AIBECS)` at the REPL.)\n",
    "Here we will use the vector of grid box depths, `z`, which AIBECS can generate for us via"
   ],
   "metadata": {}
  },
  {
   "outputs": [],
   "cell_type": "code",
   "source": [
    "z = vector_of_depths(grd)"
   ],
   "metadata": {},
   "execution_count": null
  },
  {
   "outputs": [],
   "cell_type": "markdown",
   "source": [
    "So what is the top layer?\n",
    "Let's investigate what's the minimum depth:"
   ],
   "metadata": {}
  },
  {
   "outputs": [],
   "cell_type": "code",
   "source": [
    "minimum(z)"
   ],
   "metadata": {},
   "execution_count": null
  },
  {
   "outputs": [],
   "cell_type": "markdown",
   "source": [
    "The surface layer in the OCIM grid has its center at about $18\\,$m depth.\n",
    "We can create a mask of the surface layer via `z .< 20`.\n",
    "(This will return a vector of `0`s and `1`s, depending on whether the depth, `z`, is less than `20`.)\n",
    "\n",
    "> **Note**\n",
    "> In Julia (like in MATLAB), placing a dot, `.`, in front of operators is a convenient way to do element-wise operations.\n",
    "\n",
    "Then, we implement the local sink by restoring the age to `0` with a timescale `τ`, via"
   ],
   "metadata": {}
  },
  {
   "outputs": [],
   "cell_type": "code",
   "source": [
    "function sink_age(age, p)\n",
    "    τ = p.τ\n",
    "    return age .* (z .< 20u\"m\") / τ\n",
    "end"
   ],
   "metadata": {},
   "execution_count": null
  },
  {
   "outputs": [],
   "cell_type": "markdown",
   "source": [
    "> **Note**\n",
    "> Julia allows you to use unicode for your functions and variables, like for `τ`.\n",
    "\n",
    "Here, we have defined a Julia function using the `function` keyword because the sink is a bit more complicated, so that we needed two lines to define it.\n",
    "The first line unpacks the model parameters, which is just the restoring timescale, `τ`, in this case.\n",
    "We will chose the value for `τ` later."
   ],
   "metadata": {}
  },
  {
   "outputs": [],
   "cell_type": "markdown",
   "source": [
    "#### Net sources and sinks"
   ],
   "metadata": {}
  },
  {
   "outputs": [],
   "cell_type": "markdown",
   "source": [
    "The sources minus the sinks are simply defined by"
   ],
   "metadata": {}
  },
  {
   "outputs": [],
   "cell_type": "code",
   "source": [
    "sms_age(age, p) = source_age(age, p) .- sink_age(age, p)"
   ],
   "metadata": {},
   "execution_count": null
  },
  {
   "outputs": [],
   "cell_type": "markdown",
   "source": [
    "#### Model parameters"
   ],
   "metadata": {}
  },
  {
   "outputs": [],
   "cell_type": "markdown",
   "source": [
    "We must define the parameters... And AIBECS comes with an API for that!"
   ],
   "metadata": {}
  },
  {
   "outputs": [],
   "cell_type": "code",
   "source": [
    "t = empty_parameter_table()    # initialize table of parameters\n",
    "add_parameter!(t, :τ, 1u\"s\")   # add the parameter we want (τ = 1s)\n",
    "initialize_Parameters_type(t, \"IdealAgeParameters\")  # Generate the parameter type\n",
    "t"
   ],
   "metadata": {},
   "execution_count": null
  },
  {
   "outputs": [],
   "cell_type": "markdown",
   "source": [
    "Note, in particular, that we gave our parameter `τ` a unit.\n",
    "Yes, Julia comes with some nice functionality to deal with units directly!\n",
    "The lines above created a table that contains all the info for generating the parameters vector, $\\boldsymbol{p}$.\n",
    "To generate the parameters in AIBECS we do:"
   ],
   "metadata": {}
  },
  {
   "outputs": [],
   "cell_type": "code",
   "source": [
    "p = IdealAgeParameters()"
   ],
   "metadata": {},
   "execution_count": null
  },
  {
   "outputs": [],
   "cell_type": "markdown",
   "source": [
    "where we have used the constructor `IdealAgeParameters`, whose name we defined in the previous cell.\n",
    "Here we did not really need to create `p` as a parameters vector, since it has only one element, `τ`, in it.\n",
    "However, we are here to learn, and this structure and functionality comes in very handy when one deals with many parameters.\n",
    "(And as you can imagine, having all the parameters in a nice table ready for being used in a publication comes quite handy!)"
   ],
   "metadata": {}
  },
  {
   "outputs": [],
   "cell_type": "markdown",
   "source": [
    "#### State function and Jacobian"
   ],
   "metadata": {}
  },
  {
   "outputs": [],
   "cell_type": "markdown",
   "source": [
    "Similarly to `p`, let's create a state `x` to start with.\n",
    "The vector `x` will be our initial guess for the state.\n",
    "Let's assume that the age is `1` (seconds) everywhere (as an initial guess):"
   ],
   "metadata": {}
  },
  {
   "outputs": [],
   "cell_type": "code",
   "source": [
    "nb = number_of_wet_boxes(grd)  # number of wet boxes\n",
    "x = ones(nb)"
   ],
   "metadata": {},
   "execution_count": null
  },
  {
   "outputs": [],
   "cell_type": "markdown",
   "source": [
    "The first line above defines the number of wet grid boxes, `nb`.\n",
    "Here, this is also the length of the state vector `x`, because there is only one tracer, `age`.\n",
    "In the second line, the `ones` function creates a vector of `1`s of the size you give it (the number of wet grid boxes, `nb`, here, which we defined earlier)."
   ],
   "metadata": {}
  },
  {
   "outputs": [],
   "cell_type": "markdown",
   "source": [
    "Finally, the last step for the set up is to define $\\boldsymbol{F}$.\n",
    "Using AIBECS, this is done via"
   ],
   "metadata": {}
  },
  {
   "outputs": [],
   "cell_type": "code",
   "source": [
    "T_matrices = (T_age,)           # bundles all the transport matrices in a tuple\n",
    "sources_minus_sinks = (sms_age,) # bundles all the source-sink functions in a tuple\n",
    "F, ∇ₓF = state_function_and_Jacobian(T_matrices, sources_minus_sinks, nb) # generates the state function (and its Jacobian!)\n",
    "F(x,p)"
   ],
   "metadata": {},
   "execution_count": null
  },
  {
   "outputs": [],
   "cell_type": "markdown",
   "source": [
    "That's it!\n",
    "We have just created a model of the mean age.\n",
    "\n",
    "\n",
    "Lines 2 and 3 are just telling AIBECS\n",
    "- what transport matrices it should use for the transport of these tracers, and\n",
    "- and what local sources and sinks should be appplied to these tracers\n",
    "\n",
    "> **Note**\n",
    "> The `(x,)` syntax returns a tuple of one element — the comma is necessary because without it, `(x)` would be just like `x` with brackets around it.\n",
    "> This interface of AIBECS was developed for case with multiple tracers in mind, and might look a bit odd for a single tracer.\n",
    "> But in the future, this might be cleaned up to be easier to work with single tracers."
   ],
   "metadata": {}
  },
  {
   "outputs": [],
   "cell_type": "markdown",
   "source": [
    "The fourth line creates two functions:\n",
    "- `F` — the numerical version of the **state function**, $\\boldsymbol{F}$, of our model of the mean age, and\n",
    "- `∇ₓF` — the **Jacobian matrix** of the state function, i.e., $\\nabla_{\\boldsymbol{x}}\\boldsymbol{F}$.\n",
    "Yes, AIBECS just automatically created an exact derivative of your input, using autodifferentiation via dual numbers.\n",
    "(I'd be very excited to detail how this is implemented here, but it is an entirely different discussion.)"
   ],
   "metadata": {}
  },
  {
   "outputs": [],
   "cell_type": "markdown",
   "source": [
    "The last line just checks that our generated `F` works with our initial guess `x` and parameter vector `p`."
   ],
   "metadata": {}
  },
  {
   "outputs": [],
   "cell_type": "markdown",
   "source": [
    "#### Solving for the steady-state"
   ],
   "metadata": {}
  },
  {
   "outputs": [],
   "cell_type": "markdown",
   "source": [
    "The Jacobian, `∇ₓF` is essential to solving the steady-state equation $\\boldsymbol{F}(\\boldsymbol{x}, \\boldsymbol{p}) = 0$ fast.\n",
    "Specifically, solving $\\boldsymbol{F}(\\boldsymbol{x}, \\boldsymbol{p}) = 0$ is done via Newton's method.\n",
    "By starting from an initial guess, that you will have to provide, it will iterate over this recursion relation\n",
    "\n",
    "$$\\boldsymbol{x}_{k+1} = \\boldsymbol{x}_{k} - \\nabla_{\\boldsymbol{x}}\\boldsymbol{F}(\\boldsymbol{x}_{k}, \\boldsymbol{p})^{-1} \\boldsymbol{F}(\\boldsymbol{x}_{k}, \\boldsymbol{p})$$\n",
    "\n",
    "until $\\boldsymbol{F}(\\boldsymbol{x}_{k}, \\boldsymbol{p})$ is sufficiently small.\n",
    "Now I should note that here, our age model is linear in $x$ (or `age` in our code), so that the solution will be found in a single iteration, or a sinle \"matrix inversion\", as could be seen from our steady-state equation for $\\boldsymbol{a}$."
   ],
   "metadata": {}
  },
  {
   "outputs": [],
   "cell_type": "markdown",
   "source": [
    "> **Note**\n",
    "> AIBECS comes with a built-in algorithm and an API to solve for the steady-state, so you don't have to worry about all these details!"
   ],
   "metadata": {}
  },
  {
   "outputs": [],
   "cell_type": "markdown",
   "source": [
    "##### Define the Steady-state problem in AIBECS"
   ],
   "metadata": {}
  },
  {
   "outputs": [],
   "cell_type": "markdown",
   "source": [
    "First, we create an instance of the steady-state problem, via"
   ],
   "metadata": {}
  },
  {
   "outputs": [],
   "cell_type": "code",
   "source": [
    "prob = SteadyStateProblem(F, ∇ₓF, x, p)"
   ],
   "metadata": {},
   "execution_count": null
  },
  {
   "outputs": [],
   "cell_type": "markdown",
   "source": [
    "where we have simply provided the state function, $\\boldsymbol{F}$, the Jacobian, $\\nabla_{\\boldsymbol{x}}\\boldsymbol{F}$, the initial guess and the parameters.\n",
    "The `SteadyStateProblem` function is a standard \"DiffEqBase\" constructor that I have overloaded in my package so that you can easily generate the model here."
   ],
   "metadata": {}
  },
  {
   "outputs": [],
   "cell_type": "markdown",
   "source": [
    "##### Solve for the steady-state with AIBECS"
   ],
   "metadata": {}
  },
  {
   "outputs": [],
   "cell_type": "markdown",
   "source": [
    "Finally, we can find the solution in litterally one line, via the `solve` function:"
   ],
   "metadata": {}
  },
  {
   "outputs": [],
   "cell_type": "code",
   "source": [
    "age = solve(prob, CTKAlg())"
   ],
   "metadata": {},
   "execution_count": null
  },
  {
   "outputs": [],
   "cell_type": "markdown",
   "source": [
    "Here, I have provided the `solve` function with two things:\n",
    "- the problem, `prob`, which we just defined, and\n",
    "- the quasi-Newton algorithm that I wrote in Julia, denoted by `CTKAlg()` after C.T. Kelley, who originally wrote it in MATLAB.\n",
    "\n",
    "The last line should take about 10 seconds to 1 minute, depending on your laptop.\n",
    "That's it!\n",
    "We solved for the steady state!\n",
    "Everyone here deserves a nice tap on the shoulder — Good job!\n",
    "Now let's see what this age looks like on a map"
   ],
   "metadata": {}
  },
  {
   "outputs": [],
   "cell_type": "markdown",
   "source": [
    "## Figures"
   ],
   "metadata": {}
  },
  {
   "outputs": [],
   "cell_type": "markdown",
   "source": [
    "First, let's tell Julia we want to use Plots.jl."
   ],
   "metadata": {}
  },
  {
   "outputs": [],
   "cell_type": "code",
   "source": [
    "using Plots"
   ],
   "metadata": {},
   "execution_count": null
  },
  {
   "outputs": [],
   "cell_type": "markdown",
   "source": [
    "We will plot the age at a depth of about 1000m.\n",
    "For convenience, we would rather express the age in years\n",
    "(instead of the default SI unit of time, seconds, which is too small)."
   ],
   "metadata": {}
  },
  {
   "outputs": [],
   "cell_type": "code",
   "source": [
    "age_in_yrs = age * u\"s\" .|> u\"yr\""
   ],
   "metadata": {},
   "execution_count": null
  },
  {
   "outputs": [],
   "cell_type": "markdown",
   "source": [
    "A few things happened here.\n",
    "- `age * u\"s\"` attaches the seconds unit to it\n",
    "- `.|> u\"yr\"` converts it to years (the dot in front ensures that the conversion is done for every box"
   ],
   "metadata": {}
  },
  {
   "outputs": [],
   "cell_type": "code",
   "source": [
    "horizontalslice(age_in_yrs, grd, 2000; color=:magma)"
   ],
   "metadata": {},
   "execution_count": null
  },
  {
   "outputs": [],
   "cell_type": "markdown",
   "source": [
    "Note how the plotting function `horizontalslice` knew about the unit of the age and placed it on the colorbar! Nice, right?"
   ],
   "metadata": {}
  },
  {
   "outputs": [],
   "cell_type": "markdown",
   "source": [
    "> **Tip!**\n",
    "> The function `horizontalslice(x, grd, depth)` is provided by AIBECS.\n",
    "> It is actually just a recipe for Plots.jl that figures out a few things for you,\n",
    "> like extracting the slice at the given depth.\n",
    "> But you can customize it to your liking, by appending keyword arguments,\n",
    "> like `color=:magma` here.\n",
    "> Head over to the [Plots.jl](https://github.com/JuliaPlots/Plots.jl) package\n",
    "> documentation to see a more complete list of attributes"
   ],
   "metadata": {}
  },
  {
   "outputs": [],
   "cell_type": "markdown",
   "source": [
    "At 1000m, the age ranges from a few years below deep water formation regions (Wedell Sea, North Atlantic), and reaches a dozen of centuries in the North Pacific!\n",
    "Anyway, that's pretty much it!\n",
    "Good job!"
   ],
   "metadata": {}
  },
  {
   "outputs": [],
   "cell_type": "markdown",
   "source": [
    "*This notebook was generated using [Literate.jl](https://github.com/fredrikekre/Literate.jl).*"
   ],
   "metadata": {}
  }
 ],
 "nbformat_minor": 3,
 "metadata": {
  "language_info": {
   "file_extension": ".jl",
   "mimetype": "application/julia",
   "name": "julia",
   "version": "1.2.0"
  },
  "kernelspec": {
   "name": "julia-1.2",
   "display_name": "Julia 1.2.0",
   "language": "julia"
  }
 },
 "nbformat": 4
}

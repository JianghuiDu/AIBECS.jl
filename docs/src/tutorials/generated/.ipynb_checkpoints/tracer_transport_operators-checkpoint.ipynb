{
 "cells": [
  {
   "outputs": [],
   "cell_type": "markdown",
   "source": [
    "# Tracer Transport Operators"
   ],
   "metadata": {}
  },
  {
   "outputs": [],
   "cell_type": "markdown",
   "source": [
    "## Discretization"
   ],
   "metadata": {}
  },
  {
   "outputs": [],
   "cell_type": "markdown",
   "source": [
    "To model marine biogeochemical processes on a global scale we need to be able to account for the movement of chemical constituents both horizontally and vertically.\n",
    "We do this with a **tracer transport operator**.\n",
    "When this operator acts on a tracer field it produces the advective-diffusive divergence of the tracer.\n",
    "\n",
    "In order to represent the transport operator on a computer we have to discretize the tracer concentration field and the operator.\n",
    "Once discretized the tracer field is represented as a vector and the operator is represented as a sparse matrix."
   ],
   "metadata": {}
  },
  {
   "outputs": [],
   "cell_type": "markdown",
   "source": [
    "> **Note**\n",
    "> A sparse matrix behaves the same way as a regular matrix.\n",
    "> The only difference is that in a sparse matrix the majority of the entries are zeros.\n",
    "> These zeros are not stored explicitly to save computer memory making it possible to deal with fairly high resolution ocean models."
   ],
   "metadata": {}
  },
  {
   "outputs": [],
   "cell_type": "markdown",
   "source": [
    "Mathematically, the discretization converts an expression with partial derivatives into a matrix vector product:\n",
    "\n",
    "$$\\nabla \\cdot \\left[ \\boldsymbol{u} - \\mathbf{K} \\cdot \\nabla \\right] C \\longrightarrow \\mathbf{T} \\, \\boldsymbol{C}$$\n",
    "\n",
    "where $\\mathbf{T}$ is the flux divergence transport matrix and $\\boldsymbol{C}$ is the tracer concentration vector.\n",
    "\n",
    "One can go a long way towards understanding what a tracer transport operator is by playing with a simple box model. We therefore introuce a simple box model before moving on to the *Ocean Circulation Inverse Model* (OCIM)."
   ],
   "metadata": {}
  },
  {
   "outputs": [],
   "cell_type": "markdown",
   "source": [
    "The simple box model we consider is embeded in a 2×2×2 \"shoebox\".\n",
    "It has 5 *wet* boxes and 3 *dry* boxes, as illustrated below:"
   ],
   "metadata": {}
  },
  {
   "outputs": [],
   "cell_type": "markdown",
   "source": [
    "```@raw html\n",
    "<img src=\"https://user-images.githubusercontent.com/4486578/58314610-3b130b80-7e53-11e9-9fe8-9527cdcca2d0.png\" width =800>\n",
    "```"
   ],
   "metadata": {}
  },
  {
   "outputs": [],
   "cell_type": "code",
   "source": [
    "a = 6367e3   # Earth radius           (m)\n",
    "A = 4*pi*a^2 # Earth surface area     (m²)\n",
    "d = 3700     # ocean depth            (m)\n",
    "V = 0.75*A*d # volume of ocean        (m³)\n",
    "h = 200      # thickness of top layer (m)\n",
    "\n",
    "dz = [h*ones(4,1);(d-h)*ones(4,1)] # grid box thicknesses       (m)\n",
    "dV = (dz/d).*((V/4)*ones(8,1))     # grid box volumes           (m³)\n",
    "dAz = dV./dz                       # area of face ⟂ to z axis   (m²)\n",
    "dy = sqrt.(dAz)                    # north-south side length    (m)\n",
    "dx = sqrt.(dAz)                    # east-west side length      (m)\n",
    "dAx = dV./dy                       # area of face ⟂ to x axis   (m²)\n",
    "dAy = dV./dx                       # area of face ⟂ to y axis   (m²)\n",
    "\n",
    "msk = [1, 1, 1, 0, 1, 1, 0, 0]     # wet-dry mask wet=1 dry = 0\n",
    "iwet = findall(x -> x == 1, msk)        # index to wet gridboxes\n",
    "idry = findall(x -> x == 0, msk)        # index to dry gridboxes\n",
    "srf = [1, 1, 1, 0, 0]              # surface mask srface=1 bottom = 0\n",
    "isrf = findall(x -> x == 1, srf) ;\n",
    "iwet"
   ],
   "metadata": {},
   "execution_count": null
  },
  {
   "outputs": [],
   "cell_type": "markdown",
   "source": [
    "The circulation consists of\n",
    "- a meridional overturning circulation flowing in a cycle through boxes 1 → 2 → 6 → 5 → 1 (shown in the \"meridional section 1\" panel above)\n",
    "- a zonal current in a reentrant cycling through boxes 1 → 3 → 1 (shown in the \"layer 1\" panel above)\n",
    "- vertical mixing representing deep convection between boxes 2 ↔ 6 (not shown)"
   ],
   "metadata": {}
  },
  {
   "outputs": [],
   "cell_type": "code",
   "source": [
    "using LinearAlgebra\n",
    "using SparseArrays\n",
    "TRdiv = spzeros(8,8)\n",
    "acc = 100e6  # (m³/s) Antarctic Circumpoloar Current\n",
    "TRdiv += sparse([1,1],[1,3],dV[1]\\[acc,-acc],8,8)\n",
    "TRdiv += sparse([3,3],[3,1],dV[3]\\[acc,-acc],8,8)\n",
    "moc = 15e6    # (m³/s) Meridional Overturning Circulation\n",
    "TRdiv += sparse([1,1],[1,5],dV[1]\\[moc,-moc],8,8)\n",
    "TRdiv += sparse([2,2],[2,1],dV[2]\\[moc,-moc],8,8)\n",
    "TRdiv += sparse([5,5],[5,6],dV[5]\\[moc,-moc],8,8)\n",
    "TRdiv += sparse([6,6],[6,2],dV[6]\\[moc,-moc],8,8)\n",
    "q = 10e6      # (m³/s) vertical mixing at high northern latitudes\n",
    "TRdiv += sparse([2,2],[2,6],dV[2]\\[q,-q],8,8)\n",
    "TRdiv += sparse([6,6],[6,2],dV[6]\\[q,-q],8,8)\n",
    "TRdiv = TRdiv[iwet,iwet]\n",
    "Matrix(TRdiv)"
   ],
   "metadata": {},
   "execution_count": null
  },
  {
   "outputs": [],
   "cell_type": "markdown",
   "source": [
    "## Simulating Radiocarbon"
   ],
   "metadata": {}
  },
  {
   "outputs": [],
   "cell_type": "markdown",
   "source": [
    "Radiocarbon, ¹⁴C, is produced by cosmic rays in the lower stratosphere and upper troposphere.\n",
    "It quickly reacts with oxygen to produce ¹⁴CO₂, which is then mixed throughout the troposphere and enters the ocean through air-sea gas exchange.\n",
    "Because the halflife of radiocarbon is only 5730 years a significant amount of deday can occur before the dissolved inorganic radiocarbon (DI¹⁴C) can mix uniformally throughout the ocean.\n",
    "As such the ¹⁴C serves as a tracer label for water that was recently in contact with the atmosphere.\n",
    "\n",
    "Here we will perform an idealized radiocarbon simulation in our model.\n",
    "In this model we prescribe the atmospheric concentration to 1 and model the air-sea gas exchange using a constant piston velocity of $\\kappa$ of 50m / 10years.\n",
    "For the radioactive decay we use a timescale of $\\tau =$(5730 years)/log(2)."
   ],
   "metadata": {}
  },
  {
   "outputs": [],
   "cell_type": "code",
   "source": [
    "sec_per_year = 365*24*60*60;\n",
    "κ = 50/(10*sec_per_year)     # m/s\n",
    "λ  = 1/(5730*sec_per_year/log(2)); # 1/s"
   ],
   "metadata": {},
   "execution_count": null
  },
  {
   "outputs": [],
   "cell_type": "code",
   "source": [
    "M = TRdiv\n",
    "Λ = spdiagm(0=>srf)/h         # air-sea loss operator\n",
    "M += κ*Λ\n",
    "I = spdiagm(0=>ones(5))       # identity matrix\n",
    "M += λ*I  # radioactive decay loss operator\n",
    "s = κ*Λ*ones(5);             # air-sea source rate"
   ],
   "metadata": {},
   "execution_count": null
  },
  {
   "outputs": [],
   "cell_type": "markdown",
   "source": [
    "We now have a governing equation of the form\n",
    "\n",
    "$$\\frac{dR}{dt} + \\left[\\mathbf{T}+\\lambda\\mathbf{I}+\\kappa\\boldsymbol{\\Lambda}\\right]R = \\kappa\\boldsymbol{\\Lambda}\\mathbf{1}.$$"
   ],
   "metadata": {}
  },
  {
   "outputs": [],
   "cell_type": "markdown",
   "source": [
    "### Time stepping"
   ],
   "metadata": {}
  },
  {
   "outputs": [],
   "cell_type": "markdown",
   "source": [
    "One way to see how the tracer evolves with time is to time step it.\n",
    "Here we will use a simple Euler-backward scheme.\n",
    "That is, below we create a function to solve $dx/dt = F(x)$ from `tspan[1]` to `tspan[2]` subject to `x[tspan[1]] = x0` using the Euler-backward scheme with `n` timesteps.\n",
    "Note that `(x[i+1]-x[i])/dt = J*X[i+1] + s`."
   ],
   "metadata": {}
  },
  {
   "outputs": [],
   "cell_type": "code",
   "source": [
    "function euler_backward(J,s,tspan,x0,n)\n",
    "    dt = (tspan[2]-tspan[1])/(n-1);\n",
    "    I = spdiagm(0=>ones(length(x0)))\n",
    "    A = I-dt.*J\n",
    "    X = zeros(5,n)\n",
    "    T = zeros(n)\n",
    "    X[:,1] = x0\n",
    "    T[1] = tspan[1]\n",
    "    for i in 2:n\n",
    "        X[:,i] = A\\(X[:,i-1]+dt.*s)\n",
    "        T[i] = T[i-1]+dt\n",
    "    end\n",
    "    return X,T\n",
    "end"
   ],
   "metadata": {},
   "execution_count": null
  },
  {
   "outputs": [],
   "cell_type": "code",
   "source": [
    "tspan = zeros(2)\n",
    "tspan[1] = 0\n",
    "tspan[2] = 7500;\n",
    "x0 = 0*s.+1\n",
    "X,T = euler_backward(-sec_per_year*M,sec_per_year*s,tspan,x0,10000)"
   ],
   "metadata": {},
   "execution_count": null
  },
  {
   "outputs": [],
   "cell_type": "code",
   "source": [
    "using Plots, Printf\n",
    "c14age = -log.(X)./(λ*sec_per_year)\n",
    "labels = [@sprintf(\"box %i\",iwet[i]) for i in 1:5]\n",
    "plot(T,c14age',label = labels)\n",
    "xlabel!(\"time (years)\")\n",
    "ylabel!(\"c14 age (years)\")"
   ],
   "metadata": {},
   "execution_count": null
  },
  {
   "outputs": [],
   "cell_type": "markdown",
   "source": [
    "The box model took more than 4000 years to spin up to equilibrium.\n",
    "For a box model that's no big deal because it is not computationally expensive to run the model, but for a big circulation model waiting for the model to spinup is painful.\n",
    "We therefore want a better way to find the equilibrium solution."
   ],
   "metadata": {}
  },
  {
   "outputs": [],
   "cell_type": "markdown",
   "source": [
    "### Solving for the Steady State"
   ],
   "metadata": {}
  },
  {
   "outputs": [],
   "cell_type": "markdown",
   "source": [
    "One thing we notice is that when the model is at equilibrium, the $dR/dt$ term vanishes and\n",
    "the steady state solution is given by the solution to the following linear system of equations\n",
    "\n",
    "$$\\underbrace{\\left[\\mathbf{T}+\\lambda\\mathbf{I}+\\kappa\\boldsymbol{\\Lambda}\\right]}_{\\mathbf{M}}R = \\underbrace{\\kappa\\boldsymbol{\\Lambda}\\mathbf{1}}_{s}$$\n",
    "\n",
    "which can be solved by directly inverting the $M$ matrix."
   ],
   "metadata": {}
  },
  {
   "outputs": [],
   "cell_type": "code",
   "source": [
    "R = M \\ s ;"
   ],
   "metadata": {},
   "execution_count": null
  },
  {
   "outputs": [],
   "cell_type": "code",
   "source": [
    "c14age = -log.(R) / (λ*sec_per_year)\n",
    "for i in 1:5\n",
    "    @printf(\"box[%i]: %4.0f years\\n\",iwet[i],c14age[i])\n",
    "end"
   ],
   "metadata": {},
   "execution_count": null
  },
  {
   "outputs": [],
   "cell_type": "markdown",
   "source": [
    "Try modifying the strength of the currents of the high latitude convective mixing to see how it affects the ¹⁴C-ages."
   ],
   "metadata": {}
  },
  {
   "outputs": [],
   "cell_type": "markdown",
   "source": [
    "*This notebook was generated using [Literate.jl](https://github.com/fredrikekre/Literate.jl).*"
   ],
   "metadata": {}
  }
 ],
 "nbformat_minor": 3,
 "metadata": {
  "language_info": {
   "file_extension": ".jl",
   "mimetype": "application/julia",
   "name": "julia",
   "version": "1.1.1"
  },
  "kernelspec": {
   "name": "julia-1.1",
   "display_name": "Julia 1.1.1",
   "language": "julia"
  }
 },
 "nbformat": 4
}

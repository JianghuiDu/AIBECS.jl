{
 "cells": [
  {
   "outputs": [],
   "cell_type": "markdown",
   "source": [
    "# Tracer Transport Operators"
   ],
   "metadata": {}
  },
  {
   "outputs": [],
   "cell_type": "markdown",
   "source": [
    "To model marine biogeochemical processes on a global scale we need to be able to account for the movement of chemical constituents both horizontally and vertically.\n",
    "We do this with a **tracer transport operator**.\n",
    "When this operator acts on a tracer field it produces the advective-diffusive divergence of the tracer."
   ],
   "metadata": {}
  },
  {
   "outputs": [],
   "cell_type": "markdown",
   "source": [
    "## Discretization"
   ],
   "metadata": {}
  },
  {
   "outputs": [],
   "cell_type": "markdown",
   "source": [
    "In order to represent the transport operator on a computer we have to discretize the tracer concentration field and the operator.\n",
    "Once discretized the tracer field is represented as a vector and the operator is represented as a sparse matrix."
   ],
   "metadata": {}
  },
  {
   "outputs": [],
   "cell_type": "markdown",
   "source": [
    "> **Note**\n",
    "> A sparse matrix behaves the same way as a regular matrix.\n",
    "> The only difference is that in a sparse matrix the majority of the entries are zeros.\n",
    "> These zeros are not stored explicitly to save computer memory making it possible to deal with fairly high resolution ocean models."
   ],
   "metadata": {}
  },
  {
   "outputs": [],
   "cell_type": "markdown",
   "source": [
    "Mathematically, the discretization converts an expression with partial derivatives into a matrix vector product:\n",
    "\n",
    "$$\\nabla \\cdot \\left[ \\boldsymbol{u} - \\mathbf{K} \\cdot \\nabla \\right] C \\longrightarrow \\mathbf{T} \\, \\boldsymbol{C}$$\n",
    "\n",
    "where $\\mathbf{T}$ is the flux divergence transport matrix and $\\boldsymbol{C}$ is the tracer concentration vector.\n",
    "\n",
    "One can go a long way towards understanding what a tracer transport operator is by playing with a simple box model. We therefore introuce a simple box model before moving on to the *Ocean Circulation Inverse Model* (OCIM)."
   ],
   "metadata": {}
  },
  {
   "outputs": [],
   "cell_type": "markdown",
   "source": [
    "The simple box model we consider is embeded in a 2×2×2 \"shoebox\".\n",
    "It has 5 *wet* boxes and 3 *dry* boxes, as illustrated below:"
   ],
   "metadata": {}
  },
  {
   "outputs": [],
   "cell_type": "markdown",
   "source": [
    "<img src=\"https://user-images.githubusercontent.com/4486578/58314610-3b130b80-7e53-11e9-9fe8-9527cdcca2d0.png\" width =800>"
   ],
   "metadata": {}
  },
  {
   "outputs": [],
   "cell_type": "markdown",
   "source": [
    "The circulation consists of\n",
    "- a meridional overturning circulation flowing in a cycle through boxes 1 → 2 → 6 → 5 → 1 (shown in the \"meridional section 1\" panel above)\n",
    "- a zonal current in a reentrant cycling through boxes 1 → 3 → 1 (shown in the \"layer 1\" panel above)\n",
    "- vertical mixing representing deep convection between boxes 2 ↔ 6 (not shown)"
   ],
   "metadata": {}
  },
  {
   "outputs": [],
   "cell_type": "markdown",
   "source": [
    "## The transport matrix"
   ],
   "metadata": {}
  },
  {
   "outputs": [],
   "cell_type": "markdown",
   "source": [
    "We start by defining the model boxes, theirs volumes, their indices, and so on:"
   ],
   "metadata": {}
  },
  {
   "outputs": [
    {
     "output_type": "execute_result",
     "data": {
      "text/plain": "5-element Array{Int64,1}:\n 1\n 2\n 3\n 5\n 6"
     },
     "metadata": {},
     "execution_count": 1
    }
   ],
   "cell_type": "code",
   "source": [
    "a = 6367e3   # Earth radius           (m)\n",
    "A = 4*pi*a^2 # Earth surface area     (m²)\n",
    "d = 3700     # ocean depth            (m)\n",
    "V = 0.75*A*d # volume of ocean        (m³)\n",
    "h = 200      # thickness of top layer (m)\n",
    "\n",
    "dz = [h*ones(4,1);(d-h)*ones(4,1)] # grid box thicknesses       (m)\n",
    "dV = (dz/d).*((V/4)*ones(8,1))     # grid box volumes           (m³)\n",
    "dAz = dV./dz                       # area of face ⟂ to z axis   (m²)\n",
    "dy = sqrt.(dAz)                    # north-south side length    (m)\n",
    "dx = sqrt.(dAz)                    # east-west side length      (m)\n",
    "dAx = dV./dy                       # area of face ⟂ to x axis   (m²)\n",
    "dAy = dV./dx                       # area of face ⟂ to y axis   (m²)\n",
    "\n",
    "msk = [1, 1, 1, 0, 1, 1, 0, 0]     # wet-dry mask wet=1 dry = 0\n",
    "iwet = findall(x -> x == 1, msk)        # index to wet gridboxes\n",
    "idry = findall(x -> x == 0, msk)        # index to dry gridboxes\n",
    "srf = [1, 1, 1, 0, 0]              # surface mask srface=1 bottom = 0\n",
    "isrf = findall(x -> x == 1, srf) ;\n",
    "iwet"
   ],
   "metadata": {},
   "execution_count": 1
  },
  {
   "outputs": [],
   "cell_type": "markdown",
   "source": [
    "As you can see, `iwet` is the the vector of indices of the wet boxes."
   ],
   "metadata": {}
  },
  {
   "outputs": [],
   "cell_type": "markdown",
   "source": [
    "> **Note**\n",
    "> Julia comes with Unitful, a package for using units, which AIBECS uses.\n",
    "> In the examples where we use AIBECS, we will use Unitful."
   ],
   "metadata": {}
  },
  {
   "outputs": [],
   "cell_type": "markdown",
   "source": [
    "We now create the transport matrix as the flux divergence of the dissolved tracer transport due to the ocean circulation:"
   ],
   "metadata": {}
  },
  {
   "outputs": [
    {
     "output_type": "execute_result",
     "data": {
      "text/plain": "5×5 Array{Float64,2}:\n  6.01987e-9   0.0         -5.23467e-9  -7.852e-10     0.0        \n -7.852e-10    1.30867e-9   0.0          0.0          -5.23467e-10\n -5.23467e-9   0.0          5.23467e-9   0.0           0.0        \n  0.0          0.0          0.0          4.48686e-11  -4.48686e-11\n  0.0         -7.4781e-11   0.0          0.0           7.4781e-11 "
     },
     "metadata": {},
     "execution_count": 2
    }
   ],
   "cell_type": "code",
   "source": [
    "using LinearAlgebra\n",
    "using SparseArrays\n",
    "TRdiv = spzeros(8,8)\n",
    "ACC = 100e6  # (m³/s) ACC for Antarctic Circumpoloar Current\n",
    "TRdiv += sparse([1,1], [1,3], dV[1] \\ [ACC, -ACC], 8, 8)\n",
    "TRdiv += sparse([3,3], [3,1], dV[3] \\ [ACC, -ACC], 8, 8)\n",
    "MOC = 15e6    # (m³/s) MOC for Meridional Overturning Circulation\n",
    "TRdiv += sparse([1,1], [1,5], dV[1] \\ [MOC, -MOC], 8, 8)\n",
    "TRdiv += sparse([2,2], [2,1], dV[2] \\ [MOC, -MOC], 8, 8)\n",
    "TRdiv += sparse([5,5], [5,6], dV[5] \\ [MOC, -MOC], 8, 8)\n",
    "TRdiv += sparse([6,6], [6,2], dV[6] \\ [MOC, -MOC], 8, 8)\n",
    "MIX = 10e6      # (m³/s) MIX for vertical mixing at high northern latitudes\n",
    "TRdiv += sparse([2,2], [2,6], dV[2] \\ [MIX, -MIX], 8, 8)\n",
    "TRdiv += sparse([6,6], [6,2], dV[6] \\ [MIX, -MIX], 8, 8)\n",
    "TRdiv = TRdiv[iwet,iwet]\n",
    "Matrix(TRdiv)"
   ],
   "metadata": {},
   "execution_count": 2
  },
  {
   "outputs": [],
   "cell_type": "markdown",
   "source": [
    "## From Equation to Code"
   ],
   "metadata": {}
  },
  {
   "outputs": [],
   "cell_type": "markdown",
   "source": [
    "Radiocarbon, ¹⁴C, is produced by cosmic rays in the lower stratosphere and upper troposphere.\n",
    "It quickly reacts with oxygen to produce ¹⁴CO₂, which is then mixed throughout the troposphere and enters the ocean through air-sea gas exchange.\n",
    "Because the halflife of radiocarbon is only 5730 years a significant amount of deday can occur before the dissolved inorganic radiocarbon (DI¹⁴C) can mix uniformally throughout the ocean.\n",
    "As such the ¹⁴C serves as a tracer label for water that was recently in contact with the atmosphere."
   ],
   "metadata": {}
  },
  {
   "outputs": [],
   "cell_type": "markdown",
   "source": [
    "### Tracer Equation"
   ],
   "metadata": {}
  },
  {
   "outputs": [],
   "cell_type": "markdown",
   "source": [
    "Mathematically, the ¹⁴C tracer concentration, denoted $R$ (for Radiocarbon), satisfies the following tracer equation:\n",
    "\n",
    "$$\\frac{\\partial R}{\\partial t} = - \\nabla \\cdot \\left[ \\boldsymbol{u} - \\mathbf{K} \\cdot \\nabla \\right] R + \\Lambda(R - [^{14}C]_\\mathsf{atm}) - \\kappa R$$\n",
    "\n",
    "The discretized tracer is thus given by\n",
    "\n",
    "$$\\frac{\\partial \\boldsymbol{R}}{\\partial t} = - \\mathbf{T} \\boldsymbol{R} + \\Lambda(\\boldsymbol{R} - [^{14}C]_\\mathsf{atm}) - \\kappa \\boldsymbol{R}$$\n",
    "\n",
    "We can rearrange that equation as\n",
    "\n",
    "$$\\frac{dR}{dt} + \\left[\\mathbf{T}+\\lambda\\mathbf{I}+\\kappa\\boldsymbol{\\Lambda}\\right]R = \\boldsymbol{s},$$\n",
    "\n",
    "where $\\boldsymbol{s} = \\kappa\\boldsymbol{\\Lambda}\\boldsymbol{1}$ effectively acts as a fixed source of Radiocarbon from the atmosphere."
   ],
   "metadata": {}
  },
  {
   "outputs": [],
   "cell_type": "markdown",
   "source": [
    "### Translation to Julia Code"
   ],
   "metadata": {}
  },
  {
   "outputs": [],
   "cell_type": "markdown",
   "source": [
    "Here we will perform an idealized radiocarbon simulation in our model and use `TRdiv` for the transport matrix $\\mathbf{T}$.\n",
    "In this model we prescribe the atmospheric concentration to 1 (unit?) and model the air-sea gas exchange using a constant piston velocity $\\kappa$ of 50m / 10years.\n",
    "For the radioactive decay we use a timescale $\\tau$ of (5730 years) / log(2)."
   ],
   "metadata": {}
  },
  {
   "outputs": [],
   "cell_type": "code",
   "source": [
    "sec_per_year = 365*24*60*60\n",
    "κ = 50 / 10sec_per_year     # m/s\n",
    "λ  = 1 / (5730sec_per_year / log(2)); # 1/s"
   ],
   "metadata": {},
   "execution_count": 3
  },
  {
   "outputs": [
    {
     "output_type": "execute_result",
     "data": {
      "text/plain": "5×5 SparseMatrixCSC{Float64,Int64} with 12 stored entries:\n  [1, 1]  =  6.81645e-9\n  [2, 1]  =  -7.852e-10\n  [3, 1]  =  -5.23467e-9\n  [2, 2]  =  2.10525e-9\n  [5, 2]  =  -7.4781e-11\n  [1, 3]  =  -5.23467e-9\n  [3, 3]  =  6.03125e-9\n  [1, 4]  =  -7.852e-10\n  [4, 4]  =  4.87045e-11\n  [2, 5]  =  -5.23467e-10\n  [4, 5]  =  -4.48686e-11\n  [5, 5]  =  7.86168e-11"
     },
     "metadata": {},
     "execution_count": 4
    }
   ],
   "cell_type": "code",
   "source": [
    "Λ = sparse(Diagonal(srf)) / h         # air-sea loss operator\n",
    "M = TRdiv + κ * Λ + λ * I"
   ],
   "metadata": {},
   "execution_count": 4
  },
  {
   "outputs": [],
   "cell_type": "code",
   "source": [
    "s = κ * Λ * ones(5);             # air-sea source rate"
   ],
   "metadata": {},
   "execution_count": 5
  },
  {
   "outputs": [],
   "cell_type": "markdown",
   "source": [
    "## Simulating Radiocarbon"
   ],
   "metadata": {}
  },
  {
   "outputs": [],
   "cell_type": "markdown",
   "source": [
    "One way to see how the tracer evolves with time is to time step it.\n",
    "Here we will use a simple Euler-backward scheme.\n",
    "That is, below we create a function to solve $dx/dt = F(x)$ from `tspan[1]` to `tspan[2]` subject to `x[tspan[1]] = x0` using the Euler-backward scheme with `n` timesteps.\n",
    "Note that `(x[i+1]-x[i])/dt = J*X[i+1] + s`."
   ],
   "metadata": {}
  },
  {
   "outputs": [
    {
     "output_type": "execute_result",
     "data": {
      "text/plain": "euler_backward (generic function with 1 method)"
     },
     "metadata": {},
     "execution_count": 6
    }
   ],
   "cell_type": "code",
   "source": [
    "function euler_backward(J, s, tspan, x0, n)\n",
    "    dt = (tspan[2] - tspan[1]) / (n - 1)\n",
    "    A = I - dt * J\n",
    "    X = zeros(5, n)\n",
    "    T = zeros(n)\n",
    "    X[:,1] .= x0\n",
    "    T[1] = tspan[1]\n",
    "    for i in 2:n\n",
    "        X[:,i] .= A \\ (X[:,i-1] + dt * s)\n",
    "        T[i] = T[i-1] + dt\n",
    "    end\n",
    "    return X, T\n",
    "end"
   ],
   "metadata": {},
   "execution_count": 6
  },
  {
   "outputs": [
    {
     "output_type": "execute_result",
     "data": {
      "text/plain": "([1.0 0.9999109159032001 … 0.9396963276734882 0.9396963015480501; 1.0 0.999910922784263 … 0.9522690392516933 0.9522690225449273; … ; 1.0 0.999909273090939 … 0.8345437613217136 0.8345436875769124; 1.0 0.9999092760005767 … 0.9058204452911122 0.9058204183197], [0.0, 0.7500750075007501, 1.5001500150015001, 2.25022502250225, 3.0003000300030003, 3.7503750375037503, 4.5004500450045, 5.2505250525052505, 6.0006000600060005, 6.750675067506751  …  7493.249324930886, 7493.999399938387, 7494.749474945887, 7495.499549953388, 7496.2496249608885, 7496.999699968389, 7497.7497749758895, 7498.49984998339, 7499.249924990891, 7499.999999998391])"
     },
     "metadata": {},
     "execution_count": 7
    }
   ],
   "cell_type": "code",
   "source": [
    "tspan = [0, 7500]\n",
    "x0 = ones(5)\n",
    "X, T = euler_backward(-sec_per_year * M, sec_per_year * s, tspan, x0, 10000)"
   ],
   "metadata": {},
   "execution_count": 7
  },
  {
   "outputs": [],
   "cell_type": "code",
   "source": [
    "using PyPlot\n",
    "clf()\n",
    "c14age = -log.(X) ./ (λ * sec_per_year)\n",
    "plot(T, c14age')\n",
    "xlabel(\"simulation time (years)\")\n",
    "ylabel(\"¹⁴C age (years)\")\n",
    "legend(\"box \" .* string.(iwet))\n",
    "title(\"Simulation of the evolution of ¹⁴C age with Euler-backward time steps\")\n",
    "gcf();"
   ],
   "metadata": {},
   "execution_count": 8
  },
  {
   "outputs": [],
   "cell_type": "markdown",
   "source": [
    "The box model took more than 4000 years to spin up to equilibrium.\n",
    "For a box model that's no big deal because it is not computationally expensive to run the model, but for a big circulation model waiting for the model to spinup is painful.\n",
    "We therefore want a better way to find the equilibrium solution."
   ],
   "metadata": {}
  },
  {
   "outputs": [],
   "cell_type": "markdown",
   "source": [
    "## Solving for the Steady State"
   ],
   "metadata": {}
  },
  {
   "outputs": [],
   "cell_type": "markdown",
   "source": [
    "One thing we notice is that when the model is at equilibrium, the $dR/dt$ term vanishes and\n",
    "the steady state solution is given by the solution to the following linear system of equations\n",
    "\n",
    "$$\\underbrace{\\left[\\mathbf{T}+\\lambda\\mathbf{I}+\\kappa\\boldsymbol{\\Lambda}\\right]}_{\\mathbf{M}}R = \\underbrace{\\kappa\\boldsymbol{\\Lambda}\\mathbf{1}}_{s}$$\n",
    "\n",
    "which can be solved by directly inverting the $M$ matrix."
   ],
   "metadata": {}
  },
  {
   "outputs": [
    {
     "output_type": "execute_result",
     "data": {
      "text/plain": "5-element Array{Float64,1}:\n 0.9396621017627408\n 0.9522471525409573\n 0.9469952645219785\n 0.8344471511771245\n 0.9057851117656104"
     },
     "metadata": {},
     "execution_count": 9
    }
   ],
   "cell_type": "code",
   "source": [
    "R = M \\ s"
   ],
   "metadata": {},
   "execution_count": 9
  },
  {
   "outputs": [
    {
     "name": "stdout",
     "output_type": "stream",
     "text": [
      "box 1: 514.0 years\n",
      "box 2: 404.0 years\n",
      "box 3: 450.0 years\n",
      "box 5: 1496.0 years\n",
      "box 6: 818.0 years\n"
     ]
    }
   ],
   "cell_type": "code",
   "source": [
    "c14age_steady_state = -log.(R) / (λ * sec_per_year)\n",
    "for i in 1:5\n",
    "    println(\"box $(iwet[i]): $(round(c14age_steady_state[i])) years\")\n",
    "end"
   ],
   "metadata": {},
   "execution_count": 10
  },
  {
   "outputs": [],
   "cell_type": "markdown",
   "source": [
    "These are exactly the limit that the Radiocarbon age reaches after about 4000 years of simulation!\n",
    "Try modifying the strength of the currents of the high latitude convective mixing to see how it affects the ¹⁴C-ages."
   ],
   "metadata": {}
  },
  {
   "outputs": [],
   "cell_type": "markdown",
   "source": [
    "*This notebook was generated using [Literate.jl](https://github.com/fredrikekre/Literate.jl).*"
   ],
   "metadata": {}
  }
 ],
 "nbformat_minor": 3,
 "metadata": {
  "language_info": {
   "file_extension": ".jl",
   "mimetype": "application/julia",
   "name": "julia",
   "version": "1.3.0-DEV.271"
  },
  "kernelspec": {
   "name": "julia-1.3",
   "display_name": "Julia 1.3.0-DEV.271",
   "language": "julia"
  }
 },
 "nbformat": 4
}

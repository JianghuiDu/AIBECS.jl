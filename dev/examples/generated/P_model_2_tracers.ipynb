{
 "cells": [
  {
   "outputs": [],
   "cell_type": "markdown",
   "source": [
    "# Optimization of a simple phosphorus cycling model"
   ],
   "metadata": {}
  },
  {
   "outputs": [],
   "cell_type": "markdown",
   "source": [
    "> **Warning!**\n",
    "> This example is not finished yet.\n",
    "> It lacks a number of things, including explanatory text, references, and more.\n",
    "> However, it can already serve as an example of model optimization."
   ],
   "metadata": {}
  },
  {
   "outputs": [],
   "cell_type": "markdown",
   "source": [
    "## Tracer equations"
   ],
   "metadata": {}
  },
  {
   "outputs": [],
   "cell_type": "markdown",
   "source": [
    "We consider a simple model for the cycling of phosphorus with 2 state variables consisting of phosphate (PO₄) AKA dissolved inorganic phosphorus (DIP) and particulate organic phosphorus (POP).\n",
    "The dissolved phases are transported by advection and diffusion whereas the particulate phase sinks rapidly down the water column without any appreciable transport by the circulation.\n",
    "\n",
    "The governing equations that couple the 3D concentration fields of DIP and POP, denoted $x_\\mathsf{DIP}$ and $x_\\mathsf{POP}$, respectively, are:\n",
    "\n",
    "$$\\left[\\frac{\\partial}{\\partial t} + \\nabla \\cdot (\\boldsymbol{u} + \\mathbf{K}\\cdot\\nabla )\\right] x_\\mathsf{DIP} = -U(x_\\mathsf{DIP}) + R(x_\\mathsf{POP}),$$\n",
    "\n",
    "and\n",
    "\n",
    "$$\\left[\\frac{\\partial}{\\partial t} + \\nabla \\cdot \\boldsymbol{w}\\right] x_\\mathsf{POP} = U(x_\\mathsf{DIP}) - R(x_\\mathsf{POP}).$$"
   ],
   "metadata": {}
  },
  {
   "outputs": [],
   "cell_type": "markdown",
   "source": [
    "The 3D vector $\\boldsymbol{u}$ is the fluid velocity and $\\mathbf{K}$ is the eddy-diffusion tensor.\n",
    "Thus, $\\nabla \\cdot \\left[ \\boldsymbol{u} - \\mathbf{K} \\cdot \\nabla \\right]$ is a differential operator that represents the transport by the ocean circulation.\n",
    "The 3D vector $\\boldsymbol{w}$ is the particulate sinking velocity, so that the operator $\\nabla \\cdot \\boldsymbol{w}$ acting on $x_\\mathsf{POP}$ is the divergence of the flux of POP.\n",
    "We will assume that it increases linearly with depth, i.e., that\n",
    "\n",
    "$$\\boldsymbol{w}(\\boldsymbol{r}) = \\boldsymbol{w}_0 + \\boldsymbol{w}' z,$$\n",
    "\n",
    "where $\\boldsymbol{w}_0$ and $\\boldsymbol{w}'$ are simple scalars, independent of location $\\boldsymbol{r}$.\n",
    "($z$ represents the depth of location $\\boldsymbol{r}=(x,y,z)$.)"
   ],
   "metadata": {}
  },
  {
   "outputs": [],
   "cell_type": "markdown",
   "source": [
    "The function $U$ represents the biological uptake of DIP by phytoplankton, which we model as\n",
    "\n",
    "$$U(x_\\mathsf{DIP}) = \\frac{x_\\mathsf{DIP}}{\\tau} \\, \\frac{x_\\mathsf{DIP}}{x_\\mathsf{DIP} + k} \\, (z < z_0),$$\n",
    "\n",
    "where the timescale, $\\tau$, sets the maximum specific DIP uptake rate.\n",
    "The first term in the product scales linearly with DIP, which is a nice property to have in general.\n",
    "It also makes it easier to reason about the extreme cases.\n",
    "However, here the uptake is not linear:\n",
    "the second term in the product is a hyperbolic term (after Monod or Michaelis-Menten) and reduces the slope of the uptake function when DIP is low.\n",
    "When DIP is very low, the slope is close to 0.\n",
    "But when DIP is very high, the slope is close to $1/τ$.\n",
    "The last term is to be understood as a condition, i.e., that the uptake happens only in the euphotic layer, where there is sufficient light for photosynthesis to occur.\n",
    "The depth $z_0$ is the depth of the euphotic layer."
   ],
   "metadata": {}
  },
  {
   "outputs": [],
   "cell_type": "markdown",
   "source": [
    "The function $R$ defines the remineralization rate of POP, which converts POP back into DIP.\n",
    "For the remineralization, we simply use a linear rate constant, i.e.,\n",
    "\n",
    "$$R(x_\\mathsf{POP}) = \\kappa \\, x_\\mathsf{POP}.$$"
   ],
   "metadata": {}
  },
  {
   "outputs": [],
   "cell_type": "markdown",
   "source": [
    "## Translation into AIBECS code"
   ],
   "metadata": {}
  },
  {
   "outputs": [],
   "cell_type": "markdown",
   "source": [
    "### Transport matrices"
   ],
   "metadata": {}
  },
  {
   "outputs": [],
   "cell_type": "markdown",
   "source": [
    "We start by telling Julia we want to use the AIBECS"
   ],
   "metadata": {}
  },
  {
   "outputs": [],
   "cell_type": "code",
   "source": [
    "using AIBECS"
   ],
   "metadata": {},
   "execution_count": 1
  },
  {
   "outputs": [],
   "cell_type": "markdown",
   "source": [
    "We load the circulation and grid of the OCIM0.1 via"
   ],
   "metadata": {}
  },
  {
   "outputs": [
    {
     "name": "stdout",
     "output_type": "stream",
     "text": [
      "Loading OCIM0.1  % Total    % Received % Xferd  Average Speed   Time    Time     Time  Current\n",
      "                                 Dload  Upload   Total   Spent    Left  Speed\n",
      "\r  0     0    0     0    0     0      0      0 --:--:-- --:--:-- --:--:--     0\r  0     0    0     0    0     0      0      0 --:--:-- --:--:-- --:--:--     0\r100   178  100   178    0     0    235      0 --:--:-- --:--:-- --:--:--   235\n",
      "\r  0     0    0     0    0     0      0      0 --:--:--  0:00:01 --:--:--     0\n",
      "\r  0     0    0     0    0     0      0      0 --:--:--  0:00:01 --:--:--     0\r  1 44.9M    1  610k    0     0   225k      0  0:03:24  0:00:02  0:03:22  583k\r 42 44.9M   42 19.2M    0     0  5382k      0  0:00:08  0:00:03  0:00:05 9865k\r100 44.9M  100 44.9M    0     0   9.9M      0  0:00:04  0:00:04 --:--:-- 15.7M\n",
      " ✔\n",
      "┌ Info: You are about to use OCIM0.1 model.\n",
      "│ If you use it for research, please cite:\n",
      "│ \n",
      "│ - Primeau, F. W., Holzer, M., and DeVries, T. (2013), Southern Ocean nutrient trapping and the efficiency of the biological pump, J. Geophys. Res. Oceans, 118, 2547–2564, doi:10.1002/jgrc.20181.\n",
      "│ - DeVries, T. and F. Primeau, 2011: Dynamically and Observationally Constrained Estimates of Water-Mass Distributions and Ages in the Global Ocean. J. Phys. Oceanogr., 41, 2381–2401, doi:10.1175/JPO-D-10-05011.1\n",
      "│ \n",
      "│ You can find the corresponding BibTeX entries in the CITATION.bib file\n",
      "│ at the root of the AIBECS.jl package repository.\n",
      "│ (Look for the \"DeVries_Primeau_2011\" and \"Primeau_etal_2013\" keys.)\n",
      "└ @ AIBECS.OCIM0 /home/travis/build/briochemc/AIBECS.jl/src/OCIM0.jl:53\n"
     ]
    }
   ],
   "cell_type": "code",
   "source": [
    "wet3D, grd, T_OCIM = OCIM0.load() ;"
   ],
   "metadata": {},
   "execution_count": 2
  },
  {
   "outputs": [],
   "cell_type": "markdown",
   "source": [
    "where the operator $\\nabla \\cdot \\left[ \\boldsymbol{u} - \\mathbf{K} \\cdot \\nabla \\right]$ is represented by the sparse matrix `T_OCIM`.\n",
    "In AIBECS, all the transport matrices must be declared as functions of the parameters `p`, so we simply define"
   ],
   "metadata": {}
  },
  {
   "outputs": [
    {
     "output_type": "execute_result",
     "data": {
      "text/plain": "T_DIP (generic function with 1 method)"
     },
     "metadata": {},
     "execution_count": 3
    }
   ],
   "cell_type": "code",
   "source": [
    "T_DIP(p) = T_OCIM"
   ],
   "metadata": {},
   "execution_count": 3
  },
  {
   "outputs": [],
   "cell_type": "markdown",
   "source": [
    "For the sinking of particles, we are going to create a sparse matrix that depends on the parameters, too, which define how fast particles sink."
   ],
   "metadata": {}
  },
  {
   "outputs": [
    {
     "output_type": "execute_result",
     "data": {
      "text/plain": "T_POP (generic function with 1 method)"
     },
     "metadata": {},
     "execution_count": 4
    }
   ],
   "cell_type": "code",
   "source": [
    "T_POP(p) = buildPFD(grd, wet3D, sinking_speed = w(p))"
   ],
   "metadata": {},
   "execution_count": 4
  },
  {
   "outputs": [],
   "cell_type": "markdown",
   "source": [
    "for which we need to define the sinking speed `w(p)` as a function of the parameters `p`.\n",
    "Following the assumption that it increases linearly with depth, we write it as"
   ],
   "metadata": {}
  },
  {
   "outputs": [
    {
     "output_type": "execute_result",
     "data": {
      "text/plain": "w (generic function with 1 method)"
     },
     "metadata": {},
     "execution_count": 5
    }
   ],
   "cell_type": "code",
   "source": [
    "w(p) = p.w₀ .+ p.w′ * z"
   ],
   "metadata": {},
   "execution_count": 5
  },
  {
   "outputs": [],
   "cell_type": "markdown",
   "source": [
    "For this to work, we must create a vector of depths, `z`, which is simply done via"
   ],
   "metadata": {}
  },
  {
   "outputs": [
    {
     "output_type": "execute_result",
     "data": {
      "text/plain": "191169-element Array{Float64,1}:\n   18.0675569520817\n   18.0675569520817\n   18.0675569520817\n   18.0675569520817\n   18.0675569520817\n   18.0675569520817\n   18.0675569520817\n   18.0675569520817\n   18.0675569520817\n   18.0675569520817\n    ⋮              \n 5433.2531421838175\n 5433.2531421838175\n 5433.2531421838175\n 5433.2531421838175\n 5433.2531421838175\n 5433.2531421838175\n 5433.2531421838175\n 5433.2531421838175\n 5433.2531421838175"
     },
     "metadata": {},
     "execution_count": 6
    }
   ],
   "cell_type": "code",
   "source": [
    "iwet = findall(wet3D)\n",
    "z = ustrip.(grd.depth_3D[iwet])"
   ],
   "metadata": {},
   "execution_count": 6
  },
  {
   "outputs": [],
   "cell_type": "markdown",
   "source": [
    "(We must strip the units via `ustrip` because units do not percolate through the functionality of AIBECS flawlessly at this early stage of development.)\n",
    "We combine the transport operators for DIP and POP into a single tuple via"
   ],
   "metadata": {}
  },
  {
   "outputs": [],
   "cell_type": "code",
   "source": [
    "T_all = (T_DIP, T_POP) ;"
   ],
   "metadata": {},
   "execution_count": 7
  },
  {
   "outputs": [],
   "cell_type": "markdown",
   "source": [
    "### Local sources and sinks"
   ],
   "metadata": {}
  },
  {
   "outputs": [],
   "cell_type": "markdown",
   "source": [
    "##### Geological Restoring"
   ],
   "metadata": {}
  },
  {
   "outputs": [],
   "cell_type": "markdown",
   "source": [
    "Because AIBECS will solve for the steady state solution directly without time-stepping the goverining equations to equilibrium, we don't have any opportunity to specify any intial conditions.\n",
    "Initial conditions are how the total amount of conserved elements get specified in most global biogeochemical modelels.\n",
    "Thus to specify the total inventory of P in AIBECS we add a very weak resporing term to, e.g., the DIP equation.\n",
    "The time-scale for this restoring term is chosen to be very long compared to the timescale with which the ocean circulation homogenizes a tracer.\n",
    "Because of this long timescale we call it the geological restoring term, but geochemists who work on geological processes don't like that name!\n",
    "In any event the long timescale allows us to prescribe the total inventory of P in a way that yields the same solution we would have gotten had we time-stepped the model to steady-state with the total inventory prescribed by the initial condition.\n",
    "We define the geological restoring simply as"
   ],
   "metadata": {}
  },
  {
   "outputs": [
    {
     "output_type": "execute_result",
     "data": {
      "text/plain": "geores (generic function with 1 method)"
     },
     "metadata": {},
     "execution_count": 8
    }
   ],
   "cell_type": "code",
   "source": [
    "geores(x, p) = (p.DIPgeo .- x) / p.τgeo"
   ],
   "metadata": {},
   "execution_count": 8
  },
  {
   "outputs": [],
   "cell_type": "markdown",
   "source": [
    "##### Uptake (DIP → POP)"
   ],
   "metadata": {}
  },
  {
   "outputs": [],
   "cell_type": "markdown",
   "source": [
    "For the phosphate uptake, we must take some precautions to avoid the pole of the hyperbolic term.\n",
    "That is, we ensure that uptake only occurs when DIP is positive via the `relu` function"
   ],
   "metadata": {}
  },
  {
   "outputs": [
    {
     "output_type": "execute_result",
     "data": {
      "text/plain": "relu (generic function with 1 method)"
     },
     "metadata": {},
     "execution_count": 9
    }
   ],
   "cell_type": "code",
   "source": [
    "relu(x) = (x .≥ 0) .* x"
   ],
   "metadata": {},
   "execution_count": 9
  },
  {
   "outputs": [],
   "cell_type": "markdown",
   "source": [
    "Then we simply write the uptake as a Julia function, following the definition of $U$:"
   ],
   "metadata": {}
  },
  {
   "outputs": [
    {
     "output_type": "execute_result",
     "data": {
      "text/plain": "uptake (generic function with 1 method)"
     },
     "metadata": {},
     "execution_count": 10
    }
   ],
   "cell_type": "code",
   "source": [
    "function uptake(DIP, p)\n",
    "    τ, k, z₀ = p.τ, p.k, p.z₀\n",
    "    DIP⁺ = relu(DIP)\n",
    "    return 1/τ * DIP⁺.^2 ./ (DIP⁺ .+ k) .* (z .≤ z₀)\n",
    "end"
   ],
   "metadata": {},
   "execution_count": 10
  },
  {
   "outputs": [],
   "cell_type": "markdown",
   "source": [
    "where we have \"unpacked\" the parameters to make the code clearer and as close to the mathematical equation as possible."
   ],
   "metadata": {}
  },
  {
   "outputs": [],
   "cell_type": "markdown",
   "source": [
    "##### Remineralization (POP → DIP)"
   ],
   "metadata": {}
  },
  {
   "outputs": [
    {
     "output_type": "execute_result",
     "data": {
      "text/plain": "remineralization (generic function with 1 method)"
     },
     "metadata": {},
     "execution_count": 11
    }
   ],
   "cell_type": "code",
   "source": [
    "remineralization(POP, p) = p.κ * POP"
   ],
   "metadata": {},
   "execution_count": 11
  },
  {
   "outputs": [],
   "cell_type": "markdown",
   "source": [
    "##### Net sources and sinks"
   ],
   "metadata": {}
  },
  {
   "outputs": [],
   "cell_type": "markdown",
   "source": [
    "We lump the sources and sinks into `sms` functions (for Sources Minus Sinks):"
   ],
   "metadata": {}
  },
  {
   "outputs": [
    {
     "output_type": "execute_result",
     "data": {
      "text/plain": "sms_POP (generic function with 1 method)"
     },
     "metadata": {},
     "execution_count": 12
    }
   ],
   "cell_type": "code",
   "source": [
    "function sms_DIP(DIP, POP, p)\n",
    "    return -uptake(DIP, p) + remineralization(POP, p) + geores(DIP, p)\n",
    "end\n",
    "function sms_POP(DIP, POP, p)\n",
    "    return  uptake(DIP, p) - remineralization(POP, p)\n",
    "end"
   ],
   "metadata": {},
   "execution_count": 12
  },
  {
   "outputs": [],
   "cell_type": "markdown",
   "source": [
    "and create a tuple of those just like for the transport matrices via"
   ],
   "metadata": {}
  },
  {
   "outputs": [
    {
     "output_type": "execute_result",
     "data": {
      "text/plain": "(Main.##363.sms_DIP, Main.##363.sms_POP)"
     },
     "metadata": {},
     "execution_count": 13
    }
   ],
   "cell_type": "code",
   "source": [
    "sms_all = (sms_DIP, sms_POP) # bundles all the source-sink functions in a tuple"
   ],
   "metadata": {},
   "execution_count": 13
  },
  {
   "outputs": [],
   "cell_type": "markdown",
   "source": [
    "For the sake of this notebook, however, we write more efficient BGC functions for the sources and sinks by using \"in place\" functions that mutate a preallocated vector to avoid allocations.\n",
    "`G_DIP!` replaces `sms_DIP`:"
   ],
   "metadata": {}
  },
  {
   "outputs": [
    {
     "output_type": "execute_result",
     "data": {
      "text/plain": "G_DIP! (generic function with 1 method)"
     },
     "metadata": {},
     "execution_count": 14
    }
   ],
   "cell_type": "code",
   "source": [
    "function G_DIP!(dDIP, DIP, POP, p)\n",
    "    τ, k, z₀, κ, DIPgeo, τgeo = p.τ, p.k, p.z₀, p.κ, p.DIPgeo, p.τgeo\n",
    "    dDIP .= @. -(DIP ≥ 0) / τ * DIP^2 / (DIP + k) * (z ≤ z₀) + κ * POP + (DIPgeo - DIP) / τgeo\n",
    "    return dDIP\n",
    "end"
   ],
   "metadata": {},
   "execution_count": 14
  },
  {
   "outputs": [],
   "cell_type": "markdown",
   "source": [
    "Note the use of the `@.` macro to \"fuse\" the loops together, which is faster than looping for each operation.\n",
    "And `G_POP!` replaces `sms_POP`:"
   ],
   "metadata": {}
  },
  {
   "outputs": [
    {
     "output_type": "execute_result",
     "data": {
      "text/plain": "G_POP! (generic function with 1 method)"
     },
     "metadata": {},
     "execution_count": 15
    }
   ],
   "cell_type": "code",
   "source": [
    "function G_POP!(dPOP, DIP, POP, p)\n",
    "    τ, k, z₀, κ = p.τ, p.k, p.z₀, p.κ\n",
    "    dPOP .= @. (DIP ≥ 0) / τ * DIP^2 / (DIP + k) * (z ≤ z₀) - κ * POP\n",
    "    return dPOP\n",
    "end"
   ],
   "metadata": {},
   "execution_count": 15
  },
  {
   "outputs": [],
   "cell_type": "markdown",
   "source": [
    "which we bundle into"
   ],
   "metadata": {}
  },
  {
   "outputs": [
    {
     "output_type": "execute_result",
     "data": {
      "text/plain": "(Main.##363.G_DIP!, Main.##363.G_POP!)"
     },
     "metadata": {},
     "execution_count": 16
    }
   ],
   "cell_type": "code",
   "source": [
    "Gs = (G_DIP!, G_POP!)"
   ],
   "metadata": {},
   "execution_count": 16
  },
  {
   "outputs": [],
   "cell_type": "markdown",
   "source": [
    "### Parameters"
   ],
   "metadata": {}
  },
  {
   "outputs": [],
   "cell_type": "markdown",
   "source": [
    "We now define and build the parameters.\n",
    "In AIBECS, this is done by first creating a table of parameters, using the API designed for it.\n",
    "First, we create an empty table:"
   ],
   "metadata": {}
  },
  {
   "outputs": [
    {
     "output_type": "execute_result",
     "data": {
      "text/plain": "0×9 DataFrames.DataFrame\n",
      "text/html": [
       "<table class=\"data-frame\"><thead><tr><th></th><th>symbol</th><th>value</th><th>unit</th><th>printunit</th><th>mean_obs</th><th>variance_obs</th><th>optimizable</th><th>description</th></tr><tr><th></th><th>Symbol</th><th>Float64</th><th>Unitful…</th><th>Unitful…</th><th>Float64</th><th>Float64</th><th>Bool</th><th>String</th></tr></thead><tbody><p>0 rows × 9 columns (omitted printing of 1 columns)</p></tbody></table>"
      ]
     },
     "metadata": {},
     "execution_count": 17
    }
   ],
   "cell_type": "code",
   "source": [
    "t = empty_parameter_table()    # empty table of parameters"
   ],
   "metadata": {},
   "execution_count": 17
  },
  {
   "outputs": [],
   "cell_type": "markdown",
   "source": [
    "Then, we add every parameter that we need"
   ],
   "metadata": {}
  },
  {
   "outputs": [
    {
     "output_type": "execute_result",
     "data": {
      "text/plain": "8×9 DataFrames.DataFrame. Omitted printing of 3 columns\n│ Row │ symbol │ value      │ unit     │ printunit │ mean_obs   │ variance_obs │\n│     │ \u001b[90mSymbol\u001b[39m │ \u001b[90mFloat64\u001b[39m    │ \u001b[90mUnitful…\u001b[39m │ \u001b[90mUnitful…\u001b[39m  │ \u001b[90mFloat64\u001b[39m    │ \u001b[90mFloat64\u001b[39m      │\n├─────┼────────┼────────────┼──────────┼───────────┼────────────┼──────────────┤\n│ 1   │ DIPgeo │ 0.00212    │ mol m^-3 │ mmol m^-3 │ 0.00212    │ 4.7089e-8    │\n│ 2   │ τgeo   │ 3.15576e13 │ s        │ Myr       │ NaN        │ NaN          │\n│ 3   │ k      │ 6.62e-6    │ mol m^-3 │ μmol m^-3 │ 6.62e-6    │ 4.38244e-11  │\n│ 4   │ z₀     │ 80.0       │ m        │ m         │ NaN        │ NaN          │\n│ 5   │ w₀     │ 7.40741e-6 │ m s^-1   │ m d^-1    │ 7.40741e-6 │ 5.48697e-11  │\n│ 6   │ w′     │ 1.50463e-6 │ s^-1     │ d^-1      │ 1.50463e-6 │ 2.26391e-12  │\n│ 7   │ κ      │ 2.19907e-6 │ s^-1     │ d^-1      │ 2.19907e-6 │ 4.83593e-12  │\n│ 8   │ τ      │ 2.04353e7  │ s        │ d         │ 2.04353e7  │ 4.17603e14   │",
      "text/html": [
       "<table class=\"data-frame\"><thead><tr><th></th><th>symbol</th><th>value</th><th>unit</th><th>printunit</th><th>mean_obs</th><th>variance_obs</th><th>optimizable</th></tr><tr><th></th><th>Symbol</th><th>Float64</th><th>Unitful…</th><th>Unitful…</th><th>Float64</th><th>Float64</th><th>Bool</th></tr></thead><tbody><p>8 rows × 9 columns (omitted printing of 2 columns)</p><tr><th>1</th><td>DIPgeo</td><td>0.00212</td><td>mol m^-3</td><td>mmol m^-3</td><td>0.00212</td><td>4.7089e-8</td><td>true</td></tr><tr><th>2</th><td>τgeo</td><td>3.15576e13</td><td>s</td><td>Myr</td><td>NaN</td><td>NaN</td><td>false</td></tr><tr><th>3</th><td>k</td><td>6.62e-6</td><td>mol m^-3</td><td>μmol m^-3</td><td>6.62e-6</td><td>4.38244e-11</td><td>true</td></tr><tr><th>4</th><td>z₀</td><td>80.0</td><td>m</td><td>m</td><td>NaN</td><td>NaN</td><td>false</td></tr><tr><th>5</th><td>w₀</td><td>7.40741e-6</td><td>m s^-1</td><td>m d^-1</td><td>7.40741e-6</td><td>5.48697e-11</td><td>true</td></tr><tr><th>6</th><td>w′</td><td>1.50463e-6</td><td>s^-1</td><td>d^-1</td><td>1.50463e-6</td><td>2.26391e-12</td><td>true</td></tr><tr><th>7</th><td>κ</td><td>2.19907e-6</td><td>s^-1</td><td>d^-1</td><td>2.19907e-6</td><td>4.83593e-12</td><td>true</td></tr><tr><th>8</th><td>τ</td><td>2.04353e7</td><td>s</td><td>d</td><td>2.04353e7</td><td>4.17603e14</td><td>true</td></tr></tbody></table>"
      ]
     },
     "metadata": {},
     "execution_count": 18
    }
   ],
   "cell_type": "code",
   "source": [
    "add_parameter!(t, :DIPgeo, 2.12u\"mmol/m^3\",\n",
    "               optimizable = true,\n",
    "               variance_obs = ustrip(upreferred(0.1 * 2.17u\"mmol/m^3\"))^2,\n",
    "               description = \"Mean PO₄ concentration\")\n",
    "add_parameter!(t, :τgeo, 1.0u\"Myr\",\n",
    "               description = \"Geological restoring timescale\")\n",
    "add_parameter!(t, :k, 6.62u\"μmol/m^3\",\n",
    "               optimizable = true,\n",
    "               description = \"Half-saturation constant (Michaelis-Menten)\")\n",
    "add_parameter!(t, :z₀, 80.0u\"m\",\n",
    "               description = \"Depth of the euphotic layer base\")\n",
    "add_parameter!(t, :w₀, 0.64u\"m/d\",\n",
    "               optimizable = true,\n",
    "               description = \"Sinking velocity at surface\")\n",
    "add_parameter!(t, :w′, 0.13u\"1/d\",\n",
    "               optimizable = true,\n",
    "               description = \"Vertical gradient of sinking velocity\")\n",
    "add_parameter!(t, :κ, 0.19u\"1/d\",\n",
    "               optimizable = true,\n",
    "               description = \"Remineralization rate constant (POP to DIP)\")\n",
    "add_parameter!(t, :τ, 236.52u\"d\",\n",
    "               optimizable = true,\n",
    "               description = \"Maximum uptake rate timescale\")"
   ],
   "metadata": {},
   "execution_count": 18
  },
  {
   "outputs": [],
   "cell_type": "markdown",
   "source": [
    "These values of these parameters have been optimized for the same model but embedded in the OCIM1 circulation and should yield a pretty good fit to observations.\n",
    "However, because the circulation has changed from the OCIM1 to the OCIM0.1 used here, the best parameters have probably changed, too.\n",
    "Thus, we will re-optimize these parameters below.\n",
    "But first, we will just try to find the steady-state solution with these initial parameter values."
   ],
   "metadata": {}
  },
  {
   "outputs": [],
   "cell_type": "markdown",
   "source": [
    "We generate a new type for the parameters, via"
   ],
   "metadata": {}
  },
  {
   "outputs": [],
   "cell_type": "code",
   "source": [
    "initialize_Parameters_type(t, \"Pcycle_Parameters\")   # Generate the parameter type"
   ],
   "metadata": {},
   "execution_count": 19
  },
  {
   "outputs": [],
   "cell_type": "markdown",
   "source": [
    "Finally, we can instantiate the parameter vector in a single line:"
   ],
   "metadata": {}
  },
  {
   "outputs": [
    {
     "output_type": "execute_result",
     "data": {
      "text/plain": "DIPgeo = 2.12e+00 [mmol m⁻³] \n  τgeo = 1.00e+00 [Myr] (fixed)\n     k = 6.62e+00 [μmol m⁻³] \n    z₀ = 8.00e+01 [m] (fixed)\n    w₀ = 6.40e-01 [m d⁻¹] \n    w′ = 1.30e-01 [d⁻¹] \n     κ = 1.90e-01 [d⁻¹] \n     τ = 2.37e+02 [d] \n"
     },
     "metadata": {},
     "execution_count": 20
    }
   ],
   "cell_type": "code",
   "source": [
    "p = Pcycle_Parameters()"
   ],
   "metadata": {},
   "execution_count": 20
  },
  {
   "outputs": [],
   "cell_type": "markdown",
   "source": [
    "where we have used the name of the new type that we created just earlier."
   ],
   "metadata": {}
  },
  {
   "outputs": [],
   "cell_type": "markdown",
   "source": [
    "## Finding the steady-state solution"
   ],
   "metadata": {}
  },
  {
   "outputs": [],
   "cell_type": "markdown",
   "source": [
    "### Generate state function and Jacobian"
   ],
   "metadata": {}
  },
  {
   "outputs": [],
   "cell_type": "markdown",
   "source": [
    "We generate the in-place state function `F!` and its Jacobian in a single line\n",
    "and the out-of-place `F` for use by the solver.\n",
    "(Using `dx = similar(x)` creates a vector of the same type and size as `x` but without spending time copying its values, which is OK because we always fill the entire `dx` in calls to `g_DIP!` and G_POP!`.)"
   ],
   "metadata": {}
  },
  {
   "outputs": [
    {
     "output_type": "execute_result",
     "data": {
      "text/plain": "F (generic function with 1 method)"
     },
     "metadata": {},
     "execution_count": 21
    }
   ],
   "cell_type": "code",
   "source": [
    "nb = length(iwet)\n",
    "F!, ∇ₓF = inplace_state_function_and_Jacobian(T_all, Gs, nb)\n",
    "F(x::Vector{Tx}, p::Pcycle_Parameters{Tp}) where {Tx,Tp} = F!(Vector{promote_type(Tx,Tp)}(undef,length(x)),x,p)"
   ],
   "metadata": {},
   "execution_count": 21
  },
  {
   "outputs": [],
   "cell_type": "markdown",
   "source": [
    "### Solve for the steady-state"
   ],
   "metadata": {}
  },
  {
   "outputs": [],
   "cell_type": "markdown",
   "source": [
    "We start from an initial guess,"
   ],
   "metadata": {}
  },
  {
   "outputs": [
    {
     "output_type": "execute_result",
     "data": {
      "text/plain": "382338-element Array{Float64,1}:\n 0.0021200000000000004\n 0.0021200000000000004\n 0.0021200000000000004\n 0.0021200000000000004\n 0.0021200000000000004\n 0.0021200000000000004\n 0.0021200000000000004\n 0.0021200000000000004\n 0.0021200000000000004\n 0.0021200000000000004\n ⋮                    \n 0.0021200000000000004\n 0.0021200000000000004\n 0.0021200000000000004\n 0.0021200000000000004\n 0.0021200000000000004\n 0.0021200000000000004\n 0.0021200000000000004\n 0.0021200000000000004\n 0.0021200000000000004"
     },
     "metadata": {},
     "execution_count": 22
    }
   ],
   "cell_type": "code",
   "source": [
    "x = p.DIPgeo * ones(2nb) # initial iterate"
   ],
   "metadata": {},
   "execution_count": 22
  },
  {
   "outputs": [],
   "cell_type": "markdown",
   "source": [
    "Create an instance of the steady-state problem"
   ],
   "metadata": {}
  },
  {
   "outputs": [
    {
     "output_type": "execute_result",
     "data": {
      "text/plain": "SteadyStateProblem with uType Array{Float64,1}\nu0: [0.00212, 0.00212, 0.00212, 0.00212, 0.00212, 0.00212, 0.00212, 0.00212, 0.00212, 0.00212  …  0.00212, 0.00212, 0.00212, 0.00212, 0.00212, 0.00212, 0.00212, 0.00212, 0.00212, 0.00212]"
     },
     "metadata": {},
     "execution_count": 23
    }
   ],
   "cell_type": "code",
   "source": [
    "prob = SteadyStateProblem(F, ∇ₓF, x, p)"
   ],
   "metadata": {},
   "execution_count": 23
  },
  {
   "outputs": [],
   "cell_type": "markdown",
   "source": [
    "and solve it"
   ],
   "metadata": {}
  },
  {
   "outputs": [
    {
     "output_type": "execute_result",
     "data": {
      "text/plain": "382338-element Array{Float64,1}:\n 0.0020475554910165607\n 0.002057421172117009 \n 0.0017072134842503503\n 0.001604394745303311 \n 0.0014699843915421508\n 0.0014133418232435521\n 0.0013149985799484015\n 0.0014421910936787152\n 0.0013064467964472536\n 0.0012054523290650314\n ⋮                    \n 4.613921330187689e-9 \n 2.672543832284385e-9 \n 2.8666492055640978e-9\n 4.854081489360668e-9 \n 5.1262350724626185e-9\n 4.906041130877634e-9 \n 5.49232446806064e-9  \n 5.310574580913026e-9 \n 5.4657917053741616e-9"
     },
     "metadata": {},
     "execution_count": 24
    }
   ],
   "cell_type": "code",
   "source": [
    "s = solve(prob, CTKAlg()).u"
   ],
   "metadata": {},
   "execution_count": 24
  },
  {
   "outputs": [],
   "cell_type": "markdown",
   "source": [
    "### Plotting"
   ],
   "metadata": {}
  },
  {
   "outputs": [],
   "cell_type": "markdown",
   "source": [
    "For plotting, we first unpack the state"
   ],
   "metadata": {}
  },
  {
   "outputs": [
    {
     "output_type": "execute_result",
     "data": {
      "text/plain": "([0.00204756, 0.00205742, 0.00170721, 0.00160439, 0.00146998, 0.00141334, 0.001315, 0.00144219, 0.00130645, 0.00120545  …  0.00135408, 0.00135561, 0.00132192, 0.00132191, 0.00223223, 0.00223441, 0.00222974, 0.00221617, 0.00222811, 0.00223251], [2.132e-5, 2.14231e-5, 1.77648e-5, 1.66908e-5, 1.52867e-5, 1.4695e-5, 1.36678e-5, 1.49964e-5, 1.35784e-5, 1.25235e-5  …  5.02825e-9, 4.61392e-9, 2.67254e-9, 2.86665e-9, 4.85408e-9, 5.12624e-9, 4.90604e-9, 5.49232e-9, 5.31057e-9, 5.46579e-9])"
     },
     "metadata": {},
     "execution_count": 25
    }
   ],
   "cell_type": "code",
   "source": [
    "DIP, POP = state_to_tracers(s, nb, 2)"
   ],
   "metadata": {},
   "execution_count": 25
  },
  {
   "outputs": [],
   "cell_type": "markdown",
   "source": [
    "We will plot the concentration of DIP at a given depth horizon"
   ],
   "metadata": {}
  },
  {
   "outputs": [
    {
     "output_type": "execute_result",
     "data": {
      "text/plain": "(17, 2141.005498821681 m)"
     },
     "metadata": {},
     "execution_count": 26
    }
   ],
   "cell_type": "code",
   "source": [
    "iz = findfirst(grd.depth .> 2000u\"m\")\n",
    "iz, grd.depth[iz]"
   ],
   "metadata": {},
   "execution_count": 26
  },
  {
   "outputs": [
    {
     "output_type": "execute_result",
     "data": {
      "text/plain": "([-89.0, -87.0, -85.0, -83.0, -81.0, -79.0, -77.0, -75.0, -73.0, -71.0  …  71.0, 73.0, 75.0, 77.0, 79.0, 81.0, 83.0, 85.0, 87.0, 89.0], [1.0, 3.0, 5.0, 7.0, 9.0, 11.0, 13.0, 15.0, 17.0, 19.0  …  341.0, 343.0, 345.0, 347.0, 349.0, 351.0, 353.0, 355.0, 357.0, 359.0])"
     },
     "metadata": {},
     "execution_count": 27
    }
   ],
   "cell_type": "code",
   "source": [
    "DIP_3D = rearrange_into_3Darray(DIP, wet3D)\n",
    "DIP_2D = DIP_3D[:,:,iz] * ustrip(1.0u\"mol/m^3\" |> u\"mmol/m^3\")\n",
    "lat, lon = ustrip.(grd.lat), ustrip.(grd.lon)"
   ],
   "metadata": {},
   "execution_count": 27
  },
  {
   "outputs": [],
   "cell_type": "markdown",
   "source": [
    "Create the Cartopy canvas, make the data cyclic in order for the plot to look good in Cartopy, and plot the filled contour via `contourf`"
   ],
   "metadata": {}
  },
  {
   "outputs": [
    {
     "name": "stdout",
     "output_type": "stream",
     "text": [
      "┌ Warning: No working GUI backend found for matplotlib\n",
      "└ @ PyPlot /home/travis/.julia/packages/PyPlot/cdCMF/src/init.jl:155\n"
     ]
    },
    {
     "output_type": "execute_result",
     "data": {
      "text/plain": "PyPlot.Figure(PyObject <Figure size 640x480 with 2 Axes>)",
      "image/png": "[encoded data removed]"
     },
     "metadata": {},
     "execution_count": 28
    }
   ],
   "cell_type": "code",
   "source": [
    "ENV[\"MPLBACKEND\"]=\"qt5agg\"\n",
    "using PyPlot, PyCall\n",
    "clf()\n",
    "ccrs = pyimport(\"cartopy.crs\")\n",
    "cfeature = pyimport(\"cartopy.feature\")\n",
    "ax = subplot(projection = ccrs.EqualEarth(central_longitude=-155.0))\n",
    "ax.add_feature(cfeature.COASTLINE, edgecolor=\"#000000\") # black coast lines\n",
    "ax.add_feature(cfeature.LAND, facecolor=\"#CCCCCC\")      # gray land\n",
    "lon_cyc = [lon; 360+lon[1]]\n",
    "DIP_2D_cyc = hcat(DIP_2D, DIP_2D[:,1])\n",
    "plt = contourf(lon_cyc, lat, DIP_2D_cyc, levels=0:0.2:3.6, transform=ccrs.PlateCarree(), zorder=-1)\n",
    "colorbar(plt, orientation=\"horizontal\");\n",
    "title(\"PO₄ at $(string(round(typeof(1u\"m\"),grd.depth[iz]))) depth using the OCIM0.1 circulation\")\n",
    "gcf()"
   ],
   "metadata": {},
   "execution_count": 28
  },
  {
   "outputs": [],
   "cell_type": "markdown",
   "source": [
    "## Optimizing the model parameters"
   ],
   "metadata": {}
  },
  {
   "outputs": [],
   "cell_type": "markdown",
   "source": [
    "To optimize the model, we will use data from the World Ocean Atlas (WOA).\n",
    "Specifically, we will use the observed PO<sub>4</sub> climatology, which the WOA produces every few years.\n",
    "Thanks to the [WorldOceanAtlasTools](https://github.com/briochemc/WorldOceanAtlasTools.jl) package combined with some AIBECS functionality, this is done a just a few commands:"
   ],
   "metadata": {}
  },
  {
   "outputs": [
    {
     "name": "stdout",
     "output_type": "stream",
     "text": [
      "Registering WOA data with DataDeps\n",
      "  % Total    % Received % Xferd  Average Speed   Time    Time     Time  Current\n",
      "                                 Dload  Upload   Total   Spent    Left  Speed\n",
      "\r  0     0    0     0    0     0      0      0 --:--:-- --:--:-- --:--:--     0\r  0  176M    0  703k    0     0   912k      0  0:03:18 --:--:--  0:03:18  911k\r  5  176M    5 9828k    0     0  5597k      0  0:00:32  0:00:01  0:00:31 5596k\r 22  176M   22 39.2M    0     0  14.3M      0  0:00:12  0:00:02  0:00:10 14.3M\r 69  176M   69  122M    0     0  32.7M      0  0:00:05  0:00:03  0:00:02 32.7M\r100  176M  100  176M    0     0  41.4M      0  0:00:04  0:00:04 --:--:-- 41.4M\n",
      "┌ Warning: Checksum not provided, add to the Datadep Registration the following hash line\n",
      "│   hash = 6a121a086bf36c5ea44773f63c8b7626614b024f0397cd0fc4d58150759a2d2c\n",
      "└ @ DataDeps /home/travis/.julia/packages/DataDeps/RYAia/src/verification.jl:44\n",
      "  Reading NetCDF file\n",
      "  Rearranging data\n",
      "  Filtering data\n",
      "  Averaging data over each grid box\n",
      "  Setting μ = 0 and σ² = ∞ where no obs\n",
      "  Setting a realistic minimum for σ²\n"
     ]
    },
    {
     "output_type": "execute_result",
     "data": {
      "text/plain": "([Inf, Inf, Inf, Inf, Inf, Inf, Inf, Inf, Inf, Inf  …  Inf, Inf, Inf, Inf, Inf, Inf, Inf, Inf, Inf, Inf], missing)"
     },
     "metadata": {},
     "execution_count": 29
    }
   ],
   "cell_type": "code",
   "source": [
    "using WorldOceanAtlasTools\n",
    "μDIPobs3D, σ²DIPobs3D = WorldOceanAtlasTools.fit_to_grid(grd, 2018, \"phosphate\", \"annual\", \"1°\", \"an\")\n",
    "μDIPobs, σ²DIPobs = μDIPobs3D[iwet], σ²DIPobs3D[iwet]\n",
    "μx = (μDIPobs, missing)\n",
    "σ²x = (σ²DIPobs, missing)"
   ],
   "metadata": {},
   "execution_count": 29
  },
  {
   "outputs": [],
   "cell_type": "markdown",
   "source": [
    "We define some hyper parameters for the weight of the mismatch of DIP, POP, and the parameters with observations / their prior estimates."
   ],
   "metadata": {}
  },
  {
   "outputs": [
    {
     "output_type": "execute_result",
     "data": {
      "text/plain": "0.0001"
     },
     "metadata": {},
     "execution_count": 30
    }
   ],
   "cell_type": "code",
   "source": [
    "ωs = [1.0, 0.0] # the weight for the mismatch (weight of POP = 0)\n",
    "ωp = 1e-4       # the weight for the parameters prior estimates"
   ],
   "metadata": {},
   "execution_count": 30
  },
  {
   "outputs": [],
   "cell_type": "markdown",
   "source": [
    "We then generate the objective function and some derivatives using the PO₄ mean and variance"
   ],
   "metadata": {}
  },
  {
   "outputs": [
    {
     "output_type": "execute_result",
     "data": {
      "text/plain": "(::getfield(AIBECS, Symbol(\"#∇ₚf#84\")){Float64,Array{Float64,1},Array{Float64,1}}) (generic function with 1 method)"
     },
     "metadata": {},
     "execution_count": 31
    }
   ],
   "cell_type": "code",
   "source": [
    "v = ustrip.(vector_of_volumes(wet3D, grd))\n",
    "f   =   generate_objective(ωs, μx, σ²x, v, ωp, mean_obs(p), variance_obs(p))\n",
    "∇ₓf = generate_∇ₓobjective(ωs, μx, σ²x, v, ωp, mean_obs(p), variance_obs(p))\n",
    "∇ₚf = generate_∇ₚobjective(ωs, μx, σ²x, v, ωp, mean_obs(p), variance_obs(p))"
   ],
   "metadata": {},
   "execution_count": 31
  },
  {
   "outputs": [],
   "cell_type": "markdown",
   "source": [
    "For the optimization, we will use the F-1 algorithm from the [F1Method](https://github.com/briochemc/F1Method.jl) package."
   ],
   "metadata": {}
  },
  {
   "outputs": [],
   "cell_type": "code",
   "source": [
    "using F1Method"
   ],
   "metadata": {},
   "execution_count": 32
  },
  {
   "outputs": [],
   "cell_type": "markdown",
   "source": [
    "For the F-1 algorithm, we must initialize the memory buffer"
   ],
   "metadata": {}
  },
  {
   "outputs": [
    {
     "output_type": "execute_result",
     "data": {
      "text/plain": "F1Method.Mem([0.00204756, 0.00205742, 0.00170721, 0.00160439, 0.00146998, 0.00141334, 0.001315, 0.00144219, 0.00130645, 0.00120545  …  5.02825e-9, 4.61392e-9, 2.67254e-9, 2.86665e-9, 4.85408e-9, 5.12624e-9, 4.90604e-9, 5.49232e-9, 5.31057e-9, 5.46579e-9], nothing, [0.0 0.0 … 0.0 0.0; 0.0 0.0 … 0.0 0.0; … ; 0.0 0.0 … 0.0 0.0; 0.0 0.0 … 0.0 0.0], [0.0 0.0 … 0.0 0.0], nothing)"
     },
     "metadata": {},
     "execution_count": 33
    }
   ],
   "cell_type": "code",
   "source": [
    "mem = F1Method.initialize_mem(s, p)"
   ],
   "metadata": {},
   "execution_count": 33
  },
  {
   "outputs": [],
   "cell_type": "markdown",
   "source": [
    "We then define the objective, gradient, and Hessian using the F1Method package API"
   ],
   "metadata": {}
  },
  {
   "outputs": [
    {
     "output_type": "execute_result",
     "data": {
      "text/plain": "hessian (generic function with 1 method)"
     },
     "metadata": {},
     "execution_count": 34
    }
   ],
   "cell_type": "code",
   "source": [
    "objective(p) = F1Method.objective(f, F, ∇ₓF, mem, p, CTKAlg())\n",
    "gradient(p) = F1Method.gradient(f, F, ∇ₓf, ∇ₓF, mem, p, CTKAlg())\n",
    "hessian(p) = F1Method.hessian(f, F, ∇ₓf, ∇ₓF, mem, p, CTKAlg())"
   ],
   "metadata": {},
   "execution_count": 34
  },
  {
   "outputs": [],
   "cell_type": "markdown",
   "source": [
    "Because we want the parameters to remain positive, we define the change of variables\n",
    "The change variable from vector `λ = log(p)` to Parameters `p`:"
   ],
   "metadata": {}
  },
  {
   "outputs": [
    {
     "output_type": "execute_result",
     "data": {
      "text/plain": "λ2p (generic function with 1 method)"
     },
     "metadata": {},
     "execution_count": 35
    }
   ],
   "cell_type": "code",
   "source": [
    "λ2p(λ) = AIBECS.opt_para(exp.(λ))"
   ],
   "metadata": {},
   "execution_count": 35
  },
  {
   "outputs": [],
   "cell_type": "markdown",
   "source": [
    "and the corresponding derivatives:"
   ],
   "metadata": {}
  },
  {
   "outputs": [
    {
     "output_type": "execute_result",
     "data": {
      "text/plain": "∇²λ2p (generic function with 1 method)"
     },
     "metadata": {},
     "execution_count": 36
    }
   ],
   "cell_type": "code",
   "source": [
    "∇λ2p(λ) = exp.(λ)\n",
    "∇²λ2p(λ) = exp.(λ)"
   ],
   "metadata": {},
   "execution_count": 36
  },
  {
   "outputs": [],
   "cell_type": "markdown",
   "source": [
    "Reverse change of variables from Parameters p to vector λ"
   ],
   "metadata": {}
  },
  {
   "outputs": [
    {
     "output_type": "execute_result",
     "data": {
      "text/plain": "hess (generic function with 1 method)"
     },
     "metadata": {},
     "execution_count": 37
    }
   ],
   "cell_type": "code",
   "source": [
    "p2λ(p) = log.(optvec(p))\n",
    "λ = p2λ(p)\n",
    "\n",
    "obj(λ) = objective(λ2p(λ))\n",
    "using LinearAlgebra\n",
    "grad(λ) = gradient(λ2p(λ)) * Diagonal(∇λ2p(λ))\n",
    "function hess(λ)\n",
    "    ∇p = Diagonal(∇λ2p(λ)) # for variable change\n",
    "    ∇²p = Diagonal(∇²λ2p(λ)) # for variable change\n",
    "    G = vec(gradient(λ2p(λ)))\n",
    "    H = hessian(λ2p(λ))\n",
    "    return ∇p * H * ∇p + Diagonal(G) * ∇²p\n",
    "end"
   ],
   "metadata": {},
   "execution_count": 37
  },
  {
   "outputs": [],
   "cell_type": "markdown",
   "source": [
    "Use optim to optimize"
   ],
   "metadata": {}
  },
  {
   "outputs": [],
   "cell_type": "code",
   "source": [
    "using Optim"
   ],
   "metadata": {},
   "execution_count": 38
  },
  {
   "outputs": [],
   "cell_type": "markdown",
   "source": [
    "Add storage for use with Optim"
   ],
   "metadata": {}
  },
  {
   "outputs": [
    {
     "output_type": "execute_result",
     "data": {
      "text/plain": "hess (generic function with 2 methods)"
     },
     "metadata": {},
     "execution_count": 39
    }
   ],
   "cell_type": "code",
   "source": [
    "m = length(p)\n",
    "grad(s, λ) = s[1:m] .= vec(grad(λ))\n",
    "hess(s, λ) = s[1:m,1:m] .= hess(λ)"
   ],
   "metadata": {},
   "execution_count": 39
  },
  {
   "outputs": [],
   "cell_type": "markdown",
   "source": [
    "Set options of Optim"
   ],
   "metadata": {}
  },
  {
   "outputs": [
    {
     "output_type": "execute_result",
     "data": {
      "text/plain": "                x_abstol = 0.0\n                x_reltol = 0.0\n                f_abstol = 0.0\n                f_reltol = 0.0\n                g_abstol = 1.0e-8\n                g_reltol = 1.0e-8\n          outer_x_abstol = 0.0\n          outer_x_reltol = 0.0\n          outer_f_abstol = 0.0\n          outer_f_reltol = 0.0\n          outer_g_abstol = 1.0e-8\n          outer_g_reltol = 1.0e-8\n           f_calls_limit = 0\n           g_calls_limit = 0\n           h_calls_limit = 0\n       allow_f_increases = false\n allow_outer_f_increases = false\n        successive_f_tol = 0\n              iterations = 1000\n        outer_iterations = 1000\n             store_trace = false\n           trace_simplex = false\n              show_trace = true\n          extended_trace = false\n              show_every = 1\n                callback = nothing\n              time_limit = NaN\n"
     },
     "metadata": {},
     "execution_count": 40
    }
   ],
   "cell_type": "code",
   "source": [
    "opt = Optim.Options(store_trace = false, show_trace = true, extended_trace = false)"
   ],
   "metadata": {},
   "execution_count": 40
  },
  {
   "outputs": [],
   "cell_type": "markdown",
   "source": [
    "The starting parameters are"
   ],
   "metadata": {}
  },
  {
   "outputs": [
    {
     "output_type": "execute_result",
     "data": {
      "text/plain": "DIPgeo = 2.12e+00 [mmol m⁻³] \n  τgeo = 1.00e+00 [Myr] (fixed)\n     k = 6.62e+00 [μmol m⁻³] \n    z₀ = 8.00e+01 [m] (fixed)\n    w₀ = 6.40e-01 [m d⁻¹] \n    w′ = 1.30e-01 [d⁻¹] \n     κ = 1.90e-01 [d⁻¹] \n     τ = 2.37e+02 [d] \n"
     },
     "metadata": {},
     "execution_count": 41
    }
   ],
   "cell_type": "code",
   "source": [
    "p"
   ],
   "metadata": {},
   "execution_count": 41
  },
  {
   "outputs": [],
   "cell_type": "markdown",
   "source": [
    "Run optimization"
   ],
   "metadata": {}
  },
  {
   "outputs": [
    {
     "name": "stdout",
     "output_type": "stream",
     "text": [
      "Iter     Function value   Gradient norm \n",
      "     0     8.891144e-01     2.617999e+00\n",
      " * time: 0.003384113311767578\n",
      "     1     2.366378e-01     7.203059e-01\n",
      " * time: 77.71845412254333\n",
      "     2     6.826628e-02     5.222641e-02\n",
      " * time: 148.4319941997528\n",
      "     3     6.562008e-02     9.678785e-03\n",
      " * time: 217.32488203048706\n",
      "     4     6.531636e-02     9.022990e-04\n",
      " * time: 285.7519152164459\n",
      "     5     6.528552e-02     1.354770e-04\n",
      " * time: 353.41192412376404\n",
      "     6     6.528476e-02     3.830416e-06\n",
      " * time: 419.56561613082886\n",
      "     7     6.528476e-02     3.161850e-09\n",
      " * time: 463.1286561489105\n"
     ]
    },
    {
     "output_type": "execute_result",
     "data": {
      "text/plain": " * Status: success\n\n * Candidate solution\n    Minimizer: [-6.86e+00, -1.23e+01, -1.26e+01,  ...]\n    Minimum:   6.528476e-02\n\n * Found with\n    Algorithm:     Newton's Method (Trust Region)\n    Initial Point: [-6.16e+00, -1.19e+01, -1.18e+01,  ...]\n\n * Convergence measures\n    |x - x'|               = 6.51e-04 ≰ 0.0e+00\n    |x - x'|/|x'|          = 3.46e-05 ≰ 0.0e+00\n    |f(x) - f(x')|         = 6.01e-10 ≰ 0.0e+00\n    |f(x) - f(x')|/|f(x')| = 9.21e-09 ≰ 0.0e+00\n    |g(x)|                 = 3.16e-09 ≤ 1.0e-08\n\n * Work counters\n    Iterations:    7\n    f(x) calls:    8\n    ∇f(x) calls:   8\n    ∇²f(x) calls:  7\n"
     },
     "metadata": {},
     "execution_count": 42
    }
   ],
   "cell_type": "code",
   "source": [
    "results = optimize(obj, grad, hess, λ, NewtonTrustRegion(), opt)"
   ],
   "metadata": {},
   "execution_count": 42
  },
  {
   "outputs": [],
   "cell_type": "markdown",
   "source": [
    "Because we started from an other optimized set of parameters, this should only take a few iterations.\n",
    "The optimized parameters are"
   ],
   "metadata": {}
  },
  {
   "outputs": [
    {
     "output_type": "execute_result",
     "data": {
      "text/plain": "DIPgeo = 1.05e+00 [mmol m⁻³] \n  τgeo = 1.00e+00 [Myr] (fixed)\n     k = 4.73e+00 [μmol m⁻³] \n    z₀ = 8.00e+01 [m] (fixed)\n    w₀ = 2.84e-01 [m d⁻¹] \n    w′ = 1.36e-02 [d⁻¹] \n     κ = 1.45e+00 [d⁻¹] \n     τ = 1.72e+03 [d] \n"
     },
     "metadata": {},
     "execution_count": 43
    }
   ],
   "cell_type": "code",
   "source": [
    "p_optimized = λ2p(results.minimizer)"
   ],
   "metadata": {},
   "execution_count": 43
  },
  {
   "outputs": [],
   "cell_type": "markdown",
   "source": [
    "After optimizing these parameters, we expect the fit to be better.\n",
    "Let's have a look at the optimized steady-state solution at the same depth as earlier, and compare it to the observed DIP field.\n",
    "First, let's calculate the steady-state with the optimized parameters."
   ],
   "metadata": {}
  },
  {
   "outputs": [
    {
     "output_type": "execute_result",
     "data": {
      "text/plain": "382338-element Array{Float64,1}:\n 0.0010508373615618768\n 0.0010516017224943934\n 0.0010520126210484008\n 0.0010515822393153927\n 0.001051525290042897 \n 0.0010517598921219128\n 0.0010508262826376452\n 0.0010506460079968997\n 0.0010504486312245737\n 0.0010497566713419133\n ⋮                    \n 9.007078996152305e-36\n 8.957819699533112e-36\n 8.975081374965901e-36\n 8.972071729567476e-36\n 8.972290119892289e-36\n 8.96974417289356e-36 \n 8.986706032204937e-36\n 8.973999068798504e-36\n 8.980302932177703e-36"
     },
     "metadata": {},
     "execution_count": 44
    }
   ],
   "cell_type": "code",
   "source": [
    "prob_optimized = SteadyStateProblem(F, ∇ₓF, s, p_optimized)\n",
    "s_optimized = solve(prob_optimized, CTKAlg()).u"
   ],
   "metadata": {},
   "execution_count": 44
  },
  {
   "outputs": [],
   "cell_type": "markdown",
   "source": [
    "Like earlier, we fill in a 3D array of `NaN`s with the values we want to plot.\n",
    "Here, we fill the arrays with the fractional difference bewteen modeled and observed DIP:"
   ],
   "metadata": {}
  },
  {
   "outputs": [
    {
     "output_type": "execute_result",
     "data": {
      "text/plain": "191169-element view(::Array{Float64,3}, CartesianIndex{3}[CartesianIndex(11, 1, 1), CartesianIndex(12, 1, 1), CartesianIndex(13, 1, 1), CartesianIndex(14, 1, 1), CartesianIndex(15, 1, 1), CartesianIndex(16, 1, 1), CartesianIndex(17, 1, 1), CartesianIndex(18, 1, 1), CartesianIndex(19, 1, 1), CartesianIndex(20, 1, 1)  …  CartesianIndex(51, 166, 24), CartesianIndex(52, 166, 24), CartesianIndex(57, 166, 24), CartesianIndex(58, 166, 24), CartesianIndex(40, 167, 24), CartesianIndex(41, 167, 24), CartesianIndex(42, 167, 24), CartesianIndex(40, 168, 24), CartesianIndex(41, 168, 24), CartesianIndex(42, 168, 24)]) with eltype Float64:\n Inf\n Inf\n Inf\n Inf\n Inf\n Inf\n Inf\n Inf\n Inf\n Inf\n   ⋮\n Inf\n Inf\n Inf\n Inf\n Inf\n Inf\n Inf\n Inf\n Inf"
     },
     "metadata": {},
     "execution_count": 45
    }
   ],
   "cell_type": "code",
   "source": [
    "DIPold, _ = state_to_tracers(s, nb, 2)\n",
    "DIPnew, _ = state_to_tracers(s_optimized, nb, 2)\n",
    "δDIPold_3D = fill(NaN, size(grd))\n",
    "δDIPold_3D[iwet] .= 100(DIPold - μDIPobs) ./ μDIPobs\n",
    "δDIPnew_3D = fill(NaN, size(grd))\n",
    "δDIPnew_3D[iwet] .= 100(DIPnew - μDIPobs) ./ μDIPobs"
   ],
   "metadata": {},
   "execution_count": 45
  },
  {
   "outputs": [],
   "cell_type": "markdown",
   "source": [
    "And take a slice at depth index `iz`"
   ],
   "metadata": {}
  },
  {
   "outputs": [
    {
     "output_type": "execute_result",
     "data": {
      "text/plain": "90×180 Array{Float64,2}:\n NaN       NaN       NaN       NaN       …  NaN  NaN  NaN  NaN  NaN  NaN  NaN\n NaN       NaN       NaN       NaN          NaN  NaN  NaN  NaN  NaN  NaN  NaN\n NaN       NaN       NaN       NaN          NaN  NaN  NaN  NaN  NaN  NaN  NaN\n NaN       NaN       NaN       NaN          NaN  NaN  NaN  NaN  NaN  NaN  NaN\n NaN       NaN       NaN       NaN          NaN  NaN  NaN  NaN  NaN  NaN  NaN\n NaN       NaN       NaN       NaN       …  NaN  NaN  NaN  NaN  NaN  NaN  NaN\n NaN       NaN       NaN       NaN          NaN  NaN  NaN  NaN  NaN  NaN  NaN\n NaN       NaN       NaN       NaN          NaN  NaN  NaN  NaN  NaN  NaN  NaN\n NaN       NaN       NaN       NaN          NaN  NaN  NaN  NaN  NaN  NaN  NaN\n NaN       NaN       NaN       NaN          NaN  NaN  NaN  NaN  NaN  NaN  NaN\n   ⋮                                     ⋱              ⋮                    \n -54.736   -58.211   -59.2839  -60.8372     NaN  NaN  Inf  Inf  Inf  Inf  Inf\n -55.1628  -58.5779  -59.1883  -60.729      NaN  NaN  Inf  Inf  Inf  Inf  Inf\n -55.0002  -58.7326  -59.5044  -60.4965     NaN  NaN  NaN  NaN  NaN  Inf  Inf\n -54.936   -59.4359  -60.106   NaN          NaN  NaN  NaN  NaN  NaN  Inf  Inf\n -55.037   NaN       NaN       NaN       …  NaN  NaN  NaN  NaN  Inf  Inf  Inf\n -54.9675  -59.0235  -59.9735  -60.8995     Inf  Inf  Inf  Inf  Inf  Inf  Inf\n -54.9597  -58.2725  -59.2872  -60.3102     Inf  Inf  Inf  Inf  Inf  Inf  Inf\n -55.2033  -58.2795  -59.1171  -60.117      Inf  Inf  Inf  Inf  Inf  Inf  Inf\n NaN       NaN       NaN       NaN          NaN  NaN  NaN  NaN  NaN  NaN  NaN"
     },
     "metadata": {},
     "execution_count": 46
    }
   ],
   "cell_type": "code",
   "source": [
    "δDIPold_2D = δDIPold_3D[:,:,iz]\n",
    "δDIPnew_2D = δDIPnew_3D[:,:,iz]"
   ],
   "metadata": {},
   "execution_count": 46
  },
  {
   "outputs": [],
   "cell_type": "markdown",
   "source": [
    "We make those 2D slices cyclic along the longitude for Cartopy"
   ],
   "metadata": {}
  },
  {
   "outputs": [
    {
     "output_type": "execute_result",
     "data": {
      "text/plain": "90×181 Array{Float64,2}:\n NaN       NaN       NaN       NaN       …  NaN  NaN  NaN  NaN  NaN  NaN     \n NaN       NaN       NaN       NaN          NaN  NaN  NaN  NaN  NaN  NaN     \n NaN       NaN       NaN       NaN          NaN  NaN  NaN  NaN  NaN  NaN     \n NaN       NaN       NaN       NaN          NaN  NaN  NaN  NaN  NaN  NaN     \n NaN       NaN       NaN       NaN          NaN  NaN  NaN  NaN  NaN  NaN     \n NaN       NaN       NaN       NaN       …  NaN  NaN  NaN  NaN  NaN  NaN     \n NaN       NaN       NaN       NaN          NaN  NaN  NaN  NaN  NaN  NaN     \n NaN       NaN       NaN       NaN          NaN  NaN  NaN  NaN  NaN  NaN     \n NaN       NaN       NaN       NaN          NaN  NaN  NaN  NaN  NaN  NaN     \n NaN       NaN       NaN       NaN          NaN  NaN  NaN  NaN  NaN  NaN     \n   ⋮                                     ⋱    ⋮                        ⋮     \n -54.736   -58.211   -59.2839  -60.8372     Inf  Inf  Inf  Inf  Inf  -54.736 \n -55.1628  -58.5779  -59.1883  -60.729      Inf  Inf  Inf  Inf  Inf  -55.1628\n -55.0002  -58.7326  -59.5044  -60.4965     NaN  NaN  NaN  Inf  Inf  -55.0002\n -54.936   -59.4359  -60.106   NaN          NaN  NaN  NaN  Inf  Inf  -54.936 \n -55.037   NaN       NaN       NaN       …  NaN  NaN  Inf  Inf  Inf  -55.037 \n -54.9675  -59.0235  -59.9735  -60.8995     Inf  Inf  Inf  Inf  Inf  -54.9675\n -54.9597  -58.2725  -59.2872  -60.3102     Inf  Inf  Inf  Inf  Inf  -54.9597\n -55.2033  -58.2795  -59.1171  -60.117      Inf  Inf  Inf  Inf  Inf  -55.2033\n NaN       NaN       NaN       NaN          NaN  NaN  NaN  NaN  NaN  NaN     "
     },
     "metadata": {},
     "execution_count": 47
    }
   ],
   "cell_type": "code",
   "source": [
    "δDIPold_cyc = hcat(δDIPold_2D, δDIPold_2D[:,1])\n",
    "δDIPnew_cyc = hcat(δDIPnew_2D, δDIPnew_2D[:,1])"
   ],
   "metadata": {},
   "execution_count": 47
  },
  {
   "outputs": [],
   "cell_type": "markdown",
   "source": [
    "And we plot the mismatch of the old, OCIM1-optimized field"
   ],
   "metadata": {}
  },
  {
   "outputs": [
    {
     "output_type": "execute_result",
     "data": {
      "text/plain": "PyPlot.Figure(PyObject <Figure size 640x480 with 2 Axes>)",
      "image/png": "[encoded data removed]"
     },
     "metadata": {},
     "execution_count": 48
    }
   ],
   "cell_type": "code",
   "source": [
    "figure()\n",
    "δDIPlevels = -20:2:20\n",
    "ax = subplot(projection = ccrs.EqualEarth(central_longitude=-155.0))\n",
    "ax.add_feature(cfeature.COASTLINE, edgecolor=\"#000000\") # black coast lines\n",
    "ax.add_feature(cfeature.LAND, facecolor=\"#CCCCCC\")      # gray land\n",
    "plt2 = contourf(lon_cyc, lat, δDIPold_cyc, cmap=\"PiYG_r\", levels=δDIPlevels, transform=ccrs.PlateCarree(), zorder=-1, extend=\"both\")\n",
    "cbar2 = colorbar(plt2, orientation=\"horizontal\", extend=\"both\")\n",
    "cbar2.set_label(\"δDIP / DIP [%]\")\n",
    "title(\"old DIP mismatch at $(string(round(typeof(1u\"m\"),grd.depth[iz]))) depth using the OCIM0.1 circulation\")\n",
    "gcf()"
   ],
   "metadata": {},
   "execution_count": 48
  },
  {
   "outputs": [],
   "cell_type": "markdown",
   "source": [
    "We can see a significant negative bias in the North Atlantic.\n",
    "This is probably due to having swapped the circulation from OCIM1 to OCIM0.1.\n",
    "Let's plot the OCIM-0.1-optimized mismatch"
   ],
   "metadata": {}
  },
  {
   "outputs": [
    {
     "output_type": "execute_result",
     "data": {
      "text/plain": "PyPlot.Figure(PyObject <Figure size 640x480 with 2 Axes>)",
      "image/png": "[encoded data removed]"
     },
     "metadata": {},
     "execution_count": 49
    }
   ],
   "cell_type": "code",
   "source": [
    "figure()\n",
    "ax = subplot(projection = ccrs.EqualEarth(central_longitude=-155.0))\n",
    "ax.add_feature(cfeature.COASTLINE, edgecolor=\"#000000\") # black coast lines\n",
    "ax.add_feature(cfeature.LAND, facecolor=\"#CCCCCC\")      # gray land\n",
    "plt3 = contourf(lon_cyc, lat, δDIPnew_cyc, cmap=\"PiYG_r\", levels=δDIPlevels, transform=ccrs.PlateCarree(), zorder=-1, extend=\"both\")\n",
    "cbar3 = colorbar(plt3, orientation=\"horizontal\", extend=\"both\")\n",
    "cbar3.set_label(\"δDIP / DIP [%]\")\n",
    "title(\"new DIP mismatch at $(string(round(typeof(1u\"m\"),grd.depth[iz]))) depth using the OCIM0.1 circulation\")\n",
    "gcf()"
   ],
   "metadata": {},
   "execution_count": 49
  },
  {
   "outputs": [],
   "cell_type": "markdown",
   "source": [
    "This shows that most of the negative bias has been corrected.\n",
    "(The green patch in the North Atlantic has dissipated.)\n",
    "Of course, this optimization was \"easy\", because there were only 2 tracers, few parameters, and we started from a pretty good solution.\n",
    "However, this type of optimization can really improve the skill of models, even current \"state-of-the-art\" ones.\n",
    "Such optimizations turn average models into better tools for cutting-edge oceanography research."
   ],
   "metadata": {}
  },
  {
   "outputs": [],
   "cell_type": "markdown",
   "source": [
    "> **Note**\n",
    "> If you find any bugs or ideas you want to test and struggle with the AIBECS, don't hesitate to raise issues on the GitHub [AIBECS](https://github.com/briochemc/AIBECS.jl) repository or [contact me](www.bpasquier.com)!"
   ],
   "metadata": {}
  },
  {
   "outputs": [],
   "cell_type": "markdown",
   "source": [
    "*This notebook was generated using [Literate.jl](https://github.com/fredrikekre/Literate.jl).*"
   ],
   "metadata": {}
  }
 ],
 "nbformat_minor": 3,
 "metadata": {
  "language_info": {
   "file_extension": ".jl",
   "mimetype": "application/julia",
   "name": "julia",
   "version": "1.1.1"
  },
  "kernelspec": {
   "name": "julia-1.1",
   "display_name": "Julia 1.1.1",
   "language": "julia"
  }
 },
 "nbformat": 4
}

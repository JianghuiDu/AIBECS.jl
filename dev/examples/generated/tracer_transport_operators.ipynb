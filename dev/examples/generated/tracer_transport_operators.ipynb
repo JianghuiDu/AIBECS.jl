{
 "cells": [
  {
   "outputs": [],
   "cell_type": "markdown",
   "source": [
    "# Tracer Transport Operators"
   ],
   "metadata": {}
  },
  {
   "outputs": [],
   "cell_type": "markdown",
   "source": [
    "To model marine biogeochemical processes on a global scale we need to be able to account for the movement of chemical constituents both horizontally and vertically.\n",
    "We do this with a **tracer transport operator**.\n",
    "When this operator acts on a tracer field it produces the advective-diffusive divergence of the tracer."
   ],
   "metadata": {}
  },
  {
   "outputs": [],
   "cell_type": "markdown",
   "source": [
    "## Discretization"
   ],
   "metadata": {}
  },
  {
   "outputs": [],
   "cell_type": "markdown",
   "source": [
    "In order to represent the transport operator on a computer one needs to discretize the tracer concentration field and the operator.\n",
    "Once discretized the tracer field is represented as a vector and the operator is represented as a sparse matrix."
   ],
   "metadata": {}
  },
  {
   "outputs": [],
   "cell_type": "markdown",
   "source": [
    "> **Note**\n",
    "> A sparse matrix behaves the same way as a regular matrix.\n",
    "> The only difference is that in a sparse matrix the majority of the entries are zeros.\n",
    "> These zeros are not stored explicitly to save computer memory making it possible to deal with fairly high resolution ocean models."
   ],
   "metadata": {}
  },
  {
   "outputs": [],
   "cell_type": "markdown",
   "source": [
    "Mathematically, the discretization converts an expression with partial derivatives into a matrix vector product.\n",
    "For the ocean circulation, we do the following conversion\n",
    "\n",
    "$$\\nabla \\cdot \\left[ \\boldsymbol{u} - \\mathbf{K} \\cdot \\nabla \\right] C \\longrightarrow \\mathbf{T} \\, \\boldsymbol{C}$$\n",
    "\n",
    "where $C(\\boldsymbol{r})$ is a tracer concentration at location $\\boldsymbol{r}$.\n",
    "(We often omit the $\\boldsymbol{r}$ dependency in equations for brevity.)\n",
    "The $\\nabla \\cdot \\left[ \\boldsymbol{u} - \\mathbf{K} \\cdot \\nabla \\right] C$ term is the flux divergence of the tracer due to the marine currents and turbulent eddies.\n",
    "($\\boldsymbol{u}$ is the 3D current velocity and $\\mathbf{K}$ the diffusivity matrix.)\n",
    "The matrix $\\mathbf{T}$ is the flux divergence transport matrix and $\\boldsymbol{C}$ is the tracer concentration vector.\n",
    "\n",
    "One can go a long way towards understanding what a tracer transport operator is by playing with a simple model with only a few boxes, which is the goal of this example."
   ],
   "metadata": {}
  },
  {
   "outputs": [],
   "cell_type": "markdown",
   "source": [
    "The simple box model we consider is embeded in a 2×2×2 \"shoebox\".\n",
    "It has 5 *wet* boxes and 3 *dry* boxes, as illustrated below:"
   ],
   "metadata": {}
  },
  {
   "outputs": [],
   "cell_type": "markdown",
   "source": [
    "<img src=\"https://user-images.githubusercontent.com/4486578/58314610-3b130b80-7e53-11e9-9fe8-9527cdcca2d0.png\" width =800>"
   ],
   "metadata": {}
  },
  {
   "outputs": [],
   "cell_type": "markdown",
   "source": [
    "The circulation consists of\n",
    "- a meridional overturning circulation flowing in a cycle through boxes 1 → 2 → 6 → 5 → 1 (shown in the \"meridional section 1\" panel above)\n",
    "- a zonal current in a reentrant cycling through boxes 1 → 3 → 1 (shown in the \"layer 1\" panel above)\n",
    "- vertical mixing representing deep convection between boxes 2 ↔ 6 (not shown)"
   ],
   "metadata": {}
  },
  {
   "outputs": [],
   "cell_type": "markdown",
   "source": [
    "## The model grid and the transport matrix"
   ],
   "metadata": {}
  },
  {
   "outputs": [],
   "cell_type": "markdown",
   "source": [
    "Like for any models using AIBECS, we start by telling Julia just that:"
   ],
   "metadata": {}
  },
  {
   "outputs": [],
   "cell_type": "code",
   "source": [
    "using AIBECS"
   ],
   "metadata": {},
   "execution_count": 1
  },
  {
   "outputs": [],
   "cell_type": "markdown",
   "source": [
    "We then load the shoebox model via"
   ],
   "metadata": {}
  },
  {
   "outputs": [
    {
     "name": "stdout",
     "output_type": "stream",
     "text": [
      "Creating François Primeau's 2x2x2 model ✔\n"
     ]
    }
   ],
   "cell_type": "code",
   "source": [
    "wet3D, grd, T = Primeau_2x2x2.load() ;"
   ],
   "metadata": {},
   "execution_count": 2
  },
  {
   "outputs": [],
   "cell_type": "markdown",
   "source": [
    "where we have loaded 3 objects, `wet3D`, `grd`, and `T`."
   ],
   "metadata": {}
  },
  {
   "outputs": [],
   "cell_type": "markdown",
   "source": [
    "`wet3D` is 3D array representing the 3D ocean with `true` for \"wet\" boxes and `false` for \"dry\" boxes.\n",
    "Let's have a look at its contents:"
   ],
   "metadata": {}
  },
  {
   "outputs": [
    {
     "output_type": "execute_result",
     "data": {
      "text/plain": "2×2×2 BitArray{3}:\n[:, :, 1] =\n true   true\n true  false\n\n[:, :, 2] =\n true  false\n true  false"
     },
     "metadata": {},
     "execution_count": 3
    }
   ],
   "cell_type": "code",
   "source": [
    "wet3D"
   ],
   "metadata": {},
   "execution_count": 3
  },
  {
   "outputs": [],
   "cell_type": "markdown",
   "source": [
    "It's a 2×2×2 `BitArray`, i.e., an array of bit elements (the `true` and `false` entries).\n",
    "You can check that it matches our \"shoebox\" model.\n",
    "(Well, except for the orientation, for which northwards in the box model is downwards in the array.)"
   ],
   "metadata": {}
  },
  {
   "outputs": [],
   "cell_type": "markdown",
   "source": [
    "We can find all the wet boxes simply via"
   ],
   "metadata": {}
  },
  {
   "outputs": [
    {
     "output_type": "execute_result",
     "data": {
      "text/plain": "5-element Array{CartesianIndex{3},1}:\n CartesianIndex(1, 1, 1)\n CartesianIndex(2, 1, 1)\n CartesianIndex(1, 2, 1)\n CartesianIndex(1, 1, 2)\n CartesianIndex(2, 1, 2)"
     },
     "metadata": {},
     "execution_count": 4
    }
   ],
   "cell_type": "code",
   "source": [
    "findall(wet3D)"
   ],
   "metadata": {},
   "execution_count": 4
  },
  {
   "outputs": [],
   "cell_type": "markdown",
   "source": [
    "These are the 3D indices of the wet boxes, `(i,j,k)`, called the \"cartesian\" indices.\n",
    "If you want the \"linear\" indices, i.e., the numbers as shown in the image of the shoebox model, you can simply transform `wet3D` into a vector, via"
   ],
   "metadata": {}
  },
  {
   "outputs": [
    {
     "output_type": "execute_result",
     "data": {
      "text/plain": "5-element Array{Int64,1}:\n 1\n 2\n 3\n 5\n 6"
     },
     "metadata": {},
     "execution_count": 5
    }
   ],
   "cell_type": "code",
   "source": [
    "iwet = findall(vec(wet3D))"
   ],
   "metadata": {},
   "execution_count": 5
  },
  {
   "outputs": [],
   "cell_type": "markdown",
   "source": [
    "We can also check that we indeed have the expected number of wet boxes via"
   ],
   "metadata": {}
  },
  {
   "outputs": [
    {
     "output_type": "execute_result",
     "data": {
      "text/plain": "5"
     },
     "metadata": {},
     "execution_count": 6
    }
   ],
   "cell_type": "code",
   "source": [
    "nb = length(iwet)"
   ],
   "metadata": {},
   "execution_count": 6
  },
  {
   "outputs": [],
   "cell_type": "markdown",
   "source": [
    "Now let's look at the grid, `grd`:"
   ],
   "metadata": {}
  },
  {
   "outputs": [
    {
     "output_type": "execute_result",
     "data": {
      "text/plain": ""
     },
     "metadata": {},
     "execution_count": 7
    }
   ],
   "cell_type": "code",
   "source": [
    "grd"
   ],
   "metadata": {},
   "execution_count": 7
  },
  {
   "outputs": [],
   "cell_type": "markdown",
   "source": [
    "It's an `OceanGrid` object, of size 2×2×2, as expected.\n",
    "This object is defined in the [OceanGrids](https://github.com/briochemc/OceanGrids.jl) package, on which AIBECS depends.\n",
    "There are many ways to look inside the grid, one of which is to iterate over it:"
   ],
   "metadata": {}
  },
  {
   "outputs": [
    {
     "name": "stdout",
     "output_type": "stream",
     "text": [
      "OceanGridBox at CartesianIndex(1, 1, 1):\n",
      "  location: -45.0°N, 90.0°E\n",
      "  depth: 100.0 m\n",
      "  size: 80060.3 km × 1592.8 km × 200.0 m (δx × δy × δz)\n",
      "\n",
      "OceanGridBox at CartesianIndex(2, 1, 1):\n",
      "  location: 45.0°N, 90.0°E\n",
      "  depth: 100.0 m\n",
      "  size: 80060.3 km × 1592.8 km × 200.0 m (δx × δy × δz)\n",
      "\n",
      "OceanGridBox at CartesianIndex(1, 2, 1):\n",
      "  location: -45.0°N, 270.0°E\n",
      "  depth: 100.0 m\n",
      "  size: 80060.3 km × 1592.8 km × 200.0 m (δx × δy × δz)\n",
      "\n",
      "OceanGridBox at CartesianIndex(2, 2, 1):\n",
      "  location: 45.0°N, 270.0°E\n",
      "  depth: 100.0 m\n",
      "  size: 80060.3 km × 1592.8 km × 200.0 m (δx × δy × δz)\n",
      "\n",
      "OceanGridBox at CartesianIndex(1, 1, 2):\n",
      "  location: -45.0°N, 90.0°E\n",
      "  depth: 1950.0 m\n",
      "  size: 80060.3 km × 1592.8 km × 3500.0 m (δx × δy × δz)\n",
      "\n",
      "OceanGridBox at CartesianIndex(2, 1, 2):\n",
      "  location: 45.0°N, 90.0°E\n",
      "  depth: 1950.0 m\n",
      "  size: 80060.3 km × 1592.8 km × 3500.0 m (δx × δy × δz)\n",
      "\n",
      "OceanGridBox at CartesianIndex(1, 2, 2):\n",
      "  location: -45.0°N, 270.0°E\n",
      "  depth: 1950.0 m\n",
      "  size: 80060.3 km × 1592.8 km × 3500.0 m (δx × δy × δz)\n",
      "\n",
      "OceanGridBox at CartesianIndex(2, 2, 2):\n",
      "  location: 45.0°N, 270.0°E\n",
      "  depth: 1950.0 m\n",
      "  size: 80060.3 km × 1592.8 km × 3500.0 m (δx × δy × δz)\n",
      "\n"
     ]
    }
   ],
   "cell_type": "code",
   "source": [
    "[println(box) for box in grd] ;"
   ],
   "metadata": {},
   "execution_count": 8
  },
  {
   "outputs": [],
   "cell_type": "markdown",
   "source": [
    "shows some details about all the boxes of the model, one at a time.\n",
    "The `grd` object also contains other information about the grid, like the 3D depths of the boxes:"
   ],
   "metadata": {}
  },
  {
   "outputs": [
    {
     "output_type": "execute_result",
     "data": {
      "text/plain": "2×2×2 Array{Quantity{Float64,𝐋,Unitful.FreeUnits{(m,),𝐋,nothing}},3}:\n[:, :, 1] =\n 100.0 m  100.0 m\n 100.0 m  100.0 m\n\n[:, :, 2] =\n 1950.0 m  1950.0 m\n 1950.0 m  1950.0 m"
     },
     "metadata": {},
     "execution_count": 9
    }
   ],
   "cell_type": "code",
   "source": [
    "grd.depth_3D"
   ],
   "metadata": {},
   "execution_count": 9
  },
  {
   "outputs": [],
   "cell_type": "markdown",
   "source": [
    "or the 3D latitudes:"
   ],
   "metadata": {}
  },
  {
   "outputs": [
    {
     "output_type": "execute_result",
     "data": {
      "text/plain": "2×2×2 Array{Quantity{Float64,NoDims,Unitful.FreeUnits{(°,),NoDims,nothing}},3}:\n[:, :, 1] =\n -45.0°  -45.0°\n  45.0°   45.0°\n\n[:, :, 2] =\n -45.0°  -45.0°\n  45.0°   45.0°"
     },
     "metadata": {},
     "execution_count": 10
    }
   ],
   "cell_type": "code",
   "source": [
    "grd.lat_3D"
   ],
   "metadata": {},
   "execution_count": 10
  },
  {
   "outputs": [],
   "cell_type": "markdown",
   "source": [
    "where you can check that northwards = downwards in the array.\n",
    "You may notice these come with units!\n",
    "This helps ensure that degrees of latitude are not confused with meters for example."
   ],
   "metadata": {}
  },
  {
   "outputs": [],
   "cell_type": "markdown",
   "source": [
    "> **Note**\n",
    "> Julia comes with [Unitful](https://github.com/PainterQubits/Unitful.jl), a package for using units, which AIBECS uses."
   ],
   "metadata": {}
  },
  {
   "outputs": [],
   "cell_type": "markdown",
   "source": [
    "Finally, let's have a look at the transport matrix `T`, which represents $\\nabla \\cdot \\left[ \\boldsymbol{u} - \\mathbf{K} \\cdot \\nabla \\right]$, i.e., the flux divergence operator for dissolved tracers:"
   ],
   "metadata": {}
  },
  {
   "outputs": [
    {
     "output_type": "execute_result",
     "data": {
      "text/plain": "5×5 SparseMatrixCSC{Float64,Int64} with 12 stored entries:\n  [1, 1]  =  4.50923e-9\n  [2, 1]  =  -5.88161e-10\n  [3, 1]  =  -3.92107e-9\n  [2, 2]  =  9.80268e-10\n  [5, 2]  =  -5.60153e-11\n  [1, 3]  =  -3.92107e-9\n  [3, 3]  =  3.92107e-9\n  [1, 4]  =  -5.88161e-10\n  [4, 4]  =  3.36092e-11\n  [2, 5]  =  -3.92107e-10\n  [4, 5]  =  -3.36092e-11\n  [5, 5]  =  5.60153e-11"
     },
     "metadata": {},
     "execution_count": 11
    }
   ],
   "cell_type": "code",
   "source": [
    "T"
   ],
   "metadata": {},
   "execution_count": 11
  },
  {
   "outputs": [],
   "cell_type": "markdown",
   "source": [
    "It's a sparse matrix (a `SparseMatrixCSC` object in Julia), which only stores those entries that are not zero.\n",
    "We can display the full matrix via"
   ],
   "metadata": {}
  },
  {
   "outputs": [
    {
     "output_type": "execute_result",
     "data": {
      "text/plain": "5×5 Array{Float64,2}:\n  4.50923e-9    0.0          -3.92107e-9  -5.88161e-10   0.0        \n -5.88161e-10   9.80268e-10   0.0          0.0          -3.92107e-10\n -3.92107e-9    0.0           3.92107e-9   0.0           0.0        \n  0.0           0.0           0.0          3.36092e-11  -3.36092e-11\n  0.0          -5.60153e-11   0.0          0.0           5.60153e-11"
     },
     "metadata": {},
     "execution_count": 12
    }
   ],
   "cell_type": "code",
   "source": [
    "Matrix(T)"
   ],
   "metadata": {},
   "execution_count": 12
  },
  {
   "outputs": [],
   "cell_type": "markdown",
   "source": [
    "to check its structure out.\n",
    "Note that all the diagonal terms are positive, which is the sign that the transport matrix acts as a divergence, which would be positive for a box containing all the tracer.\n",
    "For example, if there was only some tracer in box 2, then that tracer should \"diverge\" away from that box, resulting in the positiva value in that box:"
   ],
   "metadata": {}
  },
  {
   "outputs": [
    {
     "output_type": "execute_result",
     "data": {
      "text/plain": "([0.0, 1.0, 0.0, 0.0, 0.0], 9.802682357543846e-10)"
     },
     "metadata": {},
     "execution_count": 13
    }
   ],
   "cell_type": "code",
   "source": [
    "j = 2                            # index where we put some tracer\n",
    "x = 1.0 * [i == j for i in 1:nb] # vector of 0's except for index j\n",
    "x, (T * x)[j]"
   ],
   "metadata": {},
   "execution_count": 13
  },
  {
   "outputs": [],
   "cell_type": "markdown",
   "source": [
    "shows that the flux divergence `T * x` is positive where we injected the tracer."
   ],
   "metadata": {}
  },
  {
   "outputs": [],
   "cell_type": "markdown",
   "source": [
    "## Radiocarbon"
   ],
   "metadata": {}
  },
  {
   "outputs": [],
   "cell_type": "markdown",
   "source": [
    "Radiocarbon, ¹⁴C, is produced by cosmic rays in the lower stratosphere and upper troposphere.\n",
    "It quickly reacts with oxygen to produce ¹⁴CO₂, which is then mixed throughout the troposphere and enters the ocean through air–sea gas exchange.\n",
    "Because the halflife of radiocarbon is only 5730 years a significant amount of decay can occur before the dissolved inorganic radiocarbon (DI¹⁴C) can mix uniformally throughout the ocean.\n",
    "As such the ¹⁴C serves as a tracer label for water that was recently in contact with the atmosphere."
   ],
   "metadata": {}
  },
  {
   "outputs": [],
   "cell_type": "markdown",
   "source": [
    "### Tracer Equation"
   ],
   "metadata": {}
  },
  {
   "outputs": [],
   "cell_type": "markdown",
   "source": [
    "Mathematically, the ¹⁴C tracer concentration, denoted $R$ (for Radiocarbon), satisfies the following tracer equation:\n",
    "\n",
    "$$\\frac{\\partial R}{\\partial t} + \\nabla \\cdot \\left[ \\boldsymbol{u} - \\mathbf{K} \\cdot \\nabla \\right] R = \\Lambda(R_\\mathsf{atm} - R) - R / \\tau,$$\n",
    "\n",
    "where $\\Lambda(R_\\mathsf{atm} - R)$ represents the air–sea exchanges and $R / \\tau$ the radioactive decay rate.\n",
    "($\\tau$ is the radioactive decay timescale.)"
   ],
   "metadata": {}
  },
  {
   "outputs": [],
   "cell_type": "markdown",
   "source": [
    "The discretized tracer is thus given by\n",
    "\n",
    "$$\\frac{\\partial \\boldsymbol{R}}{\\partial t} + \\mathbf{T} \\, \\boldsymbol{R} = \\mathbf{\\Lambda}(R_\\mathsf{atm} - \\boldsymbol{R}) - \\boldsymbol{R} / \\tau.$$"
   ],
   "metadata": {}
  },
  {
   "outputs": [],
   "cell_type": "markdown",
   "source": [
    "### Translation to AIBECS Code"
   ],
   "metadata": {}
  },
  {
   "outputs": [],
   "cell_type": "markdown",
   "source": [
    "We will perform an idealized radiocarbon simulation in our model and use the ocean circulation defined earlier using AIBECS.\n",
    "In this model we prescribe the atmospheric concentration, $R_\\mathsf{atm}$, to be simply equal to 1.\n",
    "(We do not specify its unit or its specific value because it is not important for determining the age of a water parcel — only the decay rate does.)"
   ],
   "metadata": {}
  },
  {
   "outputs": [],
   "cell_type": "markdown",
   "source": [
    "To use AIBECS, one must put the equations into the generic form of\n",
    "\n",
    "$$\\frac{\\partial \\boldsymbol{x}}{\\partial t} + \\mathbf{T}(\\boldsymbol{p}) \\, \\boldsymbol{x} = \\boldsymbol{G}(\\boldsymbol{x}, \\boldsymbol{p}),$$\n",
    "\n",
    "where $\\boldsymbol{x}$ is the state vector, $\\boldsymbol{p}$ is the vector of model parameters, $\\mathbf{T}(\\boldsymbol{p})$ is the transport operator, and $\\boldsymbol{G}(\\boldsymbol{x}, \\boldsymbol{p})$ is the local sources minus sinks."
   ],
   "metadata": {}
  },
  {
   "outputs": [],
   "cell_type": "markdown",
   "source": [
    "In our radiocarbon-model context, with $\\boldsymbol{x} = \\boldsymbol{R}$, we have that\n",
    "\n",
    "$$\\boldsymbol{G}(\\boldsymbol{x}, \\boldsymbol{p}) = \\mathbf{\\Lambda}(R_\\mathsf{atm} - \\boldsymbol{x}) - \\boldsymbol{x} / \\tau.$$\n",
    "\n",
    "Hence, we must create `T(p)` and `G(x,p)` to give AIBECS the means to simulate the tracer distribution and/or its evolution in time."
   ],
   "metadata": {}
  },
  {
   "outputs": [],
   "cell_type": "markdown",
   "source": [
    "#### Sources and Sinks"
   ],
   "metadata": {}
  },
  {
   "outputs": [],
   "cell_type": "markdown",
   "source": [
    "The local sources and sinks are thus simply given by"
   ],
   "metadata": {}
  },
  {
   "outputs": [
    {
     "output_type": "execute_result",
     "data": {
      "text/plain": "G (generic function with 1 method)"
     },
     "metadata": {},
     "execution_count": 14
    }
   ],
   "cell_type": "code",
   "source": [
    "function G(x, p)\n",
    "    τ, Ratm = p.τ, p.Ratm\n",
    "    return Λ(Ratm .- x, p) - x / τ\n",
    "end"
   ],
   "metadata": {},
   "execution_count": 14
  },
  {
   "outputs": [],
   "cell_type": "markdown",
   "source": [
    "where `τ` is the decay rate timescale and `Ratm` is the atmospheric concentration of radiocarbon."
   ],
   "metadata": {}
  },
  {
   "outputs": [],
   "cell_type": "markdown",
   "source": [
    "We must define the air–sea exchange rate, `Λ(x,p)`, which requires us to define which boxes are located at the surface first.\n",
    "This is done, e.g., via"
   ],
   "metadata": {}
  },
  {
   "outputs": [
    {
     "output_type": "execute_result",
     "data": {
      "text/plain": "5-element BitArray{1}:\n  true\n  true\n  true\n false\n false"
     },
     "metadata": {},
     "execution_count": 15
    }
   ],
   "cell_type": "code",
   "source": [
    "surface_boxes = grd.depth_3D[iwet] .== grd.depth[1]"
   ],
   "metadata": {},
   "execution_count": 15
  },
  {
   "outputs": [],
   "cell_type": "markdown",
   "source": [
    "The air–sea exchange rate is then given by"
   ],
   "metadata": {}
  },
  {
   "outputs": [
    {
     "output_type": "execute_result",
     "data": {
      "text/plain": "Λ (generic function with 1 method)"
     },
     "metadata": {},
     "execution_count": 16
    }
   ],
   "cell_type": "code",
   "source": [
    "function Λ(x, p)\n",
    "    λ, h = p.λ, p.h\n",
    "    return λ / h * surface_boxes .* x\n",
    "end"
   ],
   "metadata": {},
   "execution_count": 16
  },
  {
   "outputs": [],
   "cell_type": "markdown",
   "source": [
    "where `λ` is the piston velocity and `h` is the height of the top layer of the model grid."
   ],
   "metadata": {}
  },
  {
   "outputs": [],
   "cell_type": "markdown",
   "source": [
    "#### Parameters"
   ],
   "metadata": {}
  },
  {
   "outputs": [],
   "cell_type": "markdown",
   "source": [
    "For the air–sea gas exchange, we use a constant piston velocity $\\lambda$ of 50m / 10years, which will happen in the top layer, of height given by, well, the height of the top layer.\n",
    "And for the radioactive decay we use a timescale $\\tau$ of 5730/log(2) years.\n",
    "We define these as parameters using the dedicated API from the AIBECS:"
   ],
   "metadata": {}
  },
  {
   "outputs": [
    {
     "output_type": "execute_result",
     "data": {
      "text/plain": "4×9 DataFrames.DataFrame. Omitted printing of 3 columns\n│ Row │ symbol │ value      │ unit     │ printunit │ mean_obs │ variance_obs │\n│     │ \u001b[90mSymbol\u001b[39m │ \u001b[90mFloat64\u001b[39m    │ \u001b[90mUnitful…\u001b[39m │ \u001b[90mUnitful…\u001b[39m  │ \u001b[90mFloat64\u001b[39m  │ \u001b[90mFloat64\u001b[39m      │\n├─────┼────────┼────────────┼──────────┼───────────┼──────────┼──────────────┤\n│ 1   │ τ      │ 2.60875e11 │ s        │ yr        │ NaN      │ NaN          │\n│ 2   │ λ      │ 1.5844e-7  │ m s^-1   │ m yr^-1   │ NaN      │ NaN          │\n│ 3   │ h      │ 200.0      │ m        │ m         │ NaN      │ NaN          │\n│ 4   │ Ratm   │ 1.0        │ mol m^-3 │ mol m^-3  │ NaN      │ NaN          │",
      "text/html": [
       "<table class=\"data-frame\"><thead><tr><th></th><th>symbol</th><th>value</th><th>unit</th><th>printunit</th><th>mean_obs</th><th>variance_obs</th><th>optimizable</th><th>description</th></tr><tr><th></th><th>Symbol</th><th>Float64</th><th>Unitful…</th><th>Unitful…</th><th>Float64</th><th>Float64</th><th>Bool</th><th>String</th></tr></thead><tbody><p>4 rows × 9 columns (omitted printing of 1 columns)</p><tr><th>1</th><td>τ</td><td>2.60875e11</td><td>s</td><td>yr</td><td>NaN</td><td>NaN</td><td>false</td><td></td></tr><tr><th>2</th><td>λ</td><td>1.5844e-7</td><td>m s^-1</td><td>m yr^-1</td><td>NaN</td><td>NaN</td><td>false</td><td></td></tr><tr><th>3</th><td>h</td><td>200.0</td><td>m</td><td>m</td><td>NaN</td><td>NaN</td><td>false</td><td></td></tr><tr><th>4</th><td>Ratm</td><td>1.0</td><td>mol m^-3</td><td>mol m^-3</td><td>NaN</td><td>NaN</td><td>false</td><td></td></tr></tbody></table>"
      ]
     },
     "metadata": {},
     "execution_count": 17
    }
   ],
   "cell_type": "code",
   "source": [
    "t = empty_parameter_table()                   # initialize an empty table of parameters\n",
    "add_parameter!(t, :τ, 5730u\"yr\"/log(2)) # radioactive decay e-folding timescale\n",
    "add_parameter!(t, :λ, 50u\"m\" / 10u\"yr\") # piston velocity\n",
    "add_parameter!(t, :h, grd.δdepth[1])    # height of top layer\n",
    "add_parameter!(t, :Ratm, 1.0u\"mol/m^3\") # atmospheric concentration\n",
    "t"
   ],
   "metadata": {},
   "execution_count": 17
  },
  {
   "outputs": [],
   "cell_type": "markdown",
   "source": [
    "shows the parameters that you just created."
   ],
   "metadata": {}
  },
  {
   "outputs": [],
   "cell_type": "markdown",
   "source": [
    "We now generate a new object to contain all these parameters via"
   ],
   "metadata": {}
  },
  {
   "outputs": [
    {
     "output_type": "execute_result",
     "data": {
      "text/plain": "     τ = 8.27e+03 [yr] (fixed)\n     λ = 5.00e+00 [m yr⁻¹] (fixed)\n     h = 2.00e+02 [m] (fixed)\n  Ratm = 1.00e+00 [mol m⁻³] (fixed)\n"
     },
     "metadata": {},
     "execution_count": 18
    }
   ],
   "cell_type": "code",
   "source": [
    "initialize_Parameters_type(t, \"C14_shoebox_parameters\") # creates the type for parameters\n",
    "p = C14_shoebox_parameters()                            # creates the parameters object"
   ],
   "metadata": {},
   "execution_count": 18
  },
  {
   "outputs": [],
   "cell_type": "markdown",
   "source": [
    "#### Generate the state function and its Jacobian"
   ],
   "metadata": {}
  },
  {
   "outputs": [],
   "cell_type": "markdown",
   "source": [
    "The last step for the setup is for AIBECS to create $\\boldsymbol{F}(\\boldsymbol{x}, \\boldsymbol{p}) = \\boldsymbol{G}(\\boldsymbol{x}, \\boldsymbol{p}) - \\mathbf{T}(\\boldsymbol{p}) \\, \\boldsymbol{x}$, which defines the rate of change of the state, $\\boldsymbol{x}$.\n",
    "This is done via"
   ],
   "metadata": {}
  },
  {
   "outputs": [
    {
     "output_type": "execute_result",
     "data": {
      "text/plain": "5-element Array{Float64,1}:\n 7.922021953507237e-10\n 7.922021953507237e-10\n 7.922021953507237e-10\n 0.0                  \n 0.0                  "
     },
     "metadata": {},
     "execution_count": 19
    }
   ],
   "cell_type": "code",
   "source": [
    "F, ∇ₓF = state_function_and_Jacobian(p -> T, G) # generates the state function (and its Jacobian!)\n",
    "x = zeros(nb)\n",
    "F(x,p)"
   ],
   "metadata": {},
   "execution_count": 19
  },
  {
   "outputs": [],
   "cell_type": "markdown",
   "source": [
    "Note here that AIBECS has automatically created `∇ₓF`, i.e., $\\nabla_{\\boldsymbol{x}}\\boldsymbol{F}(\\boldsymbol{x}, \\boldsymbol{p})$, which is the Jacobian of the system.\n",
    "This Jacobian will be useful in the simulations below."
   ],
   "metadata": {}
  },
  {
   "outputs": [],
   "cell_type": "markdown",
   "source": [
    "That's it!\n",
    "Your model is entirely setup and ready to be used for simulations!"
   ],
   "metadata": {}
  },
  {
   "outputs": [],
   "cell_type": "markdown",
   "source": [
    "## Time stepping"
   ],
   "metadata": {}
  },
  {
   "outputs": [],
   "cell_type": "markdown",
   "source": [
    "One way to see how the tracer evolves with time is to time step it.\n",
    "Here we will use the [Crank-Nicolson](https://en.wikipedia.org/wiki/Crank%E2%80%93Nicolson_method) scheme embedded in AIBECS.\n",
    "\n",
    "A single step is performed via, e.g.,"
   ],
   "metadata": {}
  },
  {
   "outputs": [
    {
     "output_type": "execute_result",
     "data": {
      "text/plain": "5-element Array{Float64,1}:\n 0.02447775136179113  \n 0.024539507345393705 \n 0.02467766775539921  \n 1.1484507194106499e-8\n 2.166889498858711e-5 "
     },
     "metadata": {},
     "execution_count": 20
    }
   ],
   "cell_type": "code",
   "source": [
    "δt = ustrip(1.0u\"yr\" |> u\"s\")\n",
    "AIBECS.crank_nicolson_step(x, p, δt, F, ∇ₓF)"
   ],
   "metadata": {},
   "execution_count": 20
  },
  {
   "outputs": [],
   "cell_type": "markdown",
   "source": [
    "We can write a function to run all the time steps and save them into a `x_hist` object, via"
   ],
   "metadata": {}
  },
  {
   "outputs": [
    {
     "output_type": "execute_result",
     "data": {
      "text/plain": "time_steps (generic function with 1 method)"
     },
     "metadata": {},
     "execution_count": 21
    }
   ],
   "cell_type": "code",
   "source": [
    "function time_steps(x₀, Δt, n, F, ∇ₓF)\n",
    "    x_hist = [x₀]\n",
    "    δt = Δt / n\n",
    "    for i in 1:n\n",
    "        push!(x_hist, AIBECS.crank_nicolson_step(last(x_hist), p, δt, F, ∇ₓF))\n",
    "    end\n",
    "    return reduce(hcat, x_hist), 0:δt:Δt\n",
    "end"
   ],
   "metadata": {},
   "execution_count": 21
  },
  {
   "outputs": [],
   "cell_type": "markdown",
   "source": [
    "> **Note**\n",
    "> We store all the history of `x` in `x_hist`.\n",
    "> At each step, the `push!` function adds a new `x` to `x_hist`.\n",
    "> Technically, `x_hist` is a vector of vectors, so at the end, we horizontally concatenate it via `reduce(hcat, x_hist)` to rearrange it into a 2D array."
   ],
   "metadata": {}
  },
  {
   "outputs": [],
   "cell_type": "markdown",
   "source": [
    "Now let's simulate the evolution of radiocarbon for 7500 years, starting from a concentration of 1 everywhere, via"
   ],
   "metadata": {}
  },
  {
   "outputs": [
    {
     "output_type": "execute_result",
     "data": {
      "text/plain": "([1.0 0.999167 … 0.93966 0.939659; 1.0 0.999168 … 0.954292 0.954291; … ; 1.0 0.999093 … 0.802035 0.802033; 1.0 0.999094 … 0.893217 0.893217], 0.0:2.36682e8:2.36682e11)"
     },
     "metadata": {},
     "execution_count": 22
    }
   ],
   "cell_type": "code",
   "source": [
    "Δt = ustrip(7500u\"yr\" |> u\"s\") # 7500 years in seconds\n",
    "x₀ = ones(5)             #\n",
    "x_hist, t_hist = time_steps(x₀, Δt, 1000, F, ∇ₓF) # runs the simulation"
   ],
   "metadata": {},
   "execution_count": 22
  },
  {
   "outputs": [],
   "cell_type": "markdown",
   "source": [
    "This should take a few seconds to run."
   ],
   "metadata": {}
  },
  {
   "outputs": [],
   "cell_type": "markdown",
   "source": [
    "> **Note**\n",
    "> AIBECS also has other time-stepping methods available, including Euler-froward (fast but unstable), Euler-backwards (like Crank-Nicolson, slow but stable), and Crank-Nicolson-Leapfrog (Fast-ish and more stable than Euler forward)."
   ],
   "metadata": {}
  },
  {
   "outputs": [],
   "cell_type": "markdown",
   "source": [
    "Once it's done, we can plot the evolution of radiocarbon through time via"
   ],
   "metadata": {}
  },
  {
   "outputs": [
    {
     "output_type": "execute_result",
     "data": {
      "text/plain": "PyPlot.Figure(PyObject <Figure size 640x480 with 1 Axes>)",
      "image/png": "[encoded data removed]"
     },
     "metadata": {},
     "execution_count": 23
    }
   ],
   "cell_type": "code",
   "source": [
    "using PyPlot\n",
    "clf()\n",
    "C14age_hist = -log.(x_hist) * ustrip(p.τ * u\"s\" |> u\"yr\")\n",
    "plot(t_hist * ustrip(1u\"s\" |> u\"yr\"), C14age_hist')\n",
    "xlabel(\"simulation time (years)\")\n",
    "ylabel(\"¹⁴C age (years)\")\n",
    "legend(\"box \" .* string.(iwet))\n",
    "title(\"Simulation of the evolution of ¹⁴C age with Crank-Nicolson time steps\")\n",
    "gcf()"
   ],
   "metadata": {},
   "execution_count": 23
  },
  {
   "outputs": [],
   "cell_type": "markdown",
   "source": [
    "The box model took more than 4000 years to spin up to equilibrium.\n",
    "For a box model that's no big deal because it is not computationally expensive to run the model, but for a big circulation model waiting for the model to spinup is painfully long.\n",
    "We therefore want a better way to find the equilibrium solution."
   ],
   "metadata": {}
  },
  {
   "outputs": [],
   "cell_type": "markdown",
   "source": [
    "## Solving Directly for the Steady State"
   ],
   "metadata": {}
  },
  {
   "outputs": [],
   "cell_type": "markdown",
   "source": [
    "With the AIBECS, you can create the steady state problem and solve it in just 2 commands:"
   ],
   "metadata": {}
  },
  {
   "outputs": [
    {
     "output_type": "execute_result",
     "data": {
      "text/plain": "5-element Array{Float64,1}:\n 0.9395557449765636\n 0.9542341322419018\n 0.9489433863241395\n 0.8016816657976091\n 0.8931162915594041"
     },
     "metadata": {},
     "execution_count": 24
    }
   ],
   "cell_type": "code",
   "source": [
    "prob = SteadyStateProblem(F, ∇ₓF, x, p)\n",
    "x_final = solve(prob, CTKAlg()).u"
   ],
   "metadata": {},
   "execution_count": 24
  },
  {
   "outputs": [],
   "cell_type": "markdown",
   "source": [
    "Converting radiocarbon into years gives the following values"
   ],
   "metadata": {}
  },
  {
   "outputs": [
    {
     "name": "stdout",
     "output_type": "stream",
     "text": [
      "box 1: 515.4096830423174 yr\n",
      "box 2: 387.26092416145366 yr\n",
      "box 3: 433.2228144719094 yr\n",
      "box 5: 1827.2890596434493 yr\n",
      "box 6: 934.448719655651 yr\n"
     ]
    }
   ],
   "cell_type": "code",
   "source": [
    "C14age_final = -log.(x_final) * p.τ * u\"s\" .|> u\"yr\"\n",
    "println.(\"box \", iwet, \": \", C14age_final);"
   ],
   "metadata": {},
   "execution_count": 25
  },
  {
   "outputs": [],
   "cell_type": "markdown",
   "source": [
    "These are exactly the limit that the Radiocarbon age reaches after about 4000 years of simulation!\n",
    "So what happened there?"
   ],
   "metadata": {}
  },
  {
   "outputs": [],
   "cell_type": "markdown",
   "source": [
    "Well, AIBECS used a version of [Newton's method](https://en.wikipedia.org/wiki/Newton%27s_method) to solve for $\\boldsymbol{F}(\\boldsymbol{x}, \\boldsymbol{p}) = 0$.\n",
    "Simply put, Newton's method iterates on the state via the recursion relation\n",
    "\n",
    "$$\\boldsymbol{x}_{n+1} = \\boldsymbol{x}_n - \\nabla_{\\boldsymbol{x}}\\boldsymbol{F}(\\boldsymbol{x}, \\boldsymbol{p})^{-1} \\boldsymbol{F}(\\boldsymbol{x}, \\boldsymbol{p}).$$"
   ],
   "metadata": {}
  },
  {
   "outputs": [],
   "cell_type": "markdown",
   "source": [
    "Here, our radiocarbon model only requires a single iteration.\n",
    "This is because the state function, $\\boldsymbol{F}(\\boldsymbol{x}, \\boldsymbol{p})$, is linear."
   ],
   "metadata": {}
  },
  {
   "outputs": [],
   "cell_type": "markdown",
   "source": [
    "*This notebook was generated using [Literate.jl](https://github.com/fredrikekre/Literate.jl).*"
   ],
   "metadata": {}
  }
 ],
 "nbformat_minor": 3,
 "metadata": {
  "language_info": {
   "file_extension": ".jl",
   "mimetype": "application/julia",
   "name": "julia",
   "version": "1.1.1"
  },
  "kernelspec": {
   "name": "julia-1.1",
   "display_name": "Julia 1.1.1",
   "language": "julia"
  }
 },
 "nbformat": 4
}
